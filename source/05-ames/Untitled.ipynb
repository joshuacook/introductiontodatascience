{
 "cells": [
  {
   "cell_type": "code",
   "execution_count": 1,
   "metadata": {},
   "outputs": [],
   "source": [
    "import matplotlib.pyplot as plt\n",
    "import seaborn as sns\n",
    "from time import time\n",
    "%matplotlib inline\n"
   ]
  },
  {
   "cell_type": "code",
   "execution_count": 2,
   "metadata": {},
   "outputs": [],
   "source": [
    "run src/preprocessing.py"
   ]
  },
  {
   "cell_type": "code",
   "execution_count": 3,
   "metadata": {},
   "outputs": [],
   "source": [
    "from sklearn.linear_model import LinearRegression\n",
    "model = LinearRegression()"
   ]
  },
  {
   "cell_type": "code",
   "execution_count": 4,
   "metadata": {},
   "outputs": [],
   "source": [
    "def select_best_feature(method, candidate_features, current_features, dataset, target, model):\n",
    "    candidate_features = list(candidate_features)\n",
    "    scores = []\n",
    "    \n",
    "    for feature in candidate_features:\n",
    "        \n",
    "        features = list(current_features)\n",
    "        if method == 'forward':\n",
    "            features.append(feature)\n",
    "        elif method == 'backward':\n",
    "            if len(candidate_features) > 1:\n",
    "                features.remove(feature)\n",
    "        \n",
    "        X = dataset[features]\n",
    "        y = target\n",
    "        model.fit(X, y)\n",
    "        \n",
    "        scores.append(model.score(X, y))\n",
    "        \n",
    "    scores = np.array(scores)\n",
    "    \n",
    "    best_feature_index = np.argmax(scores)\n",
    "    best_feature = candidate_features[best_feature_index]\n",
    "    best_score = scores[best_feature_index]\n",
    "    return best_feature, best_score"
   ]
  },
  {
   "cell_type": "code",
   "execution_count": 5,
   "metadata": {},
   "outputs": [
    {
     "data": {
      "text/plain": [
       "('MSSubClass_60', 0.14515778384355849)"
      ]
     },
     "execution_count": 5,
     "metadata": {},
     "output_type": "execute_result"
    }
   ],
   "source": [
    "select_best_feature('forward', dataset_1.columns[:10], [], dataset_1, target_1, LinearRegression())"
   ]
  },
  {
   "cell_type": "code",
   "execution_count": 6,
   "metadata": {},
   "outputs": [
    {
     "data": {
      "text/plain": [
       "('MSSubClass_40', 0.21963126679987544)"
      ]
     },
     "execution_count": 6,
     "metadata": {},
     "output_type": "execute_result"
    }
   ],
   "source": [
    "select_best_feature('backward', dataset_1.columns[:10], dataset_1.columns[:10], dataset_1, target_1, LinearRegression())"
   ]
  },
  {
   "cell_type": "code",
   "execution_count": 11,
   "metadata": {},
   "outputs": [],
   "source": [
    "def recursive_feature_selection(method, candidate_features, dataset, target, model):\n",
    "    \n",
    "    candidate_features = list(candidate_features)\n",
    "    selected_features = []\n",
    "    scores = []\n",
    "    start = time()\n",
    "    while len(candidate_features) > 0:\n",
    "#         if len(candidate_features) % 10 == 0: print(len(candidate_features))\n",
    "        if method == 'forward':\n",
    "            current_features = list(selected_features)\n",
    "        elif method == 'backward':\n",
    "            current_features = list(candidate_features)\n",
    "                \n",
    "        best_feature, score = select_best_feature(method, candidate_features, current_features, \n",
    "                                                  dataset, target, model)\n",
    "        selected_features.append(best_feature)\n",
    "        candidate_features.remove(best_feature)\n",
    "        scores.append(score)\n",
    "    \n",
    "    end = time() - start\n",
    "    return selected_features, scores, end"
   ]
  },
  {
   "cell_type": "code",
   "execution_count": 8,
   "metadata": {},
   "outputs": [
    {
     "name": "stdout",
     "output_type": "stream",
     "text": [
      "10\n"
     ]
    },
    {
     "data": {
      "text/plain": [
       "(['MSSubClass_60',\n",
       "  'MSSubClass_20',\n",
       "  'MSSubClass_30',\n",
       "  'MSSubClass_50',\n",
       "  'MSSubClass_45',\n",
       "  'MSSubClass_75',\n",
       "  'MSSubClass_80',\n",
       "  'MSSubClass_70',\n",
       "  'MSSubClass_85',\n",
       "  'MSSubClass_40'],\n",
       " [0.14515778384355849,\n",
       "  0.18566205449129347,\n",
       "  0.20999512448051683,\n",
       "  0.21335741869392466,\n",
       "  0.21699659591272702,\n",
       "  0.21832599914290107,\n",
       "  0.21893508494423319,\n",
       "  0.21941410378715098,\n",
       "  0.21963126679987532,\n",
       "  0.21963307296331791],\n",
       " 0.1982131004333496)"
      ]
     },
     "execution_count": 8,
     "metadata": {},
     "output_type": "execute_result"
    }
   ],
   "source": [
    "recursive_feature_selection('forward', dataset_1.columns[:10], dataset_1, target_1, LinearRegression())"
   ]
  },
  {
   "cell_type": "code",
   "execution_count": 9,
   "metadata": {},
   "outputs": [
    {
     "name": "stdout",
     "output_type": "stream",
     "text": [
      "10\n"
     ]
    },
    {
     "data": {
      "text/plain": [
       "(['MSSubClass_40',\n",
       "  'MSSubClass_85',\n",
       "  'MSSubClass_70',\n",
       "  'MSSubClass_80',\n",
       "  'MSSubClass_75',\n",
       "  'MSSubClass_45',\n",
       "  'MSSubClass_50',\n",
       "  'MSSubClass_30',\n",
       "  'MSSubClass_20',\n",
       "  'MSSubClass_60'],\n",
       " [0.21963126679987544,\n",
       "  0.21941410378715098,\n",
       "  0.21893508494423319,\n",
       "  0.21832599914290107,\n",
       "  0.21699659591272691,\n",
       "  0.21335741869392466,\n",
       "  0.20999512448051694,\n",
       "  0.18566205449129347,\n",
       "  0.14515778384355849,\n",
       "  0.14515778384355849],\n",
       " 0.24068284034729004)"
      ]
     },
     "execution_count": 9,
     "metadata": {},
     "output_type": "execute_result"
    }
   ],
   "source": [
    "recursive_feature_selection('backward', dataset_1.columns[:10], dataset_1, target_1, LinearRegression())"
   ]
  },
  {
   "cell_type": "code",
   "execution_count": 12,
   "metadata": {},
   "outputs": [
    {
     "data": {
      "text/plain": [
       "[<matplotlib.lines.Line2D at 0x7faa31aec828>]"
      ]
     },
     "execution_count": 12,
     "metadata": {},
     "output_type": "execute_result"
    },
    {
     "data": {
      "image/png": "[encoded data removed]",
      "text/plain": [
       "<matplotlib.figure.Figure at 0x7faa31bcfda0>"
      ]
     },
     "metadata": {},
     "output_type": "display_data"
    }
   ],
   "source": [
    "times = []\n",
    "for i in range(10):\n",
    "    _, _, t = recursive_feature_selection('forward', dataset_1.columns[:10*(i+1)], dataset_1, target_1, LinearRegression())\n",
    "    times.append(t)\n",
    "plt.plot(times)"
   ]
  },
  {
   "cell_type": "code",
   "execution_count": 13,
   "metadata": {},
   "outputs": [
    {
     "data": {
      "text/plain": [
       "[<matplotlib.lines.Line2D at 0x7faa31a5fc18>]"
      ]
     },
     "execution_count": 13,
     "metadata": {},
     "output_type": "execute_result"
    },
    {
     "data": {
      "image/png": "[encoded data removed]",
      "text/plain": [
       "<matplotlib.figure.Figure at 0x7faa31b3fef0>"
      ]
     },
     "metadata": {},
     "output_type": "display_data"
    }
   ],
   "source": [
    "times = []\n",
    "for i in range(15):\n",
    "    _, _, t = recursive_feature_selection('backward', dataset_1.columns[:10*(i+1)], dataset_1, target_1, LinearRegression())\n",
    "    times.append(t)\n",
    "plt.plot(times)"
   ]
  },
  {
   "cell_type": "code",
   "execution_count": null,
   "metadata": {},
   "outputs": [],
   "source": []
  }
 ],
 "metadata": {
  "kernelspec": {
   "display_name": "Python 3",
   "language": "python",
   "name": "python3"
  },
  "language_info": {
   "codemirror_mode": {
    "name": "ipython",
    "version": 3
   },
   "file_extension": ".py",
   "mimetype": "text/x-python",
   "name": "python",
   "nbconvert_exporter": "python",
   "pygments_lexer": "ipython3",
   "version": "3.6.3"
  }
 },
 "nbformat": 4,
 "nbformat_minor": 2
}
