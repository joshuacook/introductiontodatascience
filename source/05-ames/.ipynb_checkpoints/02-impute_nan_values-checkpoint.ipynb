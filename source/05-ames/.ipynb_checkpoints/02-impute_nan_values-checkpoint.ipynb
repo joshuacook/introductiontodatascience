{
 "cells": [
  {
   "cell_type": "markdown",
   "metadata": {},
   "source": [
    "## Impute Missing Values\n",
    "\n",
    "This data set contains many columns with missing values. This notebook deals with accounting for missing values. Note that all of these commands were added to the file, `src/load_data-02.r` so that in subsequent notebooks the data is loaded via script.\n",
    "\n",
    "There is a challenge to handling these missing values specific to the dataset. The file `doc/data_description.txt` contains a detailed description of each feature in this data set. Here, we see the description for `MasVnrType`.\n",
    "\n",
    "    MasVnrType: Masonry veneer type\n",
    "\n",
    "           BrkCmn\tBrick Common\n",
    "           BrkFace\tBrick Face\n",
    "           CBlock\tCinder Block\n",
    "           None\tNone\n",
    "           Stone\tStone\n",
    "           \n",
    "Note that one attribute for this feature is the value `None` meaning that the house in question does not have a Veneer. This is common in the data set. Unfortunately, upon loading the data, these `None` values will be taken to mean that the data is missing when they should be taken to mean `None`. Adding further complication to this, is the fact that there are features that contain actual missing values.           "
   ]
  },
  {
   "cell_type": "code",
   "execution_count": null,
   "metadata": {},
   "outputs": [],
   "source": [
    "source('src/load_data-01.r')"
   ]
  },
  {
   "cell_type": "code",
   "execution_count": null,
   "metadata": {},
   "outputs": [],
   "source": [
    "dim(housing_df)"
   ]
  },
  {
   "cell_type": "code",
   "execution_count": null,
   "metadata": {},
   "outputs": [],
   "source": [
    "head(housing_df)"
   ]
  },
  {
   "cell_type": "markdown",
   "metadata": {},
   "source": [
    "### Impute `nan` Values"
   ]
  },
  {
   "cell_type": "markdown",
   "metadata": {},
   "source": [
    "We begin by investigating the dataset for `nan` or \"not a number\" values. This value was added to numerical features with missing data. These should be taken as actual missing values."
   ]
  },
  {
   "cell_type": "code",
   "execution_count": null,
   "metadata": {
    "scrolled": false
   },
   "outputs": [],
   "source": [
    "nan_sums = colSums(is.na(housing_df))\n",
    "nan_sums[nan_sums > 0]"
   ]
  },
  {
   "cell_type": "markdown",
   "metadata": {},
   "source": [
    "We will impute the missing values by simply signing to them the mean of the extant values. There is a bit of a trick to this. As shown below taking the mean of a feature with missing values will return a `nan`."
   ]
  },
  {
   "cell_type": "code",
   "execution_count": null,
   "metadata": {},
   "outputs": [],
   "source": [
    " mean(housing_df$LotFrontage)"
   ]
  },
  {
   "cell_type": "markdown",
   "metadata": {},
   "source": [
    "This can be by passing the argument `na.rm=T` to the `mean()` function."
   ]
  },
  {
   "cell_type": "code",
   "execution_count": null,
   "metadata": {},
   "outputs": [],
   "source": [
    "mean(housing_df$LotFrontage, na.rm=T)"
   ]
  },
  {
   "cell_type": "markdown",
   "metadata": {},
   "source": [
    "Here we assign these mean values to variables."
   ]
  },
  {
   "cell_type": "code",
   "execution_count": null,
   "metadata": {},
   "outputs": [],
   "source": [
    "mean_LotFrontage <- mean(housing_df$LotFrontage, na.rm=T)\n",
    "mean_MasVnrArea <- mean(housing_df$MasVnrArea, na.rm=T)\n",
    "mean_GarageYrBlt <- mean(housing_df$GarageYrBlt, na.rm=T)"
   ]
  },
  {
   "cell_type": "markdown",
   "metadata": {},
   "source": [
    "Next, we use the `is.na` function to create a mask for the missing values. We then assign to the missing values the calculated mean value."
   ]
  },
  {
   "cell_type": "code",
   "execution_count": null,
   "metadata": {},
   "outputs": [],
   "source": [
    "housing_df$LotFrontage[is.na(housing_df$LotFrontage)] <- mean_LotFrontage\n",
    "housing_df$MasVnrArea[is.na(housing_df$MasVnrArea)] <- mean_MasVnrArea\n",
    "housing_df$GarageYrBlt[is.na(housing_df$GarageYrBlt)] <- mean_GarageYrBlt"
   ]
  },
  {
   "cell_type": "code",
   "execution_count": null,
   "metadata": {},
   "outputs": [],
   "source": [
    "nan_sums = colSums(is.na(housing_df))\n",
    "nan_sums[nan_sums > 0]"
   ]
  },
  {
   "cell_type": "markdown",
   "metadata": {},
   "source": [
    "### Handling `None` Values"
   ]
  },
  {
   "cell_type": "markdown",
   "metadata": {},
   "source": [
    "Here, we write a set of helper functions to help us to identify the `None` values for our categorical features. Note, that they are currently being stored as simply an empty string. We use masking by creating a mask for empty string values."
   ]
  },
  {
   "cell_type": "code",
   "execution_count": null,
   "metadata": {},
   "outputs": [],
   "source": [
    "count_empty_values <- function (feature) {\n",
    "    empty_string_mask = housing_df[feature] == \"\"\n",
    "    return(length(housing_df[feature][empty_string_mask]))\n",
    "}\n",
    "\n",
    "count_empty_total <- function (){\n",
    "    for (feature in colnames(housing_df)) {\n",
    "        empty_count <- count_empty_values(feature)\n",
    "        if (empty_count > 0) {\n",
    "            print(paste(feature, empty_count))        \n",
    "        }\n",
    "    }\n",
    "}"
   ]
  },
  {
   "cell_type": "code",
   "execution_count": null,
   "metadata": {},
   "outputs": [],
   "source": [
    "count_empty_total()"
   ]
  },
  {
   "cell_type": "markdown",
   "metadata": {},
   "source": [
    "Here, we note that missing values for one of the features should be taken to mean `nan`\n",
    "\n",
    "    Electrical: Electrical system\n",
    "\n",
    "           SBrkr\tStandard Circuit Breakers & Romex\n",
    "           FuseA\tFuse Box over 60 AMP and all Romex wiring (Average)\t\n",
    "           FuseF\t60 AMP Fuse Box and mostly Romex wiring (Fair)\n",
    "           FuseP\t60 AMP Fuse Box and mostly knob & tube wiring (poor)\n",
    "           Mix\tMixed\n",
    "\n",
    "To handle for this, we create two lists one where an empty string signifies `None` and the other where the empty string signifies `nan`."
   ]
  },
  {
   "cell_type": "code",
   "execution_count": null,
   "metadata": {},
   "outputs": [],
   "source": [
    "empty_means_without <-c(\"Alley\",\"BsmtQual\",\"BsmtCond\",\"BsmtExposure\",\"BsmtFinType1\",\n",
    "                        \"BsmtFinType2\", \"FireplaceQu\",\"GarageType\",\"GarageFinish\",\n",
    "                        \"GarageQual\",\"GarageCond\",\"PoolQC\",\"Fence\",\"MiscFeature\",\"MasVnrType\")\n",
    "\n",
    "empty_means_NA <- c(\"Electrical\")"
   ]
  },
  {
   "cell_type": "markdown",
   "metadata": {},
   "source": [
    "We then right a series of helper functions to use the masking on on empty string to properly handle all of these empty strings. Note that where an empty string signifies `None` we assigned the value `\"without\"`."
   ]
  },
  {
   "cell_type": "code",
   "execution_count": null,
   "metadata": {},
   "outputs": [],
   "source": [
    "replace_empty_with_without <- function(feature) {\n",
    "    levels(feature) <- c(levels(feature), \"without\")\n",
    "    empty_string_mask <- feature == ''\n",
    "    feature[empty_string_mask] <- \"without\"\n",
    "    return(feature)\n",
    "}\n",
    "\n",
    "replace_empty_with_NA <- function(feature) {\n",
    "    levels(feature) <- c(levels(feature), NA)\n",
    "    empty_string_mask <- feature == ''\n",
    "    feature[empty_string_mask] <- NA\n",
    "    return(feature)\n",
    "}"
   ]
  },
  {
   "cell_type": "code",
   "execution_count": null,
   "metadata": {},
   "outputs": [],
   "source": [
    "for (feature in empty_means_without) {\n",
    "    housing_df[,feature] <- replace_empty_with_without(housing_df[,feature])\n",
    "}\n",
    "\n",
    "for (feature in empty_means_NA) {\n",
    "    housing_df[,feature] <- replace_empty_with_NA(housing_df[,feature])\n",
    "}"
   ]
  },
  {
   "cell_type": "code",
   "execution_count": null,
   "metadata": {},
   "outputs": [],
   "source": [
    "count_empty_total()"
   ]
  },
  {
   "cell_type": "code",
   "execution_count": null,
   "metadata": {},
   "outputs": [],
   "source": [
    "nan_sums = colSums(is.na(housing_df))\n",
    "nan_sums[nan_sums > 0]"
   ]
  },
  {
   "cell_type": "markdown",
   "metadata": {},
   "source": [
    "Following this, we still have a `nan` value that has not been dealt with. As the affected data amounts to less than .1% our our total data, we simply drop the affected row."
   ]
  },
  {
   "cell_type": "code",
   "execution_count": null,
   "metadata": {},
   "outputs": [],
   "source": [
    "housing_df <- na.omit(housing_df)"
   ]
  },
  {
   "cell_type": "code",
   "execution_count": null,
   "metadata": {},
   "outputs": [],
   "source": []
  }
 ],
 "metadata": {
  "kernelspec": {
   "display_name": "R",
   "language": "R",
   "name": "ir"
  },
  "language_info": {
   "codemirror_mode": "r",
   "file_extension": ".r",
   "mimetype": "text/x-r-source",
   "name": "R",
   "pygments_lexer": "r",
   "version": "3.4.1"
  }
 },
 "nbformat": 4,
 "nbformat_minor": 2
}
