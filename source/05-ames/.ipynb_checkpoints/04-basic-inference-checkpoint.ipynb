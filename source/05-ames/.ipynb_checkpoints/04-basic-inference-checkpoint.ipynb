{
 "cells": [
  {
   "cell_type": "code",
   "execution_count": null,
   "metadata": {},
   "outputs": [],
   "source": [
    "source('../src/load_data-02.r')\n",
    "source('../src/multiplot.r')"
   ]
  },
  {
   "cell_type": "code",
   "execution_count": null,
   "metadata": {},
   "outputs": [],
   "source": [
    "attach(housing_df)"
   ]
  },
  {
   "cell_type": "code",
   "execution_count": null,
   "metadata": {},
   "outputs": [],
   "source": [
    "hist_with_kde(SalePrice)"
   ]
  },
  {
   "cell_type": "markdown",
   "metadata": {},
   "source": [
    "## Testing and Estimation"
   ]
  },
  {
   "cell_type": "markdown",
   "metadata": {},
   "source": [
    "Let $M$ denote the median hours price at which homes sell in Ames, Iowa. Let us test the hypothesis that median price is \\$150000. \n",
    "\n",
    "Let $p$ denote the proporation of housees that sold for at least $150000. \n",
    "\n",
    "If the median sale price is \\$150000, then the proportion $p=0.5$. We can restate this as the hypothesis:\n",
    "\n",
    "$$H: p=0.5$$"
   ]
  },
  {
   "cell_type": "code",
   "execution_count": null,
   "metadata": {},
   "outputs": [],
   "source": [
    "greater_than_150k = ifelse(SalePrice >= 150000, \"yes\", \"no\")"
   ]
  },
  {
   "cell_type": "code",
   "execution_count": null,
   "metadata": {},
   "outputs": [],
   "source": [
    "table(greater_than_150k)"
   ]
  },
  {
   "cell_type": "markdown",
   "metadata": {},
   "source": [
    "More than 836 houses sold for more than \\$150000. "
   ]
  },
  {
   "cell_type": "markdown",
   "metadata": {},
   "source": [
    "## Proportion Tests"
   ]
  },
  {
   "cell_type": "markdown",
   "metadata": {},
   "source": [
    "If $H$ is true, then the number of yes's has a binomial $(n=1451, p=0.5)$ distribution with mean $np$ and variance $np(1-p)$. In addition, if $n$ is large, then the number of yes's is approximately normal. "
   ]
  },
  {
   "cell_type": "markdown",
   "metadata": {},
   "source": [
    "<img src=https://www.evernote.com/l/AAE6VhzJPI5FYYXzXeiAAgaFMQeir-3Y_0IB/image.png width=400px>"
   ]
  },
  {
   "cell_type": "markdown",
   "metadata": {},
   "source": [
    "The traditional test for a proportion is based on the assumption that, when the population proportion is $p = 0.5$, the number of yes’s $y$ in a sample of $n$ is\n",
    "approximately normally distributed with mean $n/2$ and standard deviation $\\sqrt{n/4}$. \n",
    "\n",
    "The $Z$ statistic\n",
    "\n",
    "$$Z = \\frac{y-np}{\\sqrt{np(1-p)}}$$\n",
    "\n",
    "is approximately standard normal."
   ]
  },
  {
   "cell_type": "markdown",
   "metadata": {},
   "source": [
    "One computes the statistic $z_{obs}$ from the sample and one decides whether to accept or reject $H$ by computing the lower tail probability $P(Z \\leq z_{obs})$. If the alternative hypothesis is that $p < 0.5$, the p-value is equal to the lower tail probability; if the alternative is two-sided where p ̸= 0.5, the p-value is double the lower-tail probability."
   ]
  },
  {
   "cell_type": "code",
   "execution_count": null,
   "metadata": {},
   "outputs": [],
   "source": [
    "y <- 836; n <- 1451\n",
    "Test <- prop.test(y, n, p=0.5, \n",
    "                  alternative = \"two.sided\",\n",
    "                  correct = FALSE)"
   ]
  },
  {
   "cell_type": "code",
   "execution_count": null,
   "metadata": {},
   "outputs": [],
   "source": [
    "Test"
   ]
  },
  {
   "cell_type": "code",
   "execution_count": null,
   "metadata": {},
   "outputs": [],
   "source": [
    "names(Test)"
   ]
  },
  {
   "cell_type": "code",
   "execution_count": null,
   "metadata": {},
   "outputs": [],
   "source": [
    "Test$estimate"
   ]
  },
  {
   "cell_type": "markdown",
   "metadata": {},
   "source": [
    "## One-sample $t$-statistic methods"
   ]
  },
  {
   "cell_type": "markdown",
   "metadata": {},
   "source": [
    "The R function `t.test` performs the calculations for the traditional inference procedures for a population mean."
   ]
  },
  {
   "cell_type": "markdown",
   "metadata": {},
   "source": [
    "If the observations represent a random sample from a normal population with unknown mean $\\mu$, the statistic"
   ]
  },
  {
   "cell_type": "markdown",
   "metadata": {},
   "source": [
    "$$T=\\frac{\\sqrt{n}(\\bar{y}-\\mu)}{s}$$"
   ]
  },
  {
   "cell_type": "markdown",
   "metadata": {},
   "source": [
    "has a $t$ distribution with $\\nu=n−1$ degrees of freedom, where $\\bar{y}$, $s$, and $n$ are respectively the sample mean, sample standard deviation, and sample size."
   ]
  },
  {
   "cell_type": "markdown",
   "metadata": {},
   "source": [
    "<img src=https://www.evernote.com/l/AAHk8pjyuCVJDbOOSbLzJS0qAFgszP_zH2gB/image.png width=400px>"
   ]
  },
  {
   "cell_type": "markdown",
   "metadata": {},
   "source": [
    "To illustrate this function, suppose we wish to test the hypothesis that the mean sale price is \\$162K  and also construct a 90% interval estimate for the population mean. "
   ]
  },
  {
   "cell_type": "markdown",
   "metadata": {},
   "source": [
    "Because the t-test assumes normality in the underlying data, before we use `t.test`, we should check if it is reasonable to assume the sale prices are normally distributed. \n",
    "\n",
    "*[Can I use a t-test if the data is not normal](http://thestatsgeek.com/2013/09/28/the-t-test-and-robustness-to-non-normality/)?*"
   ]
  },
  {
   "cell_type": "code",
   "execution_count": null,
   "metadata": {},
   "outputs": [],
   "source": [
    "hist_with_kde(SalePrice)"
   ]
  },
  {
   "cell_type": "code",
   "execution_count": null,
   "metadata": {},
   "outputs": [],
   "source": [
    "qqnorm(SalePrice)\n",
    "qqline(SalePrice)"
   ]
  },
  {
   "cell_type": "markdown",
   "metadata": {},
   "source": [
    "A histogram of the times is constructed by the hist function. The `qqnorm` function produces a normal probability plot of the prices and the `qqline` function overlays a line on the plot passing through the first and third quartiles."
   ]
  },
  {
   "cell_type": "markdown",
   "metadata": {},
   "source": [
    "Looking at the graph, it is clear that there are some values that are not consistent with the normal distribution assumption. There are several ways one could handle this problem:\n",
    "\n",
    "- one could **remove the outliers** and apply the t methods to the modified data\n",
    "- one could apply a different inferential procedure that rests on a more general assumption about the distribution of the population i.e a **nonparametric method**"
   ]
  },
  {
   "cell_type": "markdown",
   "metadata": {},
   "source": [
    "### Remove The Outliers"
   ]
  },
  {
   "cell_type": "code",
   "execution_count": null,
   "metadata": {},
   "outputs": [],
   "source": [
    "SalePrice.less_than300000 <- SalePrice[SalePrice < 3E5]"
   ]
  },
  {
   "cell_type": "code",
   "execution_count": null,
   "metadata": {},
   "outputs": [],
   "source": [
    "hist_with_kde(SalePrice.less_than300000)"
   ]
  },
  {
   "cell_type": "code",
   "execution_count": null,
   "metadata": {},
   "outputs": [],
   "source": [
    "qqnorm(SalePrice.less_than300000)\n",
    "qqline(SalePrice.less_than300000)"
   ]
  },
  {
   "cell_type": "markdown",
   "metadata": {},
   "source": [
    "With the outliers removed, the assumption that the data comes from a normal population seems reasonable, and we can apply the procedures based on the t distribution."
   ]
  },
  {
   "cell_type": "code",
   "execution_count": null,
   "metadata": {},
   "outputs": [],
   "source": [
    "t.test(SalePrice.less_than300000,\n",
    "       mu = 1.62e5, \n",
    "       conf.level = 0.90,\n",
    "       conf.int = TRUE)"
   ]
  },
  {
   "cell_type": "markdown",
   "metadata": {},
   "source": [
    "Because the $p$-value is large, there is insufficient evidence from the data to conclude the mean sale price is not \\$162K."
   ]
  },
  {
   "cell_type": "markdown",
   "metadata": {},
   "source": [
    "### Nonparametric Methods"
   ]
  },
  {
   "cell_type": "markdown",
   "metadata": {},
   "source": [
    "https://en.wikipedia.org/wiki/Wilcoxon_signed-rank_test"
   ]
  },
  {
   "cell_type": "code",
   "execution_count": null,
   "metadata": {},
   "outputs": [],
   "source": [
    "W <- wilcox.test(SalePrice,\n",
    "                 mu = 1.62e5, \n",
    "                 conf.level = 0.90,\n",
    "                 conf.int = TRUE)"
   ]
  },
  {
   "cell_type": "code",
   "execution_count": null,
   "metadata": {},
   "outputs": [],
   "source": [
    "W$conf.int"
   ]
  },
  {
   "cell_type": "code",
   "execution_count": null,
   "metadata": {},
   "outputs": [],
   "source": []
  }
 ],
 "metadata": {
  "kernelspec": {
   "display_name": "R",
   "language": "R",
   "name": "ir"
  },
  "language_info": {
   "codemirror_mode": "r",
   "file_extension": ".r",
   "mimetype": "text/x-r-source",
   "name": "R",
   "pygments_lexer": "r",
   "version": "3.4.1"
  }
 },
 "nbformat": 4,
 "nbformat_minor": 2
}
