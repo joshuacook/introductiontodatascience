{
 "cells": [
  {
   "cell_type": "code",
   "execution_count": null,
   "metadata": {},
   "outputs": [],
   "source": [
    "source('../src/load_data.r')\n",
    "source('../src/multiplot.r')"
   ]
  },
  {
   "cell_type": "code",
   "execution_count": null,
   "metadata": {},
   "outputs": [],
   "source": [
    "dim(housing_df)"
   ]
  },
  {
   "cell_type": "code",
   "execution_count": null,
   "metadata": {},
   "outputs": [],
   "source": [
    "head(housing_df)"
   ]
  },
  {
   "cell_type": "code",
   "execution_count": null,
   "metadata": {},
   "outputs": [],
   "source": [
    "count_empty_total()"
   ]
  },
  {
   "cell_type": "code",
   "execution_count": null,
   "metadata": {
    "scrolled": false
   },
   "outputs": [],
   "source": [
    "numeric_features = colnames(Filter(is.numeric, housing_df))\n",
    "numeric_features"
   ]
  },
  {
   "cell_type": "code",
   "execution_count": null,
   "metadata": {},
   "outputs": [],
   "source": [
    "factor_features = colnames(Filter(is.factor, housing_df))\n",
    "factor_features"
   ]
  },
  {
   "cell_type": "code",
   "execution_count": null,
   "metadata": {},
   "outputs": [],
   "source": [
    "attach(housing_df)"
   ]
  },
  {
   "cell_type": "markdown",
   "metadata": {},
   "source": [
    "## Normality Check"
   ]
  },
  {
   "cell_type": "markdown",
   "metadata": {},
   "source": [
    "### QQ-Plots\n",
    "\n",
    "The quantiles of a given data set are plotted against the quantiles of a reference distribution, typically the standard normal distribution."
   ]
  },
  {
   "cell_type": "code",
   "execution_count": null,
   "metadata": {
    "scrolled": false
   },
   "outputs": [],
   "source": [
    "qqnorm(SalePrice)\n",
    "qqline(SalePrice)"
   ]
  },
  {
   "cell_type": "markdown",
   "metadata": {},
   "source": [
    "### Tests for Normality"
   ]
  },
  {
   "cell_type": "markdown",
   "metadata": {},
   "source": [
    "The Shapiro–Wilk test tests the normality of a given distribution.\n",
    "\n",
    "The null-hypothesis of this test is that the population is normally distributed. Thus, if the p-value is less than the chosen alpha level, then the null hypothesis is rejected and there is evidence that the data tested are not from a normally distributed population; in other words, the data are not normal."
   ]
  },
  {
   "cell_type": "code",
   "execution_count": null,
   "metadata": {
    "scrolled": true
   },
   "outputs": [],
   "source": [
    "shapiro.test(SalePrice)"
   ]
  },
  {
   "cell_type": "markdown",
   "metadata": {},
   "source": [
    "## Hypothesis Tests in General"
   ]
  },
  {
   "cell_type": "markdown",
   "metadata": {},
   "source": [
    "1. A random sample is drawn from a population.\n",
    "1. A null hypothesis is formed e.g. there is no difference between the distribution of the population and the standard normal distribution.\n",
    "1. A test-statistic is calculated, one for which we know the probability distribution.\n",
    "1. Comparing the observed value of the statistic with the corresponding distribution, we can find the likelihood that a value as or more extreme than the observed on is found by random chance. This is the $p$-value.\n",
    "1. If the p-value is less then some number (usuall if $p < 0.05$, we reject the null hypothesis, and spea of a statistically significant difference. \n",
    "   - If a value of $P<0.001$ is obtained, the result is typically called *highly significant*. \n",
    "   - i.e. the $p$-value states how likely it is that we would obaint a value as extreme as we have *if the null hypothesis is true*."
   ]
  },
  {
   "cell_type": "markdown",
   "metadata": {},
   "source": [
    "# WARNING"
   ]
  },
  {
   "cell_type": "markdown",
   "metadata": {},
   "source": [
    "A value of $p<0.05$ for the null hypothesis has to be interpreted as follows: \n",
    "\n",
    "> *If the null hypothesis is true, the chance of a test statistic as or more extreme than the one observed is less than 5%*\n",
    "\n",
    "This is **not** the same as saying the that null hypothesis is false.\n",
    "\n",
    "This is **DEFINITELY NOT THE SAME** as saying that an alternative hypothesis is true."
   ]
  }
 ],
 "metadata": {
  "kernelspec": {
   "display_name": "R",
   "language": "R",
   "name": "ir"
  },
  "language_info": {
   "codemirror_mode": "r",
   "file_extension": ".r",
   "mimetype": "text/x-r-source",
   "name": "R",
   "pygments_lexer": "r",
   "version": "3.4.1"
  }
 },
 "nbformat": 4,
 "nbformat_minor": 2
}
