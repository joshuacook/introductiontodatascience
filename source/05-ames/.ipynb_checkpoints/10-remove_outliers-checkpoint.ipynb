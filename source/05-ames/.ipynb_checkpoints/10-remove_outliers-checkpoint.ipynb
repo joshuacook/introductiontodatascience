{
 "cells": [
  {
   "cell_type": "code",
   "execution_count": 1,
   "metadata": {},
   "outputs": [],
   "source": [
    "run src/load_data.py"
   ]
  },
  {
   "cell_type": "code",
   "execution_count": 2,
   "metadata": {},
   "outputs": [
    {
     "name": "stdout",
     "output_type": "stream",
     "text": [
      "Variable                     Type         Data/Info\n",
      "---------------------------------------------------\n",
      "housing_df                   DataFrame         MSSubClass MSZoning <...>n[1451 rows x 80 columns]\n",
      "housing_ouliers_removed_df   DataFrame         MSSubClass MSZoning <...>n[1437 rows x 80 columns]\n",
      "listing_df                   DataFrame            Id Street Alley  <...>n[1460 rows x 62 columns]\n",
      "numeric_df                   DataFrame          LotFrontage  LotAre<...>n[1451 rows x 23 columns]\n",
      "numeric_final_df             DataFrame          LotFrontage   LotAr<...>n[1437 rows x 23 columns]\n",
      "numeric_log_df               DataFrame          LotFrontage    LotA<...>n[1451 rows x 23 columns]\n",
      "numeric_log_sc_df            DataFrame          LotFrontage   LotAr<...>n[1451 rows x 23 columns]\n",
      "numeric_sc_df                DataFrame          LotFrontage   LotAr<...>n[1451 rows x 23 columns]\n",
      "sale_df                      DataFrame            Id  MoSold  YrSol<...>\\n[1460 rows x 6 columns]\n",
      "zoning_df                    DataFrame            Id  MSSubClass MS<...>n[1460 rows x 15 columns]\n"
     ]
    }
   ],
   "source": [
    "whos DataFrame"
   ]
  },
  {
   "cell_type": "code",
   "execution_count": 3,
   "metadata": {},
   "outputs": [],
   "source": [
    "def display_outliers(dataframe, col, param=1.5):\n",
    "    Q1 = np.percentile(dataframe[col], 25)\n",
    "    Q3 = np.percentile(dataframe[col], 75)\n",
    "    tukey_window = param*(Q3-Q1)\n",
    "    less_than_Q1 = dataframe[col] < Q1 - tukey_window\n",
    "    greater_than_Q3 = dataframe[col] > Q3 + tukey_window\n",
    "    tukey_mask = (less_than_Q1 | greater_than_Q3)\n",
    "    return dataframe[tukey_mask]"
   ]
  },
  {
   "cell_type": "code",
   "execution_count": 4,
   "metadata": {},
   "outputs": [
    {
     "name": "stdout",
     "output_type": "stream",
     "text": [
      "LotFrontage (106, 23)\n",
      "LotArea (67, 23)\n",
      "YearBuilt (7, 23)\n",
      "YearRemodAdd (0, 23)\n",
      "MasVnrArea (96, 23)\n",
      "BsmtFinSF1 (7, 23)\n",
      "BsmtFinSF2 (167, 23)\n",
      "BsmtUnfSF (28, 23)\n",
      "TotalBsmtSF (60, 23)\n",
      "FirstFlrSF (19, 23)\n",
      "SecondFlrSF (2, 23)\n",
      "LowQualFinSF (26, 23)\n",
      "GrLivArea (31, 23)\n",
      "GarageYrBlt (1, 23)\n",
      "GarageArea (20, 23)\n",
      "WoodDeckSF (32, 23)\n",
      "OpenPorchSF (75, 23)\n",
      "EnclosedPorch (207, 23)\n",
      "ThreeSsnPorch (24, 23)\n",
      "ScreenPorch (116, 23)\n",
      "PoolArea (7, 23)\n",
      "MiscVal (52, 23)\n",
      "YrSold (0, 23)\n"
     ]
    }
   ],
   "source": [
    "for col in numeric_log_sc_df:\n",
    "    print(col, display_outliers(numeric_log_sc_df, col).shape)\n"
   ]
  },
  {
   "cell_type": "code",
   "execution_count": 5,
   "metadata": {},
   "outputs": [],
   "source": [
    "from collections import Counter"
   ]
  },
  {
   "cell_type": "code",
   "execution_count": 6,
   "metadata": {},
   "outputs": [],
   "source": [
    "raw_outliers = []\n",
    "for col in numeric_log_sc_df:\n",
    "    outlier_df = display_outliers(numeric_log_sc_df, col)\n",
    "    raw_outliers += list(outlier_df.index)\n",
    "outlier_count = Counter(raw_outliers)\n",
    "outliers = [k for k,v in outlier_count.items() if v > 1]"
   ]
  },
  {
   "cell_type": "code",
   "execution_count": 7,
   "metadata": {},
   "outputs": [
    {
     "data": {
      "text/plain": [
       "245"
      ]
     },
     "execution_count": 7,
     "metadata": {},
     "output_type": "execute_result"
    }
   ],
   "source": [
    "len(outliers)"
   ]
  },
  {
   "cell_type": "code",
   "execution_count": 8,
   "metadata": {},
   "outputs": [
    {
     "data": {
      "text/plain": [
       "0.16884906960716747"
      ]
     },
     "execution_count": 8,
     "metadata": {},
     "output_type": "execute_result"
    }
   ],
   "source": [
    "len(outliers)/numeric_log_sc_df.shape[0]"
   ]
  },
  {
   "cell_type": "code",
   "execution_count": 9,
   "metadata": {},
   "outputs": [
    {
     "data": {
      "text/plain": [
       "0.009648518263266712"
      ]
     },
     "execution_count": 9,
     "metadata": {},
     "output_type": "execute_result"
    }
   ],
   "source": [
    "raw_outliers = []\n",
    "for col in numeric_log_sc_df:\n",
    "    outlier_df = display_outliers(numeric_log_sc_df, col)\n",
    "    raw_outliers += list(outlier_df.index)\n",
    "outlier_count = Counter(raw_outliers)\n",
    "outliers = [k for k,v in outlier_count.items() if v > 4]\n",
    "len(outliers)/numeric_log_sc_df.shape[0]"
   ]
  },
  {
   "cell_type": "code",
   "execution_count": 10,
   "metadata": {},
   "outputs": [
    {
     "data": {
      "text/plain": [
       "[198, 524, 1174, 1183, 1299, 186, 692, 770, 179, 225, 804, 889, 1387, 497]"
      ]
     },
     "execution_count": 10,
     "metadata": {},
     "output_type": "execute_result"
    }
   ],
   "source": [
    "outliers"
   ]
  },
  {
   "cell_type": "code",
   "execution_count": null,
   "metadata": {},
   "outputs": [],
   "source": []
  }
 ],
 "metadata": {
  "kernelspec": {
   "display_name": "Python 3",
   "language": "python",
   "name": "python3"
  },
  "language_info": {
   "codemirror_mode": {
    "name": "ipython",
    "version": 3
   },
   "file_extension": ".py",
   "mimetype": "text/x-python",
   "name": "python",
   "nbconvert_exporter": "python",
   "pygments_lexer": "ipython3",
   "version": "3.6.5"
  }
 },
 "nbformat": 4,
 "nbformat_minor": 2
}
