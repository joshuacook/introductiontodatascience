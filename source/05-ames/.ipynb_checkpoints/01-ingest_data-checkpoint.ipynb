{
 "cells": [
  {
   "cell_type": "markdown",
   "metadata": {},
   "source": [
    "## Ingest the Data\n",
    "\n",
    "This notebook contains the basic commands required to ingest the data for our work. Note that all of these commands were added to the file, `src/load_data-01.r` so that in subsequent notebooks the data is loaded via script.\n",
    "\n",
    "### Join the Data Sets\n",
    "\n",
    "Often you will receive data describing the same instances from multiple data sources. The original Ames, Iowa housing data has been arbitrarily split in order to allow us the opportunity to practice joining data from different sources. "
   ]
  },
  {
   "cell_type": "code",
   "execution_count": 1,
   "metadata": {},
   "outputs": [],
   "source": [
    "zoning_df = read.csv('data/zoning.csv')\n",
    "listing_df = read.csv('data/listing.csv')\n",
    "sale_df = read.csv('data/sale.csv')"
   ]
  },
  {
   "cell_type": "code",
   "execution_count": 2,
   "metadata": {},
   "outputs": [
    {
     "data": {
      "text/html": [
       "<table>\n",
       "<thead><tr><th scope=col>Id</th><th scope=col>MSSubClass</th><th scope=col>MSZoning</th><th scope=col>LotFrontage</th><th scope=col>LotArea</th><th scope=col>LotShape</th><th scope=col>LandContour</th><th scope=col>Utilities</th><th scope=col>LotConfig</th><th scope=col>LandSlope</th><th scope=col>Neighborhood</th><th scope=col>Condition1</th><th scope=col>Condition2</th><th scope=col>BldgType</th><th scope=col>HouseStyle</th></tr></thead>\n",
       "<tbody>\n",
       "\t<tr><td>1      </td><td>60     </td><td>RL     </td><td>65     </td><td> 8450  </td><td>Reg    </td><td>Lvl    </td><td>AllPub </td><td>Inside </td><td>Gtl    </td><td>CollgCr</td><td>Norm   </td><td>Norm   </td><td>1Fam   </td><td>2Story </td></tr>\n",
       "\t<tr><td>2      </td><td>20     </td><td>RL     </td><td>80     </td><td> 9600  </td><td>Reg    </td><td>Lvl    </td><td>AllPub </td><td>FR2    </td><td>Gtl    </td><td>Veenker</td><td>Feedr  </td><td>Norm   </td><td>1Fam   </td><td>1Story </td></tr>\n",
       "\t<tr><td>3      </td><td>60     </td><td>RL     </td><td>68     </td><td>11250  </td><td>IR1    </td><td>Lvl    </td><td>AllPub </td><td>Inside </td><td>Gtl    </td><td>CollgCr</td><td>Norm   </td><td>Norm   </td><td>1Fam   </td><td>2Story </td></tr>\n",
       "\t<tr><td>4      </td><td>70     </td><td>RL     </td><td>60     </td><td> 9550  </td><td>IR1    </td><td>Lvl    </td><td>AllPub </td><td>Corner </td><td>Gtl    </td><td>Crawfor</td><td>Norm   </td><td>Norm   </td><td>1Fam   </td><td>2Story </td></tr>\n",
       "\t<tr><td>5      </td><td>60     </td><td>RL     </td><td>84     </td><td>14260  </td><td>IR1    </td><td>Lvl    </td><td>AllPub </td><td>FR2    </td><td>Gtl    </td><td>NoRidge</td><td>Norm   </td><td>Norm   </td><td>1Fam   </td><td>2Story </td></tr>\n",
       "\t<tr><td>6      </td><td>50     </td><td>RL     </td><td>85     </td><td>14115  </td><td>IR1    </td><td>Lvl    </td><td>AllPub </td><td>Inside </td><td>Gtl    </td><td>Mitchel</td><td>Norm   </td><td>Norm   </td><td>1Fam   </td><td>1.5Fin </td></tr>\n",
       "</tbody>\n",
       "</table>\n"
      ],
      "text/latex": [
       "\\begin{tabular}{r|lllllllllllllll}\n",
       " Id & MSSubClass & MSZoning & LotFrontage & LotArea & LotShape & LandContour & Utilities & LotConfig & LandSlope & Neighborhood & Condition1 & Condition2 & BldgType & HouseStyle\\\\\n",
       "\\hline\n",
       "\t 1       & 60      & RL      & 65      &  8450   & Reg     & Lvl     & AllPub  & Inside  & Gtl     & CollgCr & Norm    & Norm    & 1Fam    & 2Story \\\\\n",
       "\t 2       & 20      & RL      & 80      &  9600   & Reg     & Lvl     & AllPub  & FR2     & Gtl     & Veenker & Feedr   & Norm    & 1Fam    & 1Story \\\\\n",
       "\t 3       & 60      & RL      & 68      & 11250   & IR1     & Lvl     & AllPub  & Inside  & Gtl     & CollgCr & Norm    & Norm    & 1Fam    & 2Story \\\\\n",
       "\t 4       & 70      & RL      & 60      &  9550   & IR1     & Lvl     & AllPub  & Corner  & Gtl     & Crawfor & Norm    & Norm    & 1Fam    & 2Story \\\\\n",
       "\t 5       & 60      & RL      & 84      & 14260   & IR1     & Lvl     & AllPub  & FR2     & Gtl     & NoRidge & Norm    & Norm    & 1Fam    & 2Story \\\\\n",
       "\t 6       & 50      & RL      & 85      & 14115   & IR1     & Lvl     & AllPub  & Inside  & Gtl     & Mitchel & Norm    & Norm    & 1Fam    & 1.5Fin \\\\\n",
       "\\end{tabular}\n"
      ],
      "text/markdown": [
       "\n",
       "Id | MSSubClass | MSZoning | LotFrontage | LotArea | LotShape | LandContour | Utilities | LotConfig | LandSlope | Neighborhood | Condition1 | Condition2 | BldgType | HouseStyle | \n",
       "|---|---|---|---|---|---|\n",
       "| 1       | 60      | RL      | 65      |  8450   | Reg     | Lvl     | AllPub  | Inside  | Gtl     | CollgCr | Norm    | Norm    | 1Fam    | 2Story  | \n",
       "| 2       | 20      | RL      | 80      |  9600   | Reg     | Lvl     | AllPub  | FR2     | Gtl     | Veenker | Feedr   | Norm    | 1Fam    | 1Story  | \n",
       "| 3       | 60      | RL      | 68      | 11250   | IR1     | Lvl     | AllPub  | Inside  | Gtl     | CollgCr | Norm    | Norm    | 1Fam    | 2Story  | \n",
       "| 4       | 70      | RL      | 60      |  9550   | IR1     | Lvl     | AllPub  | Corner  | Gtl     | Crawfor | Norm    | Norm    | 1Fam    | 2Story  | \n",
       "| 5       | 60      | RL      | 84      | 14260   | IR1     | Lvl     | AllPub  | FR2     | Gtl     | NoRidge | Norm    | Norm    | 1Fam    | 2Story  | \n",
       "| 6       | 50      | RL      | 85      | 14115   | IR1     | Lvl     | AllPub  | Inside  | Gtl     | Mitchel | Norm    | Norm    | 1Fam    | 1.5Fin  | \n",
       "\n",
       "\n"
      ],
      "text/plain": [
       "  Id MSSubClass MSZoning LotFrontage LotArea LotShape LandContour Utilities\n",
       "1 1  60         RL       65           8450   Reg      Lvl         AllPub   \n",
       "2 2  20         RL       80           9600   Reg      Lvl         AllPub   \n",
       "3 3  60         RL       68          11250   IR1      Lvl         AllPub   \n",
       "4 4  70         RL       60           9550   IR1      Lvl         AllPub   \n",
       "5 5  60         RL       84          14260   IR1      Lvl         AllPub   \n",
       "6 6  50         RL       85          14115   IR1      Lvl         AllPub   \n",
       "  LotConfig LandSlope Neighborhood Condition1 Condition2 BldgType HouseStyle\n",
       "1 Inside    Gtl       CollgCr      Norm       Norm       1Fam     2Story    \n",
       "2 FR2       Gtl       Veenker      Feedr      Norm       1Fam     1Story    \n",
       "3 Inside    Gtl       CollgCr      Norm       Norm       1Fam     2Story    \n",
       "4 Corner    Gtl       Crawfor      Norm       Norm       1Fam     2Story    \n",
       "5 FR2       Gtl       NoRidge      Norm       Norm       1Fam     2Story    \n",
       "6 Inside    Gtl       Mitchel      Norm       Norm       1Fam     1.5Fin    "
      ]
     },
     "metadata": {},
     "output_type": "display_data"
    }
   ],
   "source": [
    "head(zoning_df)"
   ]
  },
  {
   "cell_type": "code",
   "execution_count": 3,
   "metadata": {},
   "outputs": [
    {
     "data": {
      "text/html": [
       "<table>\n",
       "<thead><tr><th scope=col>Id</th><th scope=col>Street</th><th scope=col>Alley</th><th scope=col>OverallQual</th><th scope=col>OverallCond</th><th scope=col>YearBuilt</th><th scope=col>YearRemodAdd</th><th scope=col>RoofStyle</th><th scope=col>RoofMatl</th><th scope=col>Exterior1st</th><th scope=col>⋯</th><th scope=col>WoodDeckSF</th><th scope=col>OpenPorchSF</th><th scope=col>EnclosedPorch</th><th scope=col>ThreeSsnPorch</th><th scope=col>ScreenPorch</th><th scope=col>PoolArea</th><th scope=col>PoolQC</th><th scope=col>Fence</th><th scope=col>MiscFeature</th><th scope=col>MiscVal</th></tr></thead>\n",
       "<tbody>\n",
       "\t<tr><td>1      </td><td>Pave   </td><td>       </td><td>7      </td><td>5      </td><td>2003   </td><td>2003   </td><td>Gable  </td><td>CompShg</td><td>VinylSd</td><td>⋯      </td><td>  0    </td><td>61     </td><td>  0    </td><td>  0    </td><td>0      </td><td>0      </td><td>       </td><td>       </td><td>       </td><td>  0    </td></tr>\n",
       "\t<tr><td>2      </td><td>Pave   </td><td>       </td><td>6      </td><td>8      </td><td>1976   </td><td>1976   </td><td>Gable  </td><td>CompShg</td><td>MetalSd</td><td>⋯      </td><td>298    </td><td> 0     </td><td>  0    </td><td>  0    </td><td>0      </td><td>0      </td><td>       </td><td>       </td><td>       </td><td>  0    </td></tr>\n",
       "\t<tr><td>3      </td><td>Pave   </td><td>       </td><td>7      </td><td>5      </td><td>2001   </td><td>2002   </td><td>Gable  </td><td>CompShg</td><td>VinylSd</td><td>⋯      </td><td>  0    </td><td>42     </td><td>  0    </td><td>  0    </td><td>0      </td><td>0      </td><td>       </td><td>       </td><td>       </td><td>  0    </td></tr>\n",
       "\t<tr><td>4      </td><td>Pave   </td><td>       </td><td>7      </td><td>5      </td><td>1915   </td><td>1970   </td><td>Gable  </td><td>CompShg</td><td>Wd Sdng</td><td>⋯      </td><td>  0    </td><td>35     </td><td>272    </td><td>  0    </td><td>0      </td><td>0      </td><td>       </td><td>       </td><td>       </td><td>  0    </td></tr>\n",
       "\t<tr><td>5      </td><td>Pave   </td><td>       </td><td>8      </td><td>5      </td><td>2000   </td><td>2000   </td><td>Gable  </td><td>CompShg</td><td>VinylSd</td><td>⋯      </td><td>192    </td><td>84     </td><td>  0    </td><td>  0    </td><td>0      </td><td>0      </td><td>       </td><td>       </td><td>       </td><td>  0    </td></tr>\n",
       "\t<tr><td>6      </td><td>Pave   </td><td>       </td><td>5      </td><td>5      </td><td>1993   </td><td>1995   </td><td>Gable  </td><td>CompShg</td><td>VinylSd</td><td>⋯      </td><td> 40    </td><td>30     </td><td>  0    </td><td>320    </td><td>0      </td><td>0      </td><td>       </td><td>MnPrv  </td><td>Shed   </td><td>700    </td></tr>\n",
       "</tbody>\n",
       "</table>\n"
      ],
      "text/latex": [
       "\\begin{tabular}{r|llllllllllllllllllllllllllllllllllllllllllllllllllllllllllllll}\n",
       " Id & Street & Alley & OverallQual & OverallCond & YearBuilt & YearRemodAdd & RoofStyle & RoofMatl & Exterior1st & ⋯ & WoodDeckSF & OpenPorchSF & EnclosedPorch & ThreeSsnPorch & ScreenPorch & PoolArea & PoolQC & Fence & MiscFeature & MiscVal\\\\\n",
       "\\hline\n",
       "\t 1       & Pave    &         & 7       & 5       & 2003    & 2003    & Gable   & CompShg & VinylSd & ⋯       &   0     & 61      &   0     &   0     & 0       & 0       &         &         &         &   0    \\\\\n",
       "\t 2       & Pave    &         & 6       & 8       & 1976    & 1976    & Gable   & CompShg & MetalSd & ⋯       & 298     &  0      &   0     &   0     & 0       & 0       &         &         &         &   0    \\\\\n",
       "\t 3       & Pave    &         & 7       & 5       & 2001    & 2002    & Gable   & CompShg & VinylSd & ⋯       &   0     & 42      &   0     &   0     & 0       & 0       &         &         &         &   0    \\\\\n",
       "\t 4       & Pave    &         & 7       & 5       & 1915    & 1970    & Gable   & CompShg & Wd Sdng & ⋯       &   0     & 35      & 272     &   0     & 0       & 0       &         &         &         &   0    \\\\\n",
       "\t 5       & Pave    &         & 8       & 5       & 2000    & 2000    & Gable   & CompShg & VinylSd & ⋯       & 192     & 84      &   0     &   0     & 0       & 0       &         &         &         &   0    \\\\\n",
       "\t 6       & Pave    &         & 5       & 5       & 1993    & 1995    & Gable   & CompShg & VinylSd & ⋯       &  40     & 30      &   0     & 320     & 0       & 0       &         & MnPrv   & Shed    & 700    \\\\\n",
       "\\end{tabular}\n"
      ],
      "text/markdown": [
       "\n",
       "Id | Street | Alley | OverallQual | OverallCond | YearBuilt | YearRemodAdd | RoofStyle | RoofMatl | Exterior1st | ⋯ | WoodDeckSF | OpenPorchSF | EnclosedPorch | ThreeSsnPorch | ScreenPorch | PoolArea | PoolQC | Fence | MiscFeature | MiscVal | \n",
       "|---|---|---|---|---|---|\n",
       "| 1       | Pave    |         | 7       | 5       | 2003    | 2003    | Gable   | CompShg | VinylSd | ⋯       |   0     | 61      |   0     |   0     | 0       | 0       |         |         |         |   0     | \n",
       "| 2       | Pave    |         | 6       | 8       | 1976    | 1976    | Gable   | CompShg | MetalSd | ⋯       | 298     |  0      |   0     |   0     | 0       | 0       |         |         |         |   0     | \n",
       "| 3       | Pave    |         | 7       | 5       | 2001    | 2002    | Gable   | CompShg | VinylSd | ⋯       |   0     | 42      |   0     |   0     | 0       | 0       |         |         |         |   0     | \n",
       "| 4       | Pave    |         | 7       | 5       | 1915    | 1970    | Gable   | CompShg | Wd Sdng | ⋯       |   0     | 35      | 272     |   0     | 0       | 0       |         |         |         |   0     | \n",
       "| 5       | Pave    |         | 8       | 5       | 2000    | 2000    | Gable   | CompShg | VinylSd | ⋯       | 192     | 84      |   0     |   0     | 0       | 0       |         |         |         |   0     | \n",
       "| 6       | Pave    |         | 5       | 5       | 1993    | 1995    | Gable   | CompShg | VinylSd | ⋯       |  40     | 30      |   0     | 320     | 0       | 0       |         | MnPrv   | Shed    | 700     | \n",
       "\n",
       "\n"
      ],
      "text/plain": [
       "  Id Street Alley OverallQual OverallCond YearBuilt YearRemodAdd RoofStyle\n",
       "1 1  Pave         7           5           2003      2003         Gable    \n",
       "2 2  Pave         6           8           1976      1976         Gable    \n",
       "3 3  Pave         7           5           2001      2002         Gable    \n",
       "4 4  Pave         7           5           1915      1970         Gable    \n",
       "5 5  Pave         8           5           2000      2000         Gable    \n",
       "6 6  Pave         5           5           1993      1995         Gable    \n",
       "  RoofMatl Exterior1st ⋯ WoodDeckSF OpenPorchSF EnclosedPorch ThreeSsnPorch\n",
       "1 CompShg  VinylSd     ⋯   0        61            0             0          \n",
       "2 CompShg  MetalSd     ⋯ 298         0            0             0          \n",
       "3 CompShg  VinylSd     ⋯   0        42            0             0          \n",
       "4 CompShg  Wd Sdng     ⋯   0        35          272             0          \n",
       "5 CompShg  VinylSd     ⋯ 192        84            0             0          \n",
       "6 CompShg  VinylSd     ⋯  40        30            0           320          \n",
       "  ScreenPorch PoolArea PoolQC Fence MiscFeature MiscVal\n",
       "1 0           0                                   0    \n",
       "2 0           0                                   0    \n",
       "3 0           0                                   0    \n",
       "4 0           0                                   0    \n",
       "5 0           0                                   0    \n",
       "6 0           0               MnPrv Shed        700    "
      ]
     },
     "metadata": {},
     "output_type": "display_data"
    }
   ],
   "source": [
    "head(listing_df)"
   ]
  },
  {
   "cell_type": "code",
   "execution_count": 4,
   "metadata": {
    "scrolled": true
   },
   "outputs": [
    {
     "data": {
      "text/html": [
       "<table>\n",
       "<thead><tr><th scope=col>Id</th><th scope=col>MoSold</th><th scope=col>YrSold</th><th scope=col>SaleType</th><th scope=col>SaleCondition</th><th scope=col>SalePrice</th></tr></thead>\n",
       "<tbody>\n",
       "\t<tr><td>1      </td><td> 2     </td><td>2008   </td><td>WD     </td><td>Normal </td><td>208500 </td></tr>\n",
       "\t<tr><td>2      </td><td> 5     </td><td>2007   </td><td>WD     </td><td>Normal </td><td>181500 </td></tr>\n",
       "\t<tr><td>3      </td><td> 9     </td><td>2008   </td><td>WD     </td><td>Normal </td><td>223500 </td></tr>\n",
       "\t<tr><td>4      </td><td> 2     </td><td>2006   </td><td>WD     </td><td>Abnorml</td><td>140000 </td></tr>\n",
       "\t<tr><td>5      </td><td>12     </td><td>2008   </td><td>WD     </td><td>Normal </td><td>250000 </td></tr>\n",
       "\t<tr><td>6      </td><td>10     </td><td>2009   </td><td>WD     </td><td>Normal </td><td>143000 </td></tr>\n",
       "</tbody>\n",
       "</table>\n"
      ],
      "text/latex": [
       "\\begin{tabular}{r|llllll}\n",
       " Id & MoSold & YrSold & SaleType & SaleCondition & SalePrice\\\\\n",
       "\\hline\n",
       "\t 1       &  2      & 2008    & WD      & Normal  & 208500 \\\\\n",
       "\t 2       &  5      & 2007    & WD      & Normal  & 181500 \\\\\n",
       "\t 3       &  9      & 2008    & WD      & Normal  & 223500 \\\\\n",
       "\t 4       &  2      & 2006    & WD      & Abnorml & 140000 \\\\\n",
       "\t 5       & 12      & 2008    & WD      & Normal  & 250000 \\\\\n",
       "\t 6       & 10      & 2009    & WD      & Normal  & 143000 \\\\\n",
       "\\end{tabular}\n"
      ],
      "text/markdown": [
       "\n",
       "Id | MoSold | YrSold | SaleType | SaleCondition | SalePrice | \n",
       "|---|---|---|---|---|---|\n",
       "| 1       |  2      | 2008    | WD      | Normal  | 208500  | \n",
       "| 2       |  5      | 2007    | WD      | Normal  | 181500  | \n",
       "| 3       |  9      | 2008    | WD      | Normal  | 223500  | \n",
       "| 4       |  2      | 2006    | WD      | Abnorml | 140000  | \n",
       "| 5       | 12      | 2008    | WD      | Normal  | 250000  | \n",
       "| 6       | 10      | 2009    | WD      | Normal  | 143000  | \n",
       "\n",
       "\n"
      ],
      "text/plain": [
       "  Id MoSold YrSold SaleType SaleCondition SalePrice\n",
       "1 1   2     2008   WD       Normal        208500   \n",
       "2 2   5     2007   WD       Normal        181500   \n",
       "3 3   9     2008   WD       Normal        223500   \n",
       "4 4   2     2006   WD       Abnorml       140000   \n",
       "5 5  12     2008   WD       Normal        250000   \n",
       "6 6  10     2009   WD       Normal        143000   "
      ]
     },
     "metadata": {},
     "output_type": "display_data"
    }
   ],
   "source": [
    "head(sale_df)"
   ]
  },
  {
   "cell_type": "markdown",
   "metadata": {},
   "source": [
    "Here, we join the three datasets using the `merge` command using the column `Id` as reference."
   ]
  },
  {
   "cell_type": "code",
   "execution_count": 5,
   "metadata": {},
   "outputs": [],
   "source": [
    "housing_df = merge(zoning_df, listing_df, by=\"Id\")\n",
    "housing_df = merge(housing_df, sale_df, by=\"Id\")"
   ]
  },
  {
   "cell_type": "code",
   "execution_count": 6,
   "metadata": {},
   "outputs": [
    {
     "data": {
      "text/html": [
       "<table>\n",
       "<thead><tr><th scope=col>Id</th><th scope=col>MSSubClass</th><th scope=col>MSZoning</th><th scope=col>LotFrontage</th><th scope=col>LotArea</th><th scope=col>LotShape</th><th scope=col>LandContour</th><th scope=col>Utilities</th><th scope=col>LotConfig</th><th scope=col>LandSlope</th><th scope=col>⋯</th><th scope=col>PoolArea</th><th scope=col>PoolQC</th><th scope=col>Fence</th><th scope=col>MiscFeature</th><th scope=col>MiscVal</th><th scope=col>MoSold</th><th scope=col>YrSold</th><th scope=col>SaleType</th><th scope=col>SaleCondition</th><th scope=col>SalePrice</th></tr></thead>\n",
       "<tbody>\n",
       "\t<tr><td>1      </td><td>60     </td><td>RL     </td><td>65     </td><td> 8450  </td><td>Reg    </td><td>Lvl    </td><td>AllPub </td><td>Inside </td><td>Gtl    </td><td>⋯      </td><td>0      </td><td>       </td><td>       </td><td>       </td><td>  0    </td><td> 2     </td><td>2008   </td><td>WD     </td><td>Normal </td><td>208500 </td></tr>\n",
       "\t<tr><td>2      </td><td>20     </td><td>RL     </td><td>80     </td><td> 9600  </td><td>Reg    </td><td>Lvl    </td><td>AllPub </td><td>FR2    </td><td>Gtl    </td><td>⋯      </td><td>0      </td><td>       </td><td>       </td><td>       </td><td>  0    </td><td> 5     </td><td>2007   </td><td>WD     </td><td>Normal </td><td>181500 </td></tr>\n",
       "\t<tr><td>3      </td><td>60     </td><td>RL     </td><td>68     </td><td>11250  </td><td>IR1    </td><td>Lvl    </td><td>AllPub </td><td>Inside </td><td>Gtl    </td><td>⋯      </td><td>0      </td><td>       </td><td>       </td><td>       </td><td>  0    </td><td> 9     </td><td>2008   </td><td>WD     </td><td>Normal </td><td>223500 </td></tr>\n",
       "\t<tr><td>4      </td><td>70     </td><td>RL     </td><td>60     </td><td> 9550  </td><td>IR1    </td><td>Lvl    </td><td>AllPub </td><td>Corner </td><td>Gtl    </td><td>⋯      </td><td>0      </td><td>       </td><td>       </td><td>       </td><td>  0    </td><td> 2     </td><td>2006   </td><td>WD     </td><td>Abnorml</td><td>140000 </td></tr>\n",
       "\t<tr><td>5      </td><td>60     </td><td>RL     </td><td>84     </td><td>14260  </td><td>IR1    </td><td>Lvl    </td><td>AllPub </td><td>FR2    </td><td>Gtl    </td><td>⋯      </td><td>0      </td><td>       </td><td>       </td><td>       </td><td>  0    </td><td>12     </td><td>2008   </td><td>WD     </td><td>Normal </td><td>250000 </td></tr>\n",
       "\t<tr><td>6      </td><td>50     </td><td>RL     </td><td>85     </td><td>14115  </td><td>IR1    </td><td>Lvl    </td><td>AllPub </td><td>Inside </td><td>Gtl    </td><td>⋯      </td><td>0      </td><td>       </td><td>MnPrv  </td><td>Shed   </td><td>700    </td><td>10     </td><td>2009   </td><td>WD     </td><td>Normal </td><td>143000 </td></tr>\n",
       "</tbody>\n",
       "</table>\n"
      ],
      "text/latex": [
       "\\begin{tabular}{r|lllllllllllllllllllllllllllllllllllllllllllllllllllllllllllllllllllllllllllllllll}\n",
       " Id & MSSubClass & MSZoning & LotFrontage & LotArea & LotShape & LandContour & Utilities & LotConfig & LandSlope & ⋯ & PoolArea & PoolQC & Fence & MiscFeature & MiscVal & MoSold & YrSold & SaleType & SaleCondition & SalePrice\\\\\n",
       "\\hline\n",
       "\t 1       & 60      & RL      & 65      &  8450   & Reg     & Lvl     & AllPub  & Inside  & Gtl     & ⋯       & 0       &         &         &         &   0     &  2      & 2008    & WD      & Normal  & 208500 \\\\\n",
       "\t 2       & 20      & RL      & 80      &  9600   & Reg     & Lvl     & AllPub  & FR2     & Gtl     & ⋯       & 0       &         &         &         &   0     &  5      & 2007    & WD      & Normal  & 181500 \\\\\n",
       "\t 3       & 60      & RL      & 68      & 11250   & IR1     & Lvl     & AllPub  & Inside  & Gtl     & ⋯       & 0       &         &         &         &   0     &  9      & 2008    & WD      & Normal  & 223500 \\\\\n",
       "\t 4       & 70      & RL      & 60      &  9550   & IR1     & Lvl     & AllPub  & Corner  & Gtl     & ⋯       & 0       &         &         &         &   0     &  2      & 2006    & WD      & Abnorml & 140000 \\\\\n",
       "\t 5       & 60      & RL      & 84      & 14260   & IR1     & Lvl     & AllPub  & FR2     & Gtl     & ⋯       & 0       &         &         &         &   0     & 12      & 2008    & WD      & Normal  & 250000 \\\\\n",
       "\t 6       & 50      & RL      & 85      & 14115   & IR1     & Lvl     & AllPub  & Inside  & Gtl     & ⋯       & 0       &         & MnPrv   & Shed    & 700     & 10      & 2009    & WD      & Normal  & 143000 \\\\\n",
       "\\end{tabular}\n"
      ],
      "text/markdown": [
       "\n",
       "Id | MSSubClass | MSZoning | LotFrontage | LotArea | LotShape | LandContour | Utilities | LotConfig | LandSlope | ⋯ | PoolArea | PoolQC | Fence | MiscFeature | MiscVal | MoSold | YrSold | SaleType | SaleCondition | SalePrice | \n",
       "|---|---|---|---|---|---|\n",
       "| 1       | 60      | RL      | 65      |  8450   | Reg     | Lvl     | AllPub  | Inside  | Gtl     | ⋯       | 0       |         |         |         |   0     |  2      | 2008    | WD      | Normal  | 208500  | \n",
       "| 2       | 20      | RL      | 80      |  9600   | Reg     | Lvl     | AllPub  | FR2     | Gtl     | ⋯       | 0       |         |         |         |   0     |  5      | 2007    | WD      | Normal  | 181500  | \n",
       "| 3       | 60      | RL      | 68      | 11250   | IR1     | Lvl     | AllPub  | Inside  | Gtl     | ⋯       | 0       |         |         |         |   0     |  9      | 2008    | WD      | Normal  | 223500  | \n",
       "| 4       | 70      | RL      | 60      |  9550   | IR1     | Lvl     | AllPub  | Corner  | Gtl     | ⋯       | 0       |         |         |         |   0     |  2      | 2006    | WD      | Abnorml | 140000  | \n",
       "| 5       | 60      | RL      | 84      | 14260   | IR1     | Lvl     | AllPub  | FR2     | Gtl     | ⋯       | 0       |         |         |         |   0     | 12      | 2008    | WD      | Normal  | 250000  | \n",
       "| 6       | 50      | RL      | 85      | 14115   | IR1     | Lvl     | AllPub  | Inside  | Gtl     | ⋯       | 0       |         | MnPrv   | Shed    | 700     | 10      | 2009    | WD      | Normal  | 143000  | \n",
       "\n",
       "\n"
      ],
      "text/plain": [
       "  Id MSSubClass MSZoning LotFrontage LotArea LotShape LandContour Utilities\n",
       "1 1  60         RL       65           8450   Reg      Lvl         AllPub   \n",
       "2 2  20         RL       80           9600   Reg      Lvl         AllPub   \n",
       "3 3  60         RL       68          11250   IR1      Lvl         AllPub   \n",
       "4 4  70         RL       60           9550   IR1      Lvl         AllPub   \n",
       "5 5  60         RL       84          14260   IR1      Lvl         AllPub   \n",
       "6 6  50         RL       85          14115   IR1      Lvl         AllPub   \n",
       "  LotConfig LandSlope ⋯ PoolArea PoolQC Fence MiscFeature MiscVal MoSold YrSold\n",
       "1 Inside    Gtl       ⋯ 0                                   0      2     2008  \n",
       "2 FR2       Gtl       ⋯ 0                                   0      5     2007  \n",
       "3 Inside    Gtl       ⋯ 0                                   0      9     2008  \n",
       "4 Corner    Gtl       ⋯ 0                                   0      2     2006  \n",
       "5 FR2       Gtl       ⋯ 0                                   0     12     2008  \n",
       "6 Inside    Gtl       ⋯ 0               MnPrv Shed        700     10     2009  \n",
       "  SaleType SaleCondition SalePrice\n",
       "1 WD       Normal        208500   \n",
       "2 WD       Normal        181500   \n",
       "3 WD       Normal        223500   \n",
       "4 WD       Abnorml       140000   \n",
       "5 WD       Normal        250000   \n",
       "6 WD       Normal        143000   "
      ]
     },
     "metadata": {},
     "output_type": "display_data"
    }
   ],
   "source": [
    "head(housing_df)"
   ]
  },
  {
   "cell_type": "code",
   "execution_count": 7,
   "metadata": {},
   "outputs": [
    {
     "data": {
      "text/html": [
       "<ol class=list-inline>\n",
       "\t<li>1460</li>\n",
       "\t<li>81</li>\n",
       "</ol>\n"
      ],
      "text/latex": [
       "\\begin{enumerate*}\n",
       "\\item 1460\n",
       "\\item 81\n",
       "\\end{enumerate*}\n"
      ],
      "text/markdown": [
       "1. 1460\n",
       "2. 81\n",
       "\n",
       "\n"
      ],
      "text/plain": [
       "[1] 1460   81"
      ]
     },
     "metadata": {},
     "output_type": "display_data"
    }
   ],
   "source": [
    "dim(housing_df)"
   ]
  },
  {
   "cell_type": "code",
   "execution_count": 8,
   "metadata": {},
   "outputs": [
    {
     "name": "stdout",
     "output_type": "stream",
     "text": [
      "'data.frame':\t1460 obs. of  38 variables:\n",
      " $ Id           : int  1 2 3 4 5 6 7 8 9 10 ...\n",
      " $ MSSubClass   : int  60 20 60 70 60 50 20 60 50 190 ...\n",
      " $ LotFrontage  : num  65 80 68 60 84 85 75 NA 51 50 ...\n",
      " $ LotArea      : int  8450 9600 11250 9550 14260 14115 10084 10382 6120 7420 ...\n",
      " $ OverallQual  : int  7 6 7 7 8 5 8 7 7 5 ...\n",
      " $ OverallCond  : int  5 8 5 5 5 5 5 6 5 6 ...\n",
      " $ YearBuilt    : int  2003 1976 2001 1915 2000 1993 2004 1973 1931 1939 ...\n",
      " $ YearRemodAdd : int  2003 1976 2002 1970 2000 1995 2005 1973 1950 1950 ...\n",
      " $ MasVnrArea   : int  196 0 162 0 350 0 186 240 0 0 ...\n",
      " $ BsmtFinSF1   : int  706 978 486 216 655 732 1369 859 0 851 ...\n",
      " $ BsmtFinSF2   : int  0 0 0 0 0 0 0 32 0 0 ...\n",
      " $ BsmtUnfSF    : int  150 284 434 540 490 64 317 216 952 140 ...\n",
      " $ TotalBsmtSF  : int  856 1262 920 756 1145 796 1686 1107 952 991 ...\n",
      " $ FirstFlrSF   : int  856 1262 920 961 1145 796 1694 1107 1022 1077 ...\n",
      " $ SecondFlrSF  : int  854 0 866 756 1053 566 0 983 752 0 ...\n",
      " $ LowQualFinSF : int  0 0 0 0 0 0 0 0 0 0 ...\n",
      " $ GrLivArea    : int  1710 1262 1786 1717 2198 1362 1694 2090 1774 1077 ...\n",
      " $ BsmtFullBath : int  1 0 1 1 1 1 1 1 0 1 ...\n",
      " $ BsmtHalfBath : int  0 1 0 0 0 0 0 0 0 0 ...\n",
      " $ FullBath     : int  2 2 2 1 2 1 2 2 2 1 ...\n",
      " $ HalfBath     : int  1 0 1 0 1 1 0 1 0 0 ...\n",
      " $ BedroomAbvGr : int  3 3 3 3 4 1 3 3 2 2 ...\n",
      " $ KitchenAbvGr : int  1 1 1 1 1 1 1 1 2 2 ...\n",
      " $ TotRmsAbvGrd : int  8 6 6 7 9 5 7 7 8 5 ...\n",
      " $ Fireplaces   : int  0 1 1 1 1 0 1 2 2 2 ...\n",
      " $ GarageYrBlt  : int  2003 1976 2001 1998 2000 1993 2004 1973 1931 1939 ...\n",
      " $ GarageCars   : int  2 2 2 3 3 2 2 2 2 1 ...\n",
      " $ GarageArea   : int  548 460 608 642 836 480 636 484 468 205 ...\n",
      " $ WoodDeckSF   : int  0 298 0 0 192 40 255 235 90 0 ...\n",
      " $ OpenPorchSF  : int  61 0 42 35 84 30 57 204 0 4 ...\n",
      " $ EnclosedPorch: int  0 0 0 272 0 0 0 228 205 0 ...\n",
      " $ ThreeSsnPorch: int  0 0 0 0 0 320 0 0 0 0 ...\n",
      " $ ScreenPorch  : int  0 0 0 0 0 0 0 0 0 0 ...\n",
      " $ PoolArea     : int  0 0 0 0 0 0 0 0 0 0 ...\n",
      " $ MiscVal      : int  0 0 0 0 0 700 0 350 0 0 ...\n",
      " $ MoSold       : int  2 5 9 2 12 10 8 11 4 1 ...\n",
      " $ YrSold       : int  2008 2007 2008 2006 2008 2009 2007 2009 2008 2008 ...\n",
      " $ SalePrice    : int  208500 181500 223500 140000 250000 143000 307000 200000 129900 118000 ...\n"
     ]
    }
   ],
   "source": [
    "str(Filter(is.numeric, housing_df))"
   ]
  },
  {
   "cell_type": "code",
   "execution_count": 9,
   "metadata": {},
   "outputs": [],
   "source": [
    "rownames(housing_df) <- housing_df$Id \n",
    "housing_df$Id <- NULL"
   ]
  },
  {
   "cell_type": "markdown",
   "metadata": {},
   "source": [
    "### Typecast Categorical Features\n",
    "\n",
    "Several features are categorical in nature in spite of the fact that the data is stored as integer values. We must explicitly cast these features as `factor` type features."
   ]
  },
  {
   "cell_type": "code",
   "execution_count": 10,
   "metadata": {},
   "outputs": [],
   "source": [
    "housing_df$MSSubClass <- as.factor(housing_df$MSSubClass)\n",
    "housing_df$OverallQual <- as.factor(housing_df$OverallQual)\n",
    "housing_df$OverallCond <- as.factor(housing_df$OverallCond)\n",
    "housing_df$BsmtFullBath <- as.factor(housing_df$BsmtFullBath)\n",
    "housing_df$BsmtHalfBath <- as.factor(housing_df$BsmtHalfBath)\n",
    "housing_df$FullBath <- as.factor(housing_df$FullBath)\n",
    "housing_df$HalfBath <- as.factor(housing_df$HalfBath)\n",
    "housing_df$BedroomAbvGr <- as.factor(housing_df$BedroomAbvGr)\n",
    "housing_df$KitchenAbvGr <- as.factor(housing_df$KitchenAbvGr)\n",
    "housing_df$TotRmsAbvGrd <- as.factor(housing_df$TotRmsAbvGrd)\n",
    "housing_df$Fireplaces <- as.factor(housing_df$Fireplaces)\n",
    "housing_df$GarageCars <- as.factor(housing_df$GarageCars)\n",
    "housing_df$MoSold <- as.factor(housing_df$MoSold)"
   ]
  },
  {
   "cell_type": "code",
   "execution_count": null,
   "metadata": {},
   "outputs": [],
   "source": []
  }
 ],
 "metadata": {
  "kernelspec": {
   "display_name": "R",
   "language": "R",
   "name": "ir"
  },
  "language_info": {
   "codemirror_mode": "r",
   "file_extension": ".r",
   "mimetype": "text/x-r-source",
   "name": "R",
   "pygments_lexer": "r",
   "version": "3.4.1"
  }
 },
 "nbformat": 4,
 "nbformat_minor": 2
}
