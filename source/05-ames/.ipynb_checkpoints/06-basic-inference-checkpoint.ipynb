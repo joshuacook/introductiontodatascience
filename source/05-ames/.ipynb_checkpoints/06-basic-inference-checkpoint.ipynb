{
 "cells": [
  {
   "cell_type": "code",
   "execution_count": null,
   "metadata": {},
   "outputs": [],
   "source": [
    "source('../src/load_data.r')\n",
    "source('../src/multiplot.r')"
   ]
  },
  {
   "cell_type": "code",
   "execution_count": null,
   "metadata": {},
   "outputs": [],
   "source": [
    "attach(housing_df)"
   ]
  },
  {
   "cell_type": "code",
   "execution_count": null,
   "metadata": {},
   "outputs": [],
   "source": [
    "hist_with_kde(SalePrice)"
   ]
  },
  {
   "cell_type": "markdown",
   "metadata": {},
   "source": [
    "## Testing and Estimation"
   ]
  },
  {
   "cell_type": "markdown",
   "metadata": {},
   "source": [
    "Let $M$ denote the median hours price at which homes sell in Ames, Iowa. Let us test the hypothesis that median price is \\$150000. \n",
    "\n",
    "Let $p$ denote the proporation of housees that sold for at least $150000. \n",
    "\n",
    "If the median sale price is \\$150000, then the proportion $p=0.5$. We can restate this as the hypothesis\n",
    "\n",
    "$$H: p=0.5$$\n"
   ]
  },
  {
   "cell_type": "code",
   "execution_count": null,
   "metadata": {},
   "outputs": [],
   "source": [
    "greater_than_150k = ifelse(SalePrice >= 150000, \"yes\", \"no\")"
   ]
  },
  {
   "cell_type": "code",
   "execution_count": null,
   "metadata": {},
   "outputs": [],
   "source": [
    "table(greater_than_150k)"
   ]
  },
  {
   "cell_type": "markdown",
   "metadata": {},
   "source": [
    "More than 836 houses sold for more than \\$150000. "
   ]
  },
  {
   "cell_type": "markdown",
   "metadata": {},
   "source": [
    "## Proportion Tests"
   ]
  },
  {
   "cell_type": "markdown",
   "metadata": {},
   "source": [
    "If $H$ is true, then the number of yes's has a binomial $(n=1451, p=0.5)$ distribution with mean $np$ and variance $np(1-p)$. In addition, if $n$ is large, then the number of yes's is approximately normal. "
   ]
  },
  {
   "cell_type": "markdown",
   "metadata": {},
   "source": [
    "<img src=https://www.evernote.com/l/AAE6VhzJPI5FYYXzXeiAAgaFMQeir-3Y_0IB/image.png width=400px>"
   ]
  },
  {
   "cell_type": "markdown",
   "metadata": {},
   "source": [
    "The traditional test for a proportion is based on the assumption that, when the population proportion is $p = 0.5$, the number of yes’s $y$ in a sample of $n$ is\n",
    "approximately normally distributed with mean $n/2$ and standard deviation $\\sqrt{n/4}$. \n",
    "\n",
    "The $Z$ statistic\n",
    "\n",
    "$$Z = \\frac{y-\\mu}{\\sigma} = \\frac{y-np}{\\sqrt{np(1-p)}}$$\n",
    "\n",
    "is approximately standard normal."
   ]
  },
  {
   "cell_type": "markdown",
   "metadata": {},
   "source": [
    "One computes the statistic $z_{obs}$ from the sample and one decides whether to accept or reject $H$ by computing the lower tail probability $P(Z \\leq z_{obs})$. If the alternative hypothesis is that $p < 0.5$, the p-value is equal to the lower tail probability; if the alternative is two-sided where $p\\neq 0.5$, the p-value is double the lower-tail probability."
   ]
  },
  {
   "cell_type": "markdown",
   "metadata": {},
   "source": [
    "This traditional $Z$ test is implemented using the `prop.test` function. We define `y` to be the number of observed `yes` responses in our sample. We define `n` to be the sample size. We indicate by the `p=0.5` that we are testing the hypothesis that the proportion is equal to 0.5 and by `alternative = \"two.sided\"` that the true proportion may lie in either direction."
   ]
  },
  {
   "cell_type": "code",
   "execution_count": null,
   "metadata": {},
   "outputs": [],
   "source": [
    "((836-1451*0.5)/sqrt(1451*0.5*0.5))"
   ]
  },
  {
   "cell_type": "code",
   "execution_count": null,
   "metadata": {},
   "outputs": [],
   "source": [
    "y <- 836; n <- 1451\n",
    "Test <- prop.test(y, n, p=0.5, \n",
    "                  alternative = \"two.sided\")"
   ]
  },
  {
   "cell_type": "code",
   "execution_count": null,
   "metadata": {},
   "outputs": [],
   "source": [
    "Test"
   ]
  },
  {
   "cell_type": "code",
   "execution_count": null,
   "metadata": {},
   "outputs": [],
   "source": [
    "names(Test)"
   ]
  },
  {
   "cell_type": "code",
   "execution_count": null,
   "metadata": {},
   "outputs": [],
   "source": [
    "Test$estimate"
   ]
  }
 ],
 "metadata": {
  "kernelspec": {
   "display_name": "R",
   "language": "R",
   "name": "ir"
  },
  "language_info": {
   "codemirror_mode": "r",
   "file_extension": ".r",
   "mimetype": "text/x-r-source",
   "name": "R",
   "pygments_lexer": "r",
   "version": "3.4.1"
  }
 },
 "nbformat": 4,
 "nbformat_minor": 2
}
