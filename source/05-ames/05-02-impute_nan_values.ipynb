{
 "cells": [
  {
   "cell_type": "markdown",
   "metadata": {},
   "source": [
    "## Impute Missing Values\n",
    "\n",
    "This data set contains many columns with missing values. This notebook deals with accounting for missing values. Note that all of these commands were added to the file, `src/load_data-02.r` so that in subsequent notebooks the data is loaded via script.\n",
    "\n",
    "There is a challenge to handling these missing values specific to the dataset. The file `doc/data_description.txt` contains a detailed description of each feature in this data set. Here, we see the description for `MasVnrType`.\n",
    "\n",
    "    MasVnrType: Masonry veneer type\n",
    "\n",
    "           BrkCmn\tBrick Common\n",
    "           BrkFace\tBrick Face\n",
    "           CBlock\tCinder Block\n",
    "           None\tNone\n",
    "           Stone\tStone\n",
    "           \n",
    "Note that one attribute for this feature is the value `None` meaning that the house in question does not have a Veneer. This is common in the data set. Unfortunately, upon loading the data, these `None` values will be taken to mean that the data is missing when they should be taken to mean `None`. Adding further complication to this, is the fact that there are features that contain actual missing values.           "
   ]
  },
  {
   "cell_type": "code",
   "execution_count": 1,
   "metadata": {},
   "outputs": [],
   "source": [
    "source('src/load_data-01.r')"
   ]
  },
  {
   "cell_type": "code",
   "execution_count": 2,
   "metadata": {},
   "outputs": [
    {
     "data": {
      "text/html": [
       "<ol class=list-inline>\n",
       "\t<li>1460</li>\n",
       "\t<li>81</li>\n",
       "</ol>\n"
      ],
      "text/latex": [
       "\\begin{enumerate*}\n",
       "\\item 1460\n",
       "\\item 81\n",
       "\\end{enumerate*}\n"
      ],
      "text/markdown": [
       "1. 1460\n",
       "2. 81\n",
       "\n",
       "\n"
      ],
      "text/plain": [
       "[1] 1460   81"
      ]
     },
     "metadata": {},
     "output_type": "display_data"
    }
   ],
   "source": [
    "dim(housing_df)"
   ]
  },
  {
   "cell_type": "code",
   "execution_count": 3,
   "metadata": {},
   "outputs": [
    {
     "data": {
      "text/html": [
       "<table>\n",
       "<thead><tr><th scope=col>X</th><th scope=col>MSSubClass</th><th scope=col>MSZoning</th><th scope=col>LotFrontage</th><th scope=col>LotArea</th><th scope=col>LotShape</th><th scope=col>LandContour</th><th scope=col>Utilities</th><th scope=col>LotConfig</th><th scope=col>LandSlope</th><th scope=col>⋯</th><th scope=col>PoolArea</th><th scope=col>PoolQC</th><th scope=col>Fence</th><th scope=col>MiscFeature</th><th scope=col>MiscVal</th><th scope=col>MoSold</th><th scope=col>YrSold</th><th scope=col>SaleType</th><th scope=col>SaleCondition</th><th scope=col>SalePrice</th></tr></thead>\n",
       "<tbody>\n",
       "\t<tr><td>1      </td><td>60     </td><td>RL     </td><td>65     </td><td> 8450  </td><td>Reg    </td><td>Lvl    </td><td>AllPub </td><td>Inside </td><td>Gtl    </td><td>⋯      </td><td>0      </td><td>       </td><td>       </td><td>       </td><td>  0    </td><td>2      </td><td>2008   </td><td>WD     </td><td>Normal </td><td>208500 </td></tr>\n",
       "\t<tr><td>2      </td><td>20     </td><td>RL     </td><td>80     </td><td> 9600  </td><td>Reg    </td><td>Lvl    </td><td>AllPub </td><td>FR2    </td><td>Gtl    </td><td>⋯      </td><td>0      </td><td>       </td><td>       </td><td>       </td><td>  0    </td><td>5      </td><td>2007   </td><td>WD     </td><td>Normal </td><td>181500 </td></tr>\n",
       "\t<tr><td>3      </td><td>60     </td><td>RL     </td><td>68     </td><td>11250  </td><td>IR1    </td><td>Lvl    </td><td>AllPub </td><td>Inside </td><td>Gtl    </td><td>⋯      </td><td>0      </td><td>       </td><td>       </td><td>       </td><td>  0    </td><td>9      </td><td>2008   </td><td>WD     </td><td>Normal </td><td>223500 </td></tr>\n",
       "\t<tr><td>4      </td><td>70     </td><td>RL     </td><td>60     </td><td> 9550  </td><td>IR1    </td><td>Lvl    </td><td>AllPub </td><td>Corner </td><td>Gtl    </td><td>⋯      </td><td>0      </td><td>       </td><td>       </td><td>       </td><td>  0    </td><td>2      </td><td>2006   </td><td>WD     </td><td>Abnorml</td><td>140000 </td></tr>\n",
       "\t<tr><td>5      </td><td>60     </td><td>RL     </td><td>84     </td><td>14260  </td><td>IR1    </td><td>Lvl    </td><td>AllPub </td><td>FR2    </td><td>Gtl    </td><td>⋯      </td><td>0      </td><td>       </td><td>       </td><td>       </td><td>  0    </td><td>12     </td><td>2008   </td><td>WD     </td><td>Normal </td><td>250000 </td></tr>\n",
       "\t<tr><td>6      </td><td>50     </td><td>RL     </td><td>85     </td><td>14115  </td><td>IR1    </td><td>Lvl    </td><td>AllPub </td><td>Inside </td><td>Gtl    </td><td>⋯      </td><td>0      </td><td>       </td><td>MnPrv  </td><td>Shed   </td><td>700    </td><td>10     </td><td>2009   </td><td>WD     </td><td>Normal </td><td>143000 </td></tr>\n",
       "</tbody>\n",
       "</table>\n"
      ],
      "text/latex": [
       "\\begin{tabular}{r|lllllllllllllllllllllllllllllllllllllllllllllllllllllllllllllllllllllllllllllllll}\n",
       " X & MSSubClass & MSZoning & LotFrontage & LotArea & LotShape & LandContour & Utilities & LotConfig & LandSlope & ⋯ & PoolArea & PoolQC & Fence & MiscFeature & MiscVal & MoSold & YrSold & SaleType & SaleCondition & SalePrice\\\\\n",
       "\\hline\n",
       "\t 1       & 60      & RL      & 65      &  8450   & Reg     & Lvl     & AllPub  & Inside  & Gtl     & ⋯       & 0       &         &         &         &   0     & 2       & 2008    & WD      & Normal  & 208500 \\\\\n",
       "\t 2       & 20      & RL      & 80      &  9600   & Reg     & Lvl     & AllPub  & FR2     & Gtl     & ⋯       & 0       &         &         &         &   0     & 5       & 2007    & WD      & Normal  & 181500 \\\\\n",
       "\t 3       & 60      & RL      & 68      & 11250   & IR1     & Lvl     & AllPub  & Inside  & Gtl     & ⋯       & 0       &         &         &         &   0     & 9       & 2008    & WD      & Normal  & 223500 \\\\\n",
       "\t 4       & 70      & RL      & 60      &  9550   & IR1     & Lvl     & AllPub  & Corner  & Gtl     & ⋯       & 0       &         &         &         &   0     & 2       & 2006    & WD      & Abnorml & 140000 \\\\\n",
       "\t 5       & 60      & RL      & 84      & 14260   & IR1     & Lvl     & AllPub  & FR2     & Gtl     & ⋯       & 0       &         &         &         &   0     & 12      & 2008    & WD      & Normal  & 250000 \\\\\n",
       "\t 6       & 50      & RL      & 85      & 14115   & IR1     & Lvl     & AllPub  & Inside  & Gtl     & ⋯       & 0       &         & MnPrv   & Shed    & 700     & 10      & 2009    & WD      & Normal  & 143000 \\\\\n",
       "\\end{tabular}\n"
      ],
      "text/markdown": [
       "\n",
       "X | MSSubClass | MSZoning | LotFrontage | LotArea | LotShape | LandContour | Utilities | LotConfig | LandSlope | ⋯ | PoolArea | PoolQC | Fence | MiscFeature | MiscVal | MoSold | YrSold | SaleType | SaleCondition | SalePrice | \n",
       "|---|---|---|---|---|---|\n",
       "| 1       | 60      | RL      | 65      |  8450   | Reg     | Lvl     | AllPub  | Inside  | Gtl     | ⋯       | 0       |         |         |         |   0     | 2       | 2008    | WD      | Normal  | 208500  | \n",
       "| 2       | 20      | RL      | 80      |  9600   | Reg     | Lvl     | AllPub  | FR2     | Gtl     | ⋯       | 0       |         |         |         |   0     | 5       | 2007    | WD      | Normal  | 181500  | \n",
       "| 3       | 60      | RL      | 68      | 11250   | IR1     | Lvl     | AllPub  | Inside  | Gtl     | ⋯       | 0       |         |         |         |   0     | 9       | 2008    | WD      | Normal  | 223500  | \n",
       "| 4       | 70      | RL      | 60      |  9550   | IR1     | Lvl     | AllPub  | Corner  | Gtl     | ⋯       | 0       |         |         |         |   0     | 2       | 2006    | WD      | Abnorml | 140000  | \n",
       "| 5       | 60      | RL      | 84      | 14260   | IR1     | Lvl     | AllPub  | FR2     | Gtl     | ⋯       | 0       |         |         |         |   0     | 12      | 2008    | WD      | Normal  | 250000  | \n",
       "| 6       | 50      | RL      | 85      | 14115   | IR1     | Lvl     | AllPub  | Inside  | Gtl     | ⋯       | 0       |         | MnPrv   | Shed    | 700     | 10      | 2009    | WD      | Normal  | 143000  | \n",
       "\n",
       "\n"
      ],
      "text/plain": [
       "  X MSSubClass MSZoning LotFrontage LotArea LotShape LandContour Utilities\n",
       "1 1 60         RL       65           8450   Reg      Lvl         AllPub   \n",
       "2 2 20         RL       80           9600   Reg      Lvl         AllPub   \n",
       "3 3 60         RL       68          11250   IR1      Lvl         AllPub   \n",
       "4 4 70         RL       60           9550   IR1      Lvl         AllPub   \n",
       "5 5 60         RL       84          14260   IR1      Lvl         AllPub   \n",
       "6 6 50         RL       85          14115   IR1      Lvl         AllPub   \n",
       "  LotConfig LandSlope ⋯ PoolArea PoolQC Fence MiscFeature MiscVal MoSold YrSold\n",
       "1 Inside    Gtl       ⋯ 0                                   0     2      2008  \n",
       "2 FR2       Gtl       ⋯ 0                                   0     5      2007  \n",
       "3 Inside    Gtl       ⋯ 0                                   0     9      2008  \n",
       "4 Corner    Gtl       ⋯ 0                                   0     2      2006  \n",
       "5 FR2       Gtl       ⋯ 0                                   0     12     2008  \n",
       "6 Inside    Gtl       ⋯ 0               MnPrv Shed        700     10     2009  \n",
       "  SaleType SaleCondition SalePrice\n",
       "1 WD       Normal        208500   \n",
       "2 WD       Normal        181500   \n",
       "3 WD       Normal        223500   \n",
       "4 WD       Abnorml       140000   \n",
       "5 WD       Normal        250000   \n",
       "6 WD       Normal        143000   "
      ]
     },
     "metadata": {},
     "output_type": "display_data"
    }
   ],
   "source": [
    "head(housing_df)"
   ]
  },
  {
   "cell_type": "markdown",
   "metadata": {},
   "source": [
    "### Impute `nan` Values"
   ]
  },
  {
   "cell_type": "markdown",
   "metadata": {},
   "source": [
    "We begin by investigating the dataset for `nan` or \"not a number\" values. This value was added to numerical features with missing data. These should be taken as actual missing values."
   ]
  },
  {
   "cell_type": "code",
   "execution_count": 4,
   "metadata": {
    "scrolled": false
   },
   "outputs": [
    {
     "data": {
      "text/html": [
       "<dl class=dl-horizontal>\n",
       "\t<dt>LotFrontage</dt>\n",
       "\t\t<dd>259</dd>\n",
       "\t<dt>MasVnrArea</dt>\n",
       "\t\t<dd>8</dd>\n",
       "\t<dt>GarageYrBlt</dt>\n",
       "\t\t<dd>81</dd>\n",
       "</dl>\n"
      ],
      "text/latex": [
       "\\begin{description*}\n",
       "\\item[LotFrontage] 259\n",
       "\\item[MasVnrArea] 8\n",
       "\\item[GarageYrBlt] 81\n",
       "\\end{description*}\n"
      ],
      "text/markdown": [
       "LotFrontage\n",
       ":   259MasVnrArea\n",
       ":   8GarageYrBlt\n",
       ":   81\n",
       "\n"
      ],
      "text/plain": [
       "LotFrontage  MasVnrArea GarageYrBlt \n",
       "        259           8          81 "
      ]
     },
     "metadata": {},
     "output_type": "display_data"
    }
   ],
   "source": [
    "nan_sums = colSums(is.na(housing_df))\n",
    "nan_sums[nan_sums > 0]"
   ]
  },
  {
   "cell_type": "markdown",
   "metadata": {},
   "source": [
    "We will impute the missing values by simply signing to them the mean of the extant values. There is a bit of a trick to this. As shown below taking the mean of a feature with missing values will return a `nan`."
   ]
  },
  {
   "cell_type": "code",
   "execution_count": 5,
   "metadata": {},
   "outputs": [
    {
     "data": {
      "text/html": [
       "&lt;NA&gt;"
      ],
      "text/latex": [
       "<NA>"
      ],
      "text/markdown": [
       "&lt;NA&gt;"
      ],
      "text/plain": [
       "[1] NA"
      ]
     },
     "metadata": {},
     "output_type": "display_data"
    }
   ],
   "source": [
    " mean(housing_df$LotFrontage)"
   ]
  },
  {
   "cell_type": "markdown",
   "metadata": {},
   "source": [
    "This can be by passing the argument `na.rm=T` to the `mean()` function."
   ]
  },
  {
   "cell_type": "code",
   "execution_count": 6,
   "metadata": {},
   "outputs": [
    {
     "data": {
      "text/html": [
       "70.0499583680267"
      ],
      "text/latex": [
       "70.0499583680267"
      ],
      "text/markdown": [
       "70.0499583680267"
      ],
      "text/plain": [
       "[1] 70.04996"
      ]
     },
     "metadata": {},
     "output_type": "display_data"
    }
   ],
   "source": [
    "mean(housing_df$LotFrontage, na.rm=T)"
   ]
  },
  {
   "cell_type": "markdown",
   "metadata": {},
   "source": [
    "Here we assign these mean values to variables."
   ]
  },
  {
   "cell_type": "code",
   "execution_count": 7,
   "metadata": {},
   "outputs": [],
   "source": [
    "mean_LotFrontage <- mean(housing_df$LotFrontage, na.rm=T)\n",
    "mean_MasVnrArea <- mean(housing_df$MasVnrArea, na.rm=T)\n",
    "mean_GarageYrBlt <- mean(housing_df$GarageYrBlt, na.rm=T)"
   ]
  },
  {
   "cell_type": "markdown",
   "metadata": {},
   "source": [
    "Next, we use the `is.na` function to create a mask for the missing values. We then assign to the missing values the calculated mean value."
   ]
  },
  {
   "cell_type": "code",
   "execution_count": 8,
   "metadata": {},
   "outputs": [],
   "source": [
    "housing_df$LotFrontage[is.na(housing_df$LotFrontage)] <- mean_LotFrontage\n",
    "housing_df$MasVnrArea[is.na(housing_df$MasVnrArea)] <- mean_MasVnrArea\n",
    "housing_df$GarageYrBlt[is.na(housing_df$GarageYrBlt)] <- mean_GarageYrBlt"
   ]
  },
  {
   "cell_type": "code",
   "execution_count": 9,
   "metadata": {},
   "outputs": [
    {
     "data": {
      "text/html": [],
      "text/latex": [],
      "text/markdown": [],
      "text/plain": [
       "named numeric(0)"
      ]
     },
     "metadata": {},
     "output_type": "display_data"
    }
   ],
   "source": [
    "nan_sums = colSums(is.na(housing_df))\n",
    "nan_sums[nan_sums > 0]"
   ]
  },
  {
   "cell_type": "markdown",
   "metadata": {},
   "source": [
    "### Handling `None` Values"
   ]
  },
  {
   "cell_type": "markdown",
   "metadata": {},
   "source": [
    "Here, we write a set of helper functions to help us to identify the `None` values for our categorical features. Note, that they are currently being stored as simply an empty string. We use masking by creating a mask for empty string values."
   ]
  },
  {
   "cell_type": "code",
   "execution_count": 10,
   "metadata": {},
   "outputs": [],
   "source": [
    "count_empty_values <- function (feature) {\n",
    "    empty_string_mask = housing_df[feature] == \"\"\n",
    "    return(length(housing_df[feature][empty_string_mask]))\n",
    "}\n",
    "\n",
    "count_empty_total <- function (){\n",
    "    for (feature in colnames(housing_df)) {\n",
    "        empty_count <- count_empty_values(feature)\n",
    "        if (empty_count > 0) {\n",
    "            print(paste(feature, empty_count))        \n",
    "        }\n",
    "    }\n",
    "}"
   ]
  },
  {
   "cell_type": "code",
   "execution_count": 11,
   "metadata": {},
   "outputs": [
    {
     "name": "stdout",
     "output_type": "stream",
     "text": [
      "[1] \"Alley 1369\"\n",
      "[1] \"MasVnrType 8\"\n",
      "[1] \"BsmtQual 37\"\n",
      "[1] \"BsmtCond 37\"\n",
      "[1] \"BsmtExposure 38\"\n",
      "[1] \"BsmtFinType1 37\"\n",
      "[1] \"BsmtFinType2 38\"\n",
      "[1] \"Electrical 1\"\n",
      "[1] \"FireplaceQu 690\"\n",
      "[1] \"GarageType 81\"\n",
      "[1] \"GarageFinish 81\"\n",
      "[1] \"GarageQual 81\"\n",
      "[1] \"GarageCond 81\"\n",
      "[1] \"PoolQC 1453\"\n",
      "[1] \"Fence 1179\"\n",
      "[1] \"MiscFeature 1406\"\n"
     ]
    }
   ],
   "source": [
    "count_empty_total()"
   ]
  },
  {
   "cell_type": "markdown",
   "metadata": {},
   "source": [
    "Here, we note that missing values for one of the features should be taken to mean `nan`\n",
    "\n",
    "    Electrical: Electrical system\n",
    "\n",
    "           SBrkr\tStandard Circuit Breakers & Romex\n",
    "           FuseA\tFuse Box over 60 AMP and all Romex wiring (Average)\t\n",
    "           FuseF\t60 AMP Fuse Box and mostly Romex wiring (Fair)\n",
    "           FuseP\t60 AMP Fuse Box and mostly knob & tube wiring (poor)\n",
    "           Mix\tMixed\n",
    "\n",
    "To handle for this, we create two lists one where an empty string signifies `None` and the other where the empty string signifies `nan`."
   ]
  },
  {
   "cell_type": "code",
   "execution_count": 12,
   "metadata": {},
   "outputs": [],
   "source": [
    "empty_means_without <-c(\"Alley\",\"BsmtQual\",\"BsmtCond\",\"BsmtExposure\",\"BsmtFinType1\",\n",
    "                        \"BsmtFinType2\", \"FireplaceQu\",\"GarageType\",\"GarageFinish\",\n",
    "                        \"GarageQual\",\"GarageCond\",\"PoolQC\",\"Fence\",\"MiscFeature\",\"MasVnrType\")\n",
    "\n",
    "empty_means_NA <- c(\"Electrical\")"
   ]
  },
  {
   "cell_type": "markdown",
   "metadata": {},
   "source": [
    "We then right a series of helper functions to use the masking on on empty string to properly handle all of these empty strings. Note that where an empty string signifies `None` we assigned the value `\"without\"`."
   ]
  },
  {
   "cell_type": "code",
   "execution_count": 13,
   "metadata": {},
   "outputs": [],
   "source": [
    "replace_empty_with_without <- function(feature) {\n",
    "    levels(feature) <- c(levels(feature), \"without\")\n",
    "    empty_string_mask <- feature == ''\n",
    "    feature[empty_string_mask] <- \"without\"\n",
    "    return(feature)\n",
    "}\n",
    "\n",
    "replace_empty_with_NA <- function(feature) {\n",
    "    levels(feature) <- c(levels(feature), NA)\n",
    "    empty_string_mask <- feature == ''\n",
    "    feature[empty_string_mask] <- NA\n",
    "    return(feature)\n",
    "}"
   ]
  },
  {
   "cell_type": "code",
   "execution_count": 14,
   "metadata": {},
   "outputs": [],
   "source": [
    "for (feature in empty_means_without) {\n",
    "    housing_df[,feature] <- replace_empty_with_without(housing_df[,feature])\n",
    "}\n",
    "\n",
    "for (feature in empty_means_NA) {\n",
    "    housing_df[,feature] <- replace_empty_with_NA(housing_df[,feature])\n",
    "}"
   ]
  },
  {
   "cell_type": "code",
   "execution_count": 15,
   "metadata": {},
   "outputs": [
    {
     "name": "stdout",
     "output_type": "stream",
     "text": [
      "[1] \"Electrical 1\"\n"
     ]
    }
   ],
   "source": [
    "count_empty_total()"
   ]
  },
  {
   "cell_type": "code",
   "execution_count": 16,
   "metadata": {},
   "outputs": [
    {
     "data": {
      "text/html": [
       "<strong>Electrical:</strong> 1"
      ],
      "text/latex": [
       "\\textbf{Electrical:} 1"
      ],
      "text/markdown": [
       "**Electrical:** 1"
      ],
      "text/plain": [
       "Electrical \n",
       "         1 "
      ]
     },
     "metadata": {},
     "output_type": "display_data"
    }
   ],
   "source": [
    "nan_sums = colSums(is.na(housing_df))\n",
    "nan_sums[nan_sums > 0]"
   ]
  },
  {
   "cell_type": "markdown",
   "metadata": {},
   "source": [
    "Following this, we still have a `nan` value that has not been dealt with. As the affected data amounts to less than .1% our our total data, we simply drop the affected row."
   ]
  },
  {
   "cell_type": "code",
   "execution_count": 17,
   "metadata": {},
   "outputs": [],
   "source": [
    "housing_df <- na.omit(housing_df)"
   ]
  },
  {
   "cell_type": "code",
   "execution_count": 18,
   "metadata": {},
   "outputs": [
    {
     "data": {
      "text/html": [
       "<ol class=list-inline>\n",
       "\t<li>1459</li>\n",
       "\t<li>81</li>\n",
       "</ol>\n"
      ],
      "text/latex": [
       "\\begin{enumerate*}\n",
       "\\item 1459\n",
       "\\item 81\n",
       "\\end{enumerate*}\n"
      ],
      "text/markdown": [
       "1. 1459\n",
       "2. 81\n",
       "\n",
       "\n"
      ],
      "text/plain": [
       "[1] 1459   81"
      ]
     },
     "metadata": {},
     "output_type": "display_data"
    }
   ],
   "source": [
    "dim(housing_df)"
   ]
  },
  {
   "cell_type": "code",
   "execution_count": null,
   "metadata": {},
   "outputs": [],
   "source": []
  }
 ],
 "metadata": {
  "kernelspec": {
   "display_name": "R",
   "language": "R",
   "name": "ir"
  },
  "language_info": {
   "codemirror_mode": "r",
   "file_extension": ".r",
   "mimetype": "text/x-r-source",
   "name": "R",
   "pygments_lexer": "r",
   "version": "3.4.1"
  }
 },
 "nbformat": 4,
 "nbformat_minor": 2
}
