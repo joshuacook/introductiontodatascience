{
 "cells": [
  {
   "cell_type": "code",
   "execution_count": 1,
   "metadata": {},
   "outputs": [
    {
     "name": "stdout",
     "output_type": "stream",
     "text": [
      "/home/jovyan/writing-archive/UCLA-Extension/CSX_450_4/src/2018-W-450-4/02-learning-curves\n"
     ]
    }
   ],
   "source": [
    "cd .. "
   ]
  },
  {
   "cell_type": "code",
   "execution_count": 2,
   "metadata": {},
   "outputs": [],
   "source": [
    "run __init__.py"
   ]
  },
  {
   "cell_type": "code",
   "execution_count": 3,
   "metadata": {},
   "outputs": [],
   "source": [
    "run src/load_data.py"
   ]
  },
  {
   "cell_type": "code",
   "execution_count": 4,
   "metadata": {},
   "outputs": [],
   "source": [
    "from sklearn.metrics import accuracy_score, f1_score"
   ]
  },
  {
   "cell_type": "code",
   "execution_count": 5,
   "metadata": {},
   "outputs": [],
   "source": [
    "from sklearn.linear_model import LogisticRegression\n",
    "from sklearn.model_selection import train_test_split\n",
    "from tqdm import tqdm \n",
    "from time import time"
   ]
  },
  {
   "cell_type": "code",
   "execution_count": 6,
   "metadata": {},
   "outputs": [],
   "source": [
    "adult_train_df = data['adult']['train']['engineered']\n",
    "adult_train_target = data['adult']['train']['labels']"
   ]
  },
  {
   "cell_type": "code",
   "execution_count": 7,
   "metadata": {},
   "outputs": [],
   "source": [
    "def sample_training_set(X_train, y_train, n_pcnt):\n",
    "    n = X_train.shape[0]*n_pcnt//100\n",
    "    return n, X_train[:n], y_train[:n]\n",
    "\n",
    "def time_function_call(function_call):\n",
    "    start = time()\n",
    "    result = function_call\n",
    "    execution_time = time() - start\n",
    "    return result, execution_time\n",
    "\n",
    "def run_model(model, model_name, n_pcnt, data, labels):\n",
    "\n",
    "    X_train, X_test, y_train, y_test = train_test_split(data, labels, stratify=labels)\n",
    "\n",
    "    \n",
    "    n, X_samp, y_samp = sample_training_set(X_train, y_train, n_pcnt)\n",
    "    \n",
    "    _, fit_time = time_function_call(\n",
    "        model.fit(X_samp, y_samp))\n",
    "    \n",
    "    train_pred, train_pred_time = time_function_call(\n",
    "        model.predict(X_samp))\n",
    "    \n",
    "    test_pred, test_pred_time = time_function_call(\n",
    "        model.predict(X_test))    \n",
    "    \n",
    "    return {\n",
    "            'model' : model,\n",
    "            'model_name' : model_name,\n",
    "            'n_pcnt' : n_pcnt,\n",
    "            'n' : n,\n",
    "            'f1_train_score' : f1_score(y_samp, train_pred),\n",
    "            'f1_test_score' : f1_score(y_test, test_pred),\n",
    "            'accuracy_train_score' : model.score(X_samp, y_samp),\n",
    "            'accuracy_test_score' : model.score(X_test, y_test),\n",
    "            'fit_time' : fit_time,\n",
    "            'train_pred_time' : train_pred_time,\n",
    "            'test_pred_time' : test_pred_time}"
   ]
  },
  {
   "cell_type": "markdown",
   "metadata": {},
   "source": [
    "## Variable Ranking - by Single Feature F$_1$ Score "
   ]
  },
  {
   "cell_type": "code",
   "execution_count": 8,
   "metadata": {
    "scrolled": false
   },
   "outputs": [
    {
     "name": "stderr",
     "output_type": "stream",
     "text": [
      "/opt/conda/lib/python3.6/site-packages/sklearn/metrics/classification.py:1135: UndefinedMetricWarning: F-score is ill-defined and being set to 0.0 due to no predicted samples.\n",
      "  'precision', 'predicted', average, warn_for)\n"
     ]
    }
   ],
   "source": [
    "test_scores = []\n",
    "for feature in adult_train_df.columns:\n",
    "    results = run_model(LogisticRegression(), 'variable ranking', 50, adult_train_df[[feature]], adult_train_target)\n",
    "    test_score = results['f1_test_score']\n",
    "    if test_score > 0:\n",
    "        test_scores.append({'feature': feature, 'score' : test_score})\n"
   ]
  },
  {
   "cell_type": "code",
   "execution_count": 9,
   "metadata": {},
   "outputs": [
    {
     "data": {
      "text/html": [
       "<div>\n",
       "<style scoped>\n",
       "    .dataframe tbody tr th:only-of-type {\n",
       "        vertical-align: middle;\n",
       "    }\n",
       "\n",
       "    .dataframe tbody tr th {\n",
       "        vertical-align: top;\n",
       "    }\n",
       "\n",
       "    .dataframe thead th {\n",
       "        text-align: right;\n",
       "    }\n",
       "</style>\n",
       "<table border=\"1\" class=\"dataframe\">\n",
       "  <thead>\n",
       "    <tr style=\"text-align: right;\">\n",
       "      <th></th>\n",
       "      <th>feature</th>\n",
       "      <th>score</th>\n",
       "    </tr>\n",
       "  </thead>\n",
       "  <tbody>\n",
       "    <tr>\n",
       "      <th>1</th>\n",
       "      <td>capital-gain</td>\n",
       "      <td>0.308522</td>\n",
       "    </tr>\n",
       "    <tr>\n",
       "      <th>6</th>\n",
       "      <td>education_ Masters</td>\n",
       "      <td>0.179751</td>\n",
       "    </tr>\n",
       "    <tr>\n",
       "      <th>2</th>\n",
       "      <td>capital-loss</td>\n",
       "      <td>0.164925</td>\n",
       "    </tr>\n",
       "    <tr>\n",
       "      <th>4</th>\n",
       "      <td>workclass_ Self-emp-inc</td>\n",
       "      <td>0.142529</td>\n",
       "    </tr>\n",
       "    <tr>\n",
       "      <th>7</th>\n",
       "      <td>education_ Prof-school</td>\n",
       "      <td>0.100799</td>\n",
       "    </tr>\n",
       "    <tr>\n",
       "      <th>5</th>\n",
       "      <td>education_ Doctorate</td>\n",
       "      <td>0.074448</td>\n",
       "    </tr>\n",
       "    <tr>\n",
       "      <th>3</th>\n",
       "      <td>hours-per-week</td>\n",
       "      <td>0.064204</td>\n",
       "    </tr>\n",
       "    <tr>\n",
       "      <th>0</th>\n",
       "      <td>age</td>\n",
       "      <td>0.025814</td>\n",
       "    </tr>\n",
       "  </tbody>\n",
       "</table>\n",
       "</div>"
      ],
      "text/plain": [
       "                   feature     score\n",
       "1             capital-gain  0.308522\n",
       "6       education_ Masters  0.179751\n",
       "2             capital-loss  0.164925\n",
       "4  workclass_ Self-emp-inc  0.142529\n",
       "7   education_ Prof-school  0.100799\n",
       "5     education_ Doctorate  0.074448\n",
       "3           hours-per-week  0.064204\n",
       "0                      age  0.025814"
      ]
     },
     "execution_count": 9,
     "metadata": {},
     "output_type": "execute_result"
    }
   ],
   "source": [
    "results = pd.DataFrame(test_scores).sort_values('score', ascending=False)\n",
    "results"
   ]
  },
  {
   "cell_type": "code",
   "execution_count": 10,
   "metadata": {},
   "outputs": [
    {
     "data": {
      "text/plain": [
       "['capital-gain',\n",
       " 'education_ Masters',\n",
       " 'capital-loss',\n",
       " 'workclass_ Self-emp-inc',\n",
       " 'education_ Prof-school',\n",
       " 'education_ Doctorate',\n",
       " 'hours-per-week',\n",
       " 'age']"
      ]
     },
     "execution_count": 10,
     "metadata": {},
     "output_type": "execute_result"
    }
   ],
   "source": [
    "performant_features = list(results.feature.values)\n",
    "performant_features"
   ]
  },
  {
   "cell_type": "code",
   "execution_count": 11,
   "metadata": {},
   "outputs": [],
   "source": [
    "features_to_test = []\n",
    "test_results = {}\n",
    "for feature in performant_features:\n",
    "    features_to_test.append(feature)\n",
    "    test_results[feature] = run_model(LogisticRegression(), 'logit', 100,\n",
    "                                      adult_train_df[features_to_test],\n",
    "                                      adult_train_target)"
   ]
  },
  {
   "cell_type": "code",
   "execution_count": 12,
   "metadata": {},
   "outputs": [
    {
     "data": {
      "text/html": [
       "<div>\n",
       "<style scoped>\n",
       "    .dataframe tbody tr th:only-of-type {\n",
       "        vertical-align: middle;\n",
       "    }\n",
       "\n",
       "    .dataframe tbody tr th {\n",
       "        vertical-align: top;\n",
       "    }\n",
       "\n",
       "    .dataframe thead th {\n",
       "        text-align: right;\n",
       "    }\n",
       "</style>\n",
       "<table border=\"1\" class=\"dataframe\">\n",
       "  <thead>\n",
       "    <tr style=\"text-align: right;\">\n",
       "      <th></th>\n",
       "      <th>accuracy_test_score</th>\n",
       "      <th>accuracy_train_score</th>\n",
       "      <th>f1_test_score</th>\n",
       "      <th>f1_train_score</th>\n",
       "      <th>fit_time</th>\n",
       "      <th>model</th>\n",
       "      <th>model_name</th>\n",
       "      <th>n</th>\n",
       "      <th>n_pcnt</th>\n",
       "      <th>test_pred_time</th>\n",
       "      <th>train_pred_time</th>\n",
       "    </tr>\n",
       "  </thead>\n",
       "  <tbody>\n",
       "    <tr>\n",
       "      <th>age</th>\n",
       "      <td>0.80919</td>\n",
       "      <td>0.80769</td>\n",
       "      <td>0.44783</td>\n",
       "      <td>0.443863</td>\n",
       "      <td>4.76837e-07</td>\n",
       "      <td>LogisticRegression(C=1.0, class_weight=None, d...</td>\n",
       "      <td>logit</td>\n",
       "      <td>18803</td>\n",
       "      <td>100</td>\n",
       "      <td>2.38419e-07</td>\n",
       "      <td>2.38419e-07</td>\n",
       "    </tr>\n",
       "    <tr>\n",
       "      <th>capital-gain</th>\n",
       "      <td>0.800574</td>\n",
       "      <td>0.799447</td>\n",
       "      <td>0.319172</td>\n",
       "      <td>0.326246</td>\n",
       "      <td>7.15256e-07</td>\n",
       "      <td>LogisticRegression(C=1.0, class_weight=None, d...</td>\n",
       "      <td>logit</td>\n",
       "      <td>18803</td>\n",
       "      <td>100</td>\n",
       "      <td>2.38419e-07</td>\n",
       "      <td>9.53674e-07</td>\n",
       "    </tr>\n",
       "    <tr>\n",
       "      <th>capital-loss</th>\n",
       "      <td>0.80217</td>\n",
       "      <td>0.802159</td>\n",
       "      <td>0.349423</td>\n",
       "      <td>0.354391</td>\n",
       "      <td>4.76837e-07</td>\n",
       "      <td>LogisticRegression(C=1.0, class_weight=None, d...</td>\n",
       "      <td>logit</td>\n",
       "      <td>18803</td>\n",
       "      <td>100</td>\n",
       "      <td>2.38419e-07</td>\n",
       "      <td>2.38419e-07</td>\n",
       "    </tr>\n",
       "    <tr>\n",
       "      <th>education_ Doctorate</th>\n",
       "      <td>0.811902</td>\n",
       "      <td>0.811626</td>\n",
       "      <td>0.435074</td>\n",
       "      <td>0.424813</td>\n",
       "      <td>7.15256e-07</td>\n",
       "      <td>LogisticRegression(C=1.0, class_weight=None, d...</td>\n",
       "      <td>logit</td>\n",
       "      <td>18803</td>\n",
       "      <td>100</td>\n",
       "      <td>2.38419e-07</td>\n",
       "      <td>4.76837e-07</td>\n",
       "    </tr>\n",
       "    <tr>\n",
       "      <th>education_ Masters</th>\n",
       "      <td>0.798979</td>\n",
       "      <td>0.79833</td>\n",
       "      <td>0.312227</td>\n",
       "      <td>0.318231</td>\n",
       "      <td>4.76837e-07</td>\n",
       "      <td>LogisticRegression(C=1.0, class_weight=None, d...</td>\n",
       "      <td>logit</td>\n",
       "      <td>18803</td>\n",
       "      <td>100</td>\n",
       "      <td>2.38419e-07</td>\n",
       "      <td>2.38419e-07</td>\n",
       "    </tr>\n",
       "    <tr>\n",
       "      <th>education_ Prof-school</th>\n",
       "      <td>0.812221</td>\n",
       "      <td>0.805988</td>\n",
       "      <td>0.42445</td>\n",
       "      <td>0.392607</td>\n",
       "      <td>4.76837e-07</td>\n",
       "      <td>LogisticRegression(C=1.0, class_weight=None, d...</td>\n",
       "      <td>logit</td>\n",
       "      <td>18803</td>\n",
       "      <td>100</td>\n",
       "      <td>4.76837e-07</td>\n",
       "      <td>4.76837e-07</td>\n",
       "    </tr>\n",
       "    <tr>\n",
       "      <th>hours-per-week</th>\n",
       "      <td>0.808551</td>\n",
       "      <td>0.809233</td>\n",
       "      <td>0.439252</td>\n",
       "      <td>0.442753</td>\n",
       "      <td>7.15256e-07</td>\n",
       "      <td>LogisticRegression(C=1.0, class_weight=None, d...</td>\n",
       "      <td>logit</td>\n",
       "      <td>18803</td>\n",
       "      <td>100</td>\n",
       "      <td>2.38419e-07</td>\n",
       "      <td>2.38419e-07</td>\n",
       "    </tr>\n",
       "    <tr>\n",
       "      <th>workclass_ Self-emp-inc</th>\n",
       "      <td>0.802808</td>\n",
       "      <td>0.807212</td>\n",
       "      <td>0.382617</td>\n",
       "      <td>0.39834</td>\n",
       "      <td>7.15256e-07</td>\n",
       "      <td>LogisticRegression(C=1.0, class_weight=None, d...</td>\n",
       "      <td>logit</td>\n",
       "      <td>18803</td>\n",
       "      <td>100</td>\n",
       "      <td>4.76837e-07</td>\n",
       "      <td>4.76837e-07</td>\n",
       "    </tr>\n",
       "  </tbody>\n",
       "</table>\n",
       "</div>"
      ],
      "text/plain": [
       "                        accuracy_test_score accuracy_train_score  \\\n",
       "age                                 0.80919              0.80769   \n",
       "capital-gain                       0.800574             0.799447   \n",
       "capital-loss                        0.80217             0.802159   \n",
       "education_ Doctorate               0.811902             0.811626   \n",
       "education_ Masters                 0.798979              0.79833   \n",
       "education_ Prof-school             0.812221             0.805988   \n",
       "hours-per-week                     0.808551             0.809233   \n",
       "workclass_ Self-emp-inc            0.802808             0.807212   \n",
       "\n",
       "                        f1_test_score f1_train_score     fit_time  \\\n",
       "age                           0.44783       0.443863  4.76837e-07   \n",
       "capital-gain                 0.319172       0.326246  7.15256e-07   \n",
       "capital-loss                 0.349423       0.354391  4.76837e-07   \n",
       "education_ Doctorate         0.435074       0.424813  7.15256e-07   \n",
       "education_ Masters           0.312227       0.318231  4.76837e-07   \n",
       "education_ Prof-school        0.42445       0.392607  4.76837e-07   \n",
       "hours-per-week               0.439252       0.442753  7.15256e-07   \n",
       "workclass_ Self-emp-inc      0.382617        0.39834  7.15256e-07   \n",
       "\n",
       "                                                                     model  \\\n",
       "age                      LogisticRegression(C=1.0, class_weight=None, d...   \n",
       "capital-gain             LogisticRegression(C=1.0, class_weight=None, d...   \n",
       "capital-loss             LogisticRegression(C=1.0, class_weight=None, d...   \n",
       "education_ Doctorate     LogisticRegression(C=1.0, class_weight=None, d...   \n",
       "education_ Masters       LogisticRegression(C=1.0, class_weight=None, d...   \n",
       "education_ Prof-school   LogisticRegression(C=1.0, class_weight=None, d...   \n",
       "hours-per-week           LogisticRegression(C=1.0, class_weight=None, d...   \n",
       "workclass_ Self-emp-inc  LogisticRegression(C=1.0, class_weight=None, d...   \n",
       "\n",
       "                        model_name      n n_pcnt test_pred_time  \\\n",
       "age                          logit  18803    100    2.38419e-07   \n",
       "capital-gain                 logit  18803    100    2.38419e-07   \n",
       "capital-loss                 logit  18803    100    2.38419e-07   \n",
       "education_ Doctorate         logit  18803    100    2.38419e-07   \n",
       "education_ Masters           logit  18803    100    2.38419e-07   \n",
       "education_ Prof-school       logit  18803    100    4.76837e-07   \n",
       "hours-per-week               logit  18803    100    2.38419e-07   \n",
       "workclass_ Self-emp-inc      logit  18803    100    4.76837e-07   \n",
       "\n",
       "                        train_pred_time  \n",
       "age                         2.38419e-07  \n",
       "capital-gain                9.53674e-07  \n",
       "capital-loss                2.38419e-07  \n",
       "education_ Doctorate        4.76837e-07  \n",
       "education_ Masters          2.38419e-07  \n",
       "education_ Prof-school      4.76837e-07  \n",
       "hours-per-week              2.38419e-07  \n",
       "workclass_ Self-emp-inc     4.76837e-07  "
      ]
     },
     "execution_count": 12,
     "metadata": {},
     "output_type": "execute_result"
    }
   ],
   "source": [
    "test_results = pd.DataFrame(test_results).T.sort_values('n')\n",
    "test_results"
   ]
  },
  {
   "cell_type": "code",
   "execution_count": 13,
   "metadata": {},
   "outputs": [
    {
     "data": {
      "text/plain": [
       "<matplotlib.legend.Legend at 0x7f50c52179e8>"
      ]
     },
     "execution_count": 13,
     "metadata": {},
     "output_type": "execute_result"
    },
    {
     "data": {
      "image/png": "[encoded data removed]",
      "text/plain": [
       "<matplotlib.figure.Figure at 0x7f50cc0a6da0>"
      ]
     },
     "metadata": {},
     "output_type": "display_data"
    }
   ],
   "source": [
    "plt.plot(range(len(features_to_test)), test_results.f1_test_score, label='test performance')\n",
    "plt.plot(range(len(features_to_test)), test_results.f1_train_score, label='train performance')\n",
    "plt.legend()"
   ]
  },
  {
   "cell_type": "markdown",
   "metadata": {},
   "source": [
    "## Variable-Ranking - By Regression Coefficient in Full Model"
   ]
  },
  {
   "cell_type": "code",
   "execution_count": 14,
   "metadata": {},
   "outputs": [],
   "source": [
    "results = run_model(LogisticRegression(), 'logit', 100,\n",
    "                    adult_train_df,\n",
    "                    adult_train_target)"
   ]
  },
  {
   "cell_type": "code",
   "execution_count": 15,
   "metadata": {},
   "outputs": [
    {
     "data": {
      "text/plain": [
       "{'model': LogisticRegression(C=1.0, class_weight=None, dual=False, fit_intercept=True,\n",
       "           intercept_scaling=1, max_iter=100, multi_class='ovr', n_jobs=1,\n",
       "           penalty='l2', random_state=None, solver='liblinear', tol=0.0001,\n",
       "           verbose=0, warm_start=False),\n",
       " 'model_name': 'logit',\n",
       " 'n_pcnt': 100,\n",
       " 'n': 18803,\n",
       " 'f1_train_score': 0.65824957097327774,\n",
       " 'f1_test_score': 0.62546816479400758,\n",
       " 'accuracy_train_score': 0.85172578843801516,\n",
       " 'accuracy_test_score': 0.84045947670708365,\n",
       " 'fit_time': 9.5367431640625e-07,\n",
       " 'train_pred_time': 1.1920928955078125e-06,\n",
       " 'test_pred_time': 7.152557373046875e-07}"
      ]
     },
     "execution_count": 15,
     "metadata": {},
     "output_type": "execute_result"
    }
   ],
   "source": [
    "results"
   ]
  },
  {
   "cell_type": "code",
   "execution_count": 16,
   "metadata": {},
   "outputs": [],
   "source": [
    "logistic_regression_model = results['model']"
   ]
  },
  {
   "cell_type": "code",
   "execution_count": 17,
   "metadata": {},
   "outputs": [
    {
     "data": {
      "text/plain": [
       "age                       0.017565\n",
       "capital-gain              0.000317\n",
       "capital-loss              0.000590\n",
       "hours-per-week            0.029323\n",
       "workclass_ Federal-gov    0.473793\n",
       "dtype: float64"
      ]
     },
     "execution_count": 17,
     "metadata": {},
     "output_type": "execute_result"
    }
   ],
   "source": [
    "coefficients = logistic_regression_model.coef_\n",
    "features = adult_train_df.columns\n",
    "coefficients = pd.Series(coefficients.T.ravel(), index=features)\n",
    "coefficients.head()"
   ]
  },
  {
   "cell_type": "code",
   "execution_count": 18,
   "metadata": {},
   "outputs": [
    {
     "data": {
      "text/plain": [
       "sex_ Female                           1.450448\n",
       "relationship_ Own-child               1.307968\n",
       "marital-status_ Never-married         1.270985\n",
       "relationship_ Wife                    0.937168\n",
       "occupation_ Other-service             0.905299\n",
       "occupation_ Prof-specialty            0.896235\n",
       "education_ 7th-8th                    0.889501\n",
       "occupation_ Farming-fishing           0.837797\n",
       "education_ Prof-school                0.837076\n",
       "education_ 10th                       0.828953\n",
       "occupation_ Exec-managerial           0.812178\n",
       "education_ 11th                       0.779153\n",
       "relationship_ Unmarried               0.776837\n",
       "education_ Masters                    0.775187\n",
       "marital-status_ Divorced              0.773767\n",
       "native-country_ Mexico                0.744541\n",
       "occupation_ Handlers-cleaners         0.720468\n",
       "education_ Doctorate                  0.716807\n",
       "marital-status_ Married-civ-spouse    0.678246\n",
       "sex_ Male                             0.667969\n",
       "dtype: float64"
      ]
     },
     "execution_count": 18,
     "metadata": {},
     "output_type": "execute_result"
    }
   ],
   "source": [
    "sorted_coefs = np.abs(coefficients).sort_values(ascending=False)\n",
    "sorted_coefs.head(20)"
   ]
  },
  {
   "cell_type": "code",
   "execution_count": 19,
   "metadata": {},
   "outputs": [
    {
     "data": {
      "text/plain": [
       "['sex_ Female',\n",
       " 'relationship_ Own-child',\n",
       " 'marital-status_ Never-married',\n",
       " 'relationship_ Wife',\n",
       " 'occupation_ Other-service',\n",
       " 'occupation_ Prof-specialty',\n",
       " 'education_ 7th-8th',\n",
       " 'occupation_ Farming-fishing',\n",
       " 'education_ Prof-school',\n",
       " 'education_ 10th',\n",
       " 'occupation_ Exec-managerial',\n",
       " 'education_ 11th',\n",
       " 'relationship_ Unmarried',\n",
       " 'education_ Masters',\n",
       " 'marital-status_ Divorced',\n",
       " 'native-country_ Mexico',\n",
       " 'occupation_ Handlers-cleaners',\n",
       " 'education_ Doctorate',\n",
       " 'marital-status_ Married-civ-spouse',\n",
       " 'sex_ Male']"
      ]
     },
     "execution_count": 19,
     "metadata": {},
     "output_type": "execute_result"
    }
   ],
   "source": [
    "performant_features = list(list(sorted_coefs.head(20).index))\n",
    "performant_features"
   ]
  },
  {
   "cell_type": "code",
   "execution_count": 20,
   "metadata": {},
   "outputs": [
    {
     "name": "stdout",
     "output_type": "stream",
     "text": [
      "(25071, 0)\n",
      "(25071, 1)\n",
      "(25071, 2)\n",
      "(25071, 3)\n",
      "(25071, 4)\n",
      "(25071, 5)\n",
      "(25071, 6)\n"
     ]
    },
    {
     "name": "stderr",
     "output_type": "stream",
     "text": [
      "/opt/conda/lib/python3.6/site-packages/sklearn/metrics/classification.py:1135: UndefinedMetricWarning: F-score is ill-defined and being set to 0.0 due to no predicted samples.\n",
      "  'precision', 'predicted', average, warn_for)\n"
     ]
    },
    {
     "name": "stdout",
     "output_type": "stream",
     "text": [
      "(25071, 7)\n",
      "(25071, 8)\n",
      "(25071, 9)\n",
      "(25071, 10)\n",
      "(25071, 11)\n",
      "(25071, 12)\n",
      "(25071, 13)\n",
      "(25071, 14)\n",
      "(25071, 15)\n",
      "(25071, 16)\n",
      "(25071, 17)\n",
      "(25071, 18)\n",
      "(25071, 19)\n"
     ]
    }
   ],
   "source": [
    "features_to_test = []\n",
    "test_results = {}\n",
    "for feature in performant_features:\n",
    "    print(adult_train_df[features_to_test].shape)\n",
    "    features_to_test.append(feature)\n",
    "    test_results[feature] = run_model(LogisticRegression(), 'logit', 100,\n",
    "                                      adult_train_df[features_to_test],\n",
    "                                      adult_train_target)"
   ]
  },
  {
   "cell_type": "code",
   "execution_count": 21,
   "metadata": {},
   "outputs": [
    {
     "data": {
      "text/plain": [
       "<matplotlib.legend.Legend at 0x7f50c515a9e8>"
      ]
     },
     "execution_count": 21,
     "metadata": {},
     "output_type": "execute_result"
    },
    {
     "data": {
      "image/png": "[encoded data removed]",
      "text/plain": [
       "<matplotlib.figure.Figure at 0x7f50c512e390>"
      ]
     },
     "metadata": {},
     "output_type": "display_data"
    }
   ],
   "source": [
    "test_results = pd.DataFrame(test_results).T.sort_values('n')\n",
    "\n",
    "plt.plot(range(len(features_to_test)), test_results.f1_test_score, label='test performance')\n",
    "plt.plot(range(len(features_to_test)), test_results.f1_train_score, label='train performance')\n",
    "plt.legend()"
   ]
  },
  {
   "cell_type": "code",
   "execution_count": 22,
   "metadata": {},
   "outputs": [
    {
     "name": "stdout",
     "output_type": "stream",
     "text": [
      "(25071, 4)\n",
      "(25071, 5)\n",
      "(25071, 6)\n",
      "(25071, 7)\n",
      "(25071, 8)\n",
      "(25071, 9)\n",
      "(25071, 10)\n",
      "(25071, 11)\n",
      "(25071, 12)\n",
      "(25071, 13)\n",
      "(25071, 14)\n",
      "(25071, 15)\n",
      "(25071, 16)\n",
      "(25071, 17)\n",
      "(25071, 18)\n",
      "(25071, 19)\n",
      "(25071, 20)\n",
      "(25071, 21)\n",
      "(25071, 22)\n",
      "(25071, 23)\n"
     ]
    }
   ],
   "source": [
    "features_to_test = ['age', 'capital-gain','capital-loss','hours-per-week']\n",
    "test_results = {}\n",
    "for feature in performant_features:\n",
    "    print(adult_train_df[features_to_test].shape)\n",
    "    features_to_test.append(feature)\n",
    "    test_results[feature] = run_model(LogisticRegression(), 'logit', 100,\n",
    "                                      adult_train_df[features_to_test],\n",
    "                                      adult_train_target)"
   ]
  },
  {
   "cell_type": "code",
   "execution_count": 23,
   "metadata": {},
   "outputs": [
    {
     "data": {
      "text/plain": [
       "<matplotlib.legend.Legend at 0x7f50c50d4c18>"
      ]
     },
     "execution_count": 23,
     "metadata": {},
     "output_type": "execute_result"
    },
    {
     "data": {
      "image/png": "[encoded data removed]",
      "text/plain": [
       "<matplotlib.figure.Figure at 0x7f50c510aef0>"
      ]
     },
     "metadata": {},
     "output_type": "display_data"
    }
   ],
   "source": [
    "test_results = pd.DataFrame(test_results).T.sort_values('n')\n",
    "\n",
    "plt.plot(range(len(features_to_test)-4), test_results.f1_test_score, label='test performance')\n",
    "plt.plot(range(len(features_to_test)-4), test_results.f1_train_score, label='train performance')\n",
    "plt.legend()"
   ]
  },
  {
   "cell_type": "code",
   "execution_count": null,
   "metadata": {},
   "outputs": [],
   "source": []
  }
 ],
 "metadata": {
  "kernelspec": {
   "display_name": "Python 3",
   "language": "python",
   "name": "python3"
  },
  "language_info": {
   "codemirror_mode": {
    "name": "ipython",
    "version": 3
   },
   "file_extension": ".py",
   "mimetype": "text/x-python",
   "name": "python",
   "nbconvert_exporter": "python",
   "pygments_lexer": "ipython3",
   "version": "3.6.5"
  }
 },
 "nbformat": 4,
 "nbformat_minor": 2
}
