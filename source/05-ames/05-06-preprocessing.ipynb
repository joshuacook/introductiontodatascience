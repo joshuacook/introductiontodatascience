{
 "cells": [
  {
   "cell_type": "markdown",
   "metadata": {},
   "source": [
    "## Preprocessing\n",
    "\n",
    "In the file `src/preprocessing.py`, we perform the preprocessing steps necessary for the next phase of this project. This file does the following:\n",
    "\n",
    "1. Load and merge data, using the `Id` feature as we did previously\n",
    "2. Assign correct data types, in particular, designating which features are categorical\n",
    "3. Handle missing values, using the work we did previously"
   ]
  },
  {
   "cell_type": "code",
   "execution_count": 1,
   "metadata": {},
   "outputs": [],
   "source": [
    "run src/preprocessing.py"
   ]
  },
  {
   "cell_type": "markdown",
   "metadata": {},
   "source": [
    "### Skew-Normalization\n",
    "\n",
    "Next, we look at skew-normalizing our data. We have two methods that we have worked with to apply skew-normalization:\n",
    "\n",
    "- applying a log transform\n",
    "- applying a box-cox transform\n",
    "\n",
    "In the past, we have seen that the box-cox transform has been more performant in terms of removing skew from a dataset. With this data set, however, there is another issue.\n"
   ]
  },
  {
   "cell_type": "code",
   "execution_count": 2,
   "metadata": {},
   "outputs": [],
   "source": [
    "import scipy.stats as st"
   ]
  },
  {
   "cell_type": "markdown",
   "metadata": {},
   "source": [
    "To see this issue, let's look at the `LotArea` feature from the numeric dataset."
   ]
  },
  {
   "cell_type": "code",
   "execution_count": 3,
   "metadata": {},
   "outputs": [
    {
     "name": "stderr",
     "output_type": "stream",
     "text": [
      "/opt/conda/lib/python3.6/site-packages/scipy/stats/morestats.py:901: RuntimeWarning: divide by zero encountered in log\n",
      "  llf -= N / 2.0 * np.log(np.sum((y - y_mean)**2. / N, axis=0))\n",
      "/opt/conda/lib/python3.6/site-packages/scipy/optimize/optimize.py:2189: RuntimeWarning: invalid value encountered in double_scalars\n",
      "  w = xb - ((xb - xc) * tmp2 - (xb - xa) * tmp1) / denom\n",
      "/opt/conda/lib/python3.6/site-packages/scipy/optimize/optimize.py:1849: RuntimeWarning: invalid value encountered in double_scalars\n",
      "  tmp1 = (x - w) * (fx - fv)\n",
      "/opt/conda/lib/python3.6/site-packages/scipy/optimize/optimize.py:1850: RuntimeWarning: invalid value encountered in double_scalars\n",
      "  tmp2 = (x - v) * (fx - fw)\n",
      "/opt/conda/lib/python3.6/site-packages/scipy/optimize/optimize.py:1855: RuntimeWarning: invalid value encountered in absolute\n",
      "  tmp2 = numpy.abs(tmp2)\n",
      "/opt/conda/lib/python3.6/site-packages/scipy/optimize/optimize.py:1851: RuntimeWarning: invalid value encountered in double_scalars\n",
      "  p = (x - v) * tmp2 - (x - w) * tmp1\n",
      "/opt/conda/lib/python3.6/site-packages/scipy/optimize/optimize.py:1852: RuntimeWarning: invalid value encountered in double_scalars\n",
      "  tmp2 = 2.0 * (tmp2 - tmp1)\n"
     ]
    }
   ],
   "source": [
    "box_cox_trans = st.boxcox(numeric_df['LotArea'] + 1)"
   ]
  },
  {
   "cell_type": "markdown",
   "metadata": {},
   "source": [
    "Note that applying a box-cox transform to this feature causes a `RunTimeWarning`. This is a known an open issue for the `scipy` library and can be tracked here: https://github.com/scipy/scipy/issues/6873. The details of the issue are complicated, but the short of it is that a floating-point arithmetic error is introduced. As such, we are not able to easily use the Box-Cox transform on this data set. We will stick to applying a log transform."
   ]
  },
  {
   "cell_type": "code",
   "execution_count": 4,
   "metadata": {},
   "outputs": [],
   "source": [
    "numeric_log_df = np.log(numeric_df + 1)"
   ]
  },
  {
   "cell_type": "markdown",
   "metadata": {},
   "source": [
    "### One-hot Encoding\n",
    "\n",
    "In order to understand our categorical data from a numerical perspective, and ultimately in order to use our categorical data in a machine learning model, we need to numerically encode our categorical data.The standard way to do this is to perform a so-called \"One-hot Encoding\". This is also known as encoding with dummy variables. Using Pandas, it is possible to perform this encoding on properly typed data using the function `pd.get_dummies()`."
   ]
  },
  {
   "cell_type": "code",
   "execution_count": 5,
   "metadata": {},
   "outputs": [],
   "source": [
    "categorical_encoded_df = pd.get_dummies(categorical_df)"
   ]
  },
  {
   "cell_type": "code",
   "execution_count": 6,
   "metadata": {},
   "outputs": [
    {
     "data": {
      "text/plain": [
       "(1451, 359)"
      ]
     },
     "execution_count": 6,
     "metadata": {},
     "output_type": "execute_result"
    }
   ],
   "source": [
    "categorical_encoded_df.shape"
   ]
  },
  {
   "cell_type": "code",
   "execution_count": 7,
   "metadata": {},
   "outputs": [
    {
     "data": {
      "text/html": [
       "<div>\n",
       "<table border=\"1\" class=\"dataframe\">\n",
       "  <thead>\n",
       "    <tr style=\"text-align: right;\">\n",
       "      <th></th>\n",
       "      <th>MSSubClass_20</th>\n",
       "      <th>MSSubClass_30</th>\n",
       "      <th>MSSubClass_40</th>\n",
       "      <th>MSSubClass_45</th>\n",
       "      <th>MSSubClass_50</th>\n",
       "      <th>MSSubClass_60</th>\n",
       "      <th>MSSubClass_70</th>\n",
       "      <th>MSSubClass_75</th>\n",
       "      <th>MSSubClass_80</th>\n",
       "      <th>MSSubClass_85</th>\n",
       "      <th>...</th>\n",
       "      <th>SaleType_ConLw</th>\n",
       "      <th>SaleType_New</th>\n",
       "      <th>SaleType_Oth</th>\n",
       "      <th>SaleType_WD</th>\n",
       "      <th>SaleCondition_Abnorml</th>\n",
       "      <th>SaleCondition_AdjLand</th>\n",
       "      <th>SaleCondition_Alloca</th>\n",
       "      <th>SaleCondition_Family</th>\n",
       "      <th>SaleCondition_Normal</th>\n",
       "      <th>SaleCondition_Partial</th>\n",
       "    </tr>\n",
       "    <tr>\n",
       "      <th>Id</th>\n",
       "      <th></th>\n",
       "      <th></th>\n",
       "      <th></th>\n",
       "      <th></th>\n",
       "      <th></th>\n",
       "      <th></th>\n",
       "      <th></th>\n",
       "      <th></th>\n",
       "      <th></th>\n",
       "      <th></th>\n",
       "      <th></th>\n",
       "      <th></th>\n",
       "      <th></th>\n",
       "      <th></th>\n",
       "      <th></th>\n",
       "      <th></th>\n",
       "      <th></th>\n",
       "      <th></th>\n",
       "      <th></th>\n",
       "      <th></th>\n",
       "      <th></th>\n",
       "    </tr>\n",
       "  </thead>\n",
       "  <tbody>\n",
       "    <tr>\n",
       "      <th>201</th>\n",
       "      <td>1</td>\n",
       "      <td>0</td>\n",
       "      <td>0</td>\n",
       "      <td>0</td>\n",
       "      <td>0</td>\n",
       "      <td>0</td>\n",
       "      <td>0</td>\n",
       "      <td>0</td>\n",
       "      <td>0</td>\n",
       "      <td>0</td>\n",
       "      <td>...</td>\n",
       "      <td>0</td>\n",
       "      <td>0</td>\n",
       "      <td>0</td>\n",
       "      <td>1</td>\n",
       "      <td>0</td>\n",
       "      <td>0</td>\n",
       "      <td>0</td>\n",
       "      <td>0</td>\n",
       "      <td>1</td>\n",
       "      <td>0</td>\n",
       "    </tr>\n",
       "    <tr>\n",
       "      <th>579</th>\n",
       "      <td>0</td>\n",
       "      <td>0</td>\n",
       "      <td>0</td>\n",
       "      <td>0</td>\n",
       "      <td>0</td>\n",
       "      <td>0</td>\n",
       "      <td>0</td>\n",
       "      <td>0</td>\n",
       "      <td>0</td>\n",
       "      <td>0</td>\n",
       "      <td>...</td>\n",
       "      <td>0</td>\n",
       "      <td>0</td>\n",
       "      <td>0</td>\n",
       "      <td>1</td>\n",
       "      <td>1</td>\n",
       "      <td>0</td>\n",
       "      <td>0</td>\n",
       "      <td>0</td>\n",
       "      <td>0</td>\n",
       "      <td>0</td>\n",
       "    </tr>\n",
       "    <tr>\n",
       "      <th>1316</th>\n",
       "      <td>0</td>\n",
       "      <td>0</td>\n",
       "      <td>0</td>\n",
       "      <td>0</td>\n",
       "      <td>0</td>\n",
       "      <td>1</td>\n",
       "      <td>0</td>\n",
       "      <td>0</td>\n",
       "      <td>0</td>\n",
       "      <td>0</td>\n",
       "      <td>...</td>\n",
       "      <td>0</td>\n",
       "      <td>0</td>\n",
       "      <td>0</td>\n",
       "      <td>1</td>\n",
       "      <td>0</td>\n",
       "      <td>0</td>\n",
       "      <td>0</td>\n",
       "      <td>0</td>\n",
       "      <td>1</td>\n",
       "      <td>0</td>\n",
       "    </tr>\n",
       "    <tr>\n",
       "      <th>783</th>\n",
       "      <td>1</td>\n",
       "      <td>0</td>\n",
       "      <td>0</td>\n",
       "      <td>0</td>\n",
       "      <td>0</td>\n",
       "      <td>0</td>\n",
       "      <td>0</td>\n",
       "      <td>0</td>\n",
       "      <td>0</td>\n",
       "      <td>0</td>\n",
       "      <td>...</td>\n",
       "      <td>0</td>\n",
       "      <td>0</td>\n",
       "      <td>0</td>\n",
       "      <td>1</td>\n",
       "      <td>0</td>\n",
       "      <td>0</td>\n",
       "      <td>0</td>\n",
       "      <td>0</td>\n",
       "      <td>1</td>\n",
       "      <td>0</td>\n",
       "    </tr>\n",
       "    <tr>\n",
       "      <th>55</th>\n",
       "      <td>0</td>\n",
       "      <td>0</td>\n",
       "      <td>0</td>\n",
       "      <td>0</td>\n",
       "      <td>0</td>\n",
       "      <td>0</td>\n",
       "      <td>0</td>\n",
       "      <td>0</td>\n",
       "      <td>1</td>\n",
       "      <td>0</td>\n",
       "      <td>...</td>\n",
       "      <td>0</td>\n",
       "      <td>0</td>\n",
       "      <td>0</td>\n",
       "      <td>1</td>\n",
       "      <td>0</td>\n",
       "      <td>0</td>\n",
       "      <td>0</td>\n",
       "      <td>0</td>\n",
       "      <td>1</td>\n",
       "      <td>0</td>\n",
       "    </tr>\n",
       "  </tbody>\n",
       "</table>\n",
       "<p>5 rows × 359 columns</p>\n",
       "</div>"
      ],
      "text/plain": [
       "      MSSubClass_20  MSSubClass_30  MSSubClass_40  MSSubClass_45  \\\n",
       "Id                                                                 \n",
       "201               1              0              0              0   \n",
       "579               0              0              0              0   \n",
       "1316              0              0              0              0   \n",
       "783               1              0              0              0   \n",
       "55                0              0              0              0   \n",
       "\n",
       "      MSSubClass_50  MSSubClass_60  MSSubClass_70  MSSubClass_75  \\\n",
       "Id                                                                 \n",
       "201               0              0              0              0   \n",
       "579               0              0              0              0   \n",
       "1316              0              1              0              0   \n",
       "783               0              0              0              0   \n",
       "55                0              0              0              0   \n",
       "\n",
       "      MSSubClass_80  MSSubClass_85          ...            SaleType_ConLw  \\\n",
       "Id                                          ...                             \n",
       "201               0              0          ...                         0   \n",
       "579               0              0          ...                         0   \n",
       "1316              0              0          ...                         0   \n",
       "783               0              0          ...                         0   \n",
       "55                1              0          ...                         0   \n",
       "\n",
       "      SaleType_New  SaleType_Oth  SaleType_WD  SaleCondition_Abnorml  \\\n",
       "Id                                                                     \n",
       "201              0             0            1                      0   \n",
       "579              0             0            1                      1   \n",
       "1316             0             0            1                      0   \n",
       "783              0             0            1                      0   \n",
       "55               0             0            1                      0   \n",
       "\n",
       "      SaleCondition_AdjLand  SaleCondition_Alloca  SaleCondition_Family  \\\n",
       "Id                                                                        \n",
       "201                       0                     0                     0   \n",
       "579                       0                     0                     0   \n",
       "1316                      0                     0                     0   \n",
       "783                       0                     0                     0   \n",
       "55                        0                     0                     0   \n",
       "\n",
       "      SaleCondition_Normal  SaleCondition_Partial  \n",
       "Id                                                 \n",
       "201                      1                      0  \n",
       "579                      0                      0  \n",
       "1316                     1                      0  \n",
       "783                      1                      0  \n",
       "55                       1                      0  \n",
       "\n",
       "[5 rows x 359 columns]"
      ]
     },
     "execution_count": 7,
     "metadata": {},
     "output_type": "execute_result"
    }
   ],
   "source": [
    "categorical_encoded_df.sample(5)"
   ]
  },
  {
   "cell_type": "markdown",
   "metadata": {},
   "source": [
    "Let us now consider this statistical description of an encoded categorical feature. Note that the categorical feature `MSSubClass` Has been converted it to 15 columns, one for each possible category."
   ]
  },
  {
   "cell_type": "code",
   "execution_count": 8,
   "metadata": {},
   "outputs": [
    {
     "data": {
      "text/plain": [
       "['MSSubClass_20',\n",
       " 'MSSubClass_30',\n",
       " 'MSSubClass_40',\n",
       " 'MSSubClass_45',\n",
       " 'MSSubClass_50',\n",
       " 'MSSubClass_60',\n",
       " 'MSSubClass_70',\n",
       " 'MSSubClass_75',\n",
       " 'MSSubClass_80',\n",
       " 'MSSubClass_85',\n",
       " 'MSSubClass_90',\n",
       " 'MSSubClass_120',\n",
       " 'MSSubClass_160',\n",
       " 'MSSubClass_180',\n",
       " 'MSSubClass_190']"
      ]
     },
     "execution_count": 8,
     "metadata": {},
     "output_type": "execute_result"
    }
   ],
   "source": [
    "ms_sub_class_encoded_cols = [col for col in categorical_encoded_df.columns if 'MSSubClass' in col]\n",
    "ms_sub_class_encoded_cols"
   ]
  },
  {
   "cell_type": "markdown",
   "metadata": {},
   "source": [
    "We can use this list to filter the full categorical data frame to simply look at the encoded `MSSubClass` feature."
   ]
  },
  {
   "cell_type": "code",
   "execution_count": 9,
   "metadata": {},
   "outputs": [
    {
     "data": {
      "text/html": [
       "<div>\n",
       "<table border=\"1\" class=\"dataframe\">\n",
       "  <thead>\n",
       "    <tr style=\"text-align: right;\">\n",
       "      <th></th>\n",
       "      <th>MSSubClass_20</th>\n",
       "      <th>MSSubClass_30</th>\n",
       "      <th>MSSubClass_40</th>\n",
       "      <th>MSSubClass_45</th>\n",
       "      <th>MSSubClass_50</th>\n",
       "      <th>MSSubClass_60</th>\n",
       "      <th>MSSubClass_70</th>\n",
       "      <th>MSSubClass_75</th>\n",
       "      <th>MSSubClass_80</th>\n",
       "      <th>MSSubClass_85</th>\n",
       "      <th>MSSubClass_90</th>\n",
       "      <th>MSSubClass_120</th>\n",
       "      <th>MSSubClass_160</th>\n",
       "      <th>MSSubClass_180</th>\n",
       "      <th>MSSubClass_190</th>\n",
       "    </tr>\n",
       "    <tr>\n",
       "      <th>Id</th>\n",
       "      <th></th>\n",
       "      <th></th>\n",
       "      <th></th>\n",
       "      <th></th>\n",
       "      <th></th>\n",
       "      <th></th>\n",
       "      <th></th>\n",
       "      <th></th>\n",
       "      <th></th>\n",
       "      <th></th>\n",
       "      <th></th>\n",
       "      <th></th>\n",
       "      <th></th>\n",
       "      <th></th>\n",
       "      <th></th>\n",
       "    </tr>\n",
       "  </thead>\n",
       "  <tbody>\n",
       "    <tr>\n",
       "      <th>1</th>\n",
       "      <td>0</td>\n",
       "      <td>0</td>\n",
       "      <td>0</td>\n",
       "      <td>0</td>\n",
       "      <td>0</td>\n",
       "      <td>1</td>\n",
       "      <td>0</td>\n",
       "      <td>0</td>\n",
       "      <td>0</td>\n",
       "      <td>0</td>\n",
       "      <td>0</td>\n",
       "      <td>0</td>\n",
       "      <td>0</td>\n",
       "      <td>0</td>\n",
       "      <td>0</td>\n",
       "    </tr>\n",
       "    <tr>\n",
       "      <th>2</th>\n",
       "      <td>1</td>\n",
       "      <td>0</td>\n",
       "      <td>0</td>\n",
       "      <td>0</td>\n",
       "      <td>0</td>\n",
       "      <td>0</td>\n",
       "      <td>0</td>\n",
       "      <td>0</td>\n",
       "      <td>0</td>\n",
       "      <td>0</td>\n",
       "      <td>0</td>\n",
       "      <td>0</td>\n",
       "      <td>0</td>\n",
       "      <td>0</td>\n",
       "      <td>0</td>\n",
       "    </tr>\n",
       "    <tr>\n",
       "      <th>3</th>\n",
       "      <td>0</td>\n",
       "      <td>0</td>\n",
       "      <td>0</td>\n",
       "      <td>0</td>\n",
       "      <td>0</td>\n",
       "      <td>1</td>\n",
       "      <td>0</td>\n",
       "      <td>0</td>\n",
       "      <td>0</td>\n",
       "      <td>0</td>\n",
       "      <td>0</td>\n",
       "      <td>0</td>\n",
       "      <td>0</td>\n",
       "      <td>0</td>\n",
       "      <td>0</td>\n",
       "    </tr>\n",
       "    <tr>\n",
       "      <th>4</th>\n",
       "      <td>0</td>\n",
       "      <td>0</td>\n",
       "      <td>0</td>\n",
       "      <td>0</td>\n",
       "      <td>0</td>\n",
       "      <td>0</td>\n",
       "      <td>1</td>\n",
       "      <td>0</td>\n",
       "      <td>0</td>\n",
       "      <td>0</td>\n",
       "      <td>0</td>\n",
       "      <td>0</td>\n",
       "      <td>0</td>\n",
       "      <td>0</td>\n",
       "      <td>0</td>\n",
       "    </tr>\n",
       "    <tr>\n",
       "      <th>5</th>\n",
       "      <td>0</td>\n",
       "      <td>0</td>\n",
       "      <td>0</td>\n",
       "      <td>0</td>\n",
       "      <td>0</td>\n",
       "      <td>1</td>\n",
       "      <td>0</td>\n",
       "      <td>0</td>\n",
       "      <td>0</td>\n",
       "      <td>0</td>\n",
       "      <td>0</td>\n",
       "      <td>0</td>\n",
       "      <td>0</td>\n",
       "      <td>0</td>\n",
       "      <td>0</td>\n",
       "    </tr>\n",
       "  </tbody>\n",
       "</table>\n",
       "</div>"
      ],
      "text/plain": [
       "    MSSubClass_20  MSSubClass_30  MSSubClass_40  MSSubClass_45  MSSubClass_50  \\\n",
       "Id                                                                              \n",
       "1               0              0              0              0              0   \n",
       "2               1              0              0              0              0   \n",
       "3               0              0              0              0              0   \n",
       "4               0              0              0              0              0   \n",
       "5               0              0              0              0              0   \n",
       "\n",
       "    MSSubClass_60  MSSubClass_70  MSSubClass_75  MSSubClass_80  MSSubClass_85  \\\n",
       "Id                                                                              \n",
       "1               1              0              0              0              0   \n",
       "2               0              0              0              0              0   \n",
       "3               1              0              0              0              0   \n",
       "4               0              1              0              0              0   \n",
       "5               1              0              0              0              0   \n",
       "\n",
       "    MSSubClass_90  MSSubClass_120  MSSubClass_160  MSSubClass_180  \\\n",
       "Id                                                                  \n",
       "1               0               0               0               0   \n",
       "2               0               0               0               0   \n",
       "3               0               0               0               0   \n",
       "4               0               0               0               0   \n",
       "5               0               0               0               0   \n",
       "\n",
       "    MSSubClass_190  \n",
       "Id                  \n",
       "1                0  \n",
       "2                0  \n",
       "3                0  \n",
       "4                0  \n",
       "5                0  "
      ]
     },
     "execution_count": 9,
     "metadata": {},
     "output_type": "execute_result"
    }
   ],
   "source": [
    "categorical_encoded_df[ms_sub_class_encoded_cols].head()"
   ]
  },
  {
   "cell_type": "markdown",
   "metadata": {},
   "source": [
    "Next, we take a sum for each column and over the whole filtered dataframe. Note that to sum over the whole data frame, we must request the `.values` of the DataFrame which has the effect of converting the data into a simple Numpy array. This is because the `.sum()` method in Pandas can only be performed over columns (`.sum(axis=1)`) or rows (`.sum(axis=0)`), whereas the `.sum()` method in Numpy can be performed over the entire array."
   ]
  },
  {
   "cell_type": "code",
   "execution_count": 10,
   "metadata": {},
   "outputs": [
    {
     "data": {
      "text/plain": [
       "(MSSubClass_20     532\n",
       " MSSubClass_30      69\n",
       " MSSubClass_40       4\n",
       " MSSubClass_45      12\n",
       " MSSubClass_50     144\n",
       " MSSubClass_60     296\n",
       " MSSubClass_70      60\n",
       " MSSubClass_75      16\n",
       " MSSubClass_80      57\n",
       " MSSubClass_85      20\n",
       " MSSubClass_90      52\n",
       " MSSubClass_120     86\n",
       " MSSubClass_160     63\n",
       " MSSubClass_180     10\n",
       " MSSubClass_190     30\n",
       " dtype: int64, 1451)"
      ]
     },
     "execution_count": 10,
     "metadata": {},
     "output_type": "execute_result"
    }
   ],
   "source": [
    "(categorical_encoded_df[ms_sub_class_encoded_cols].sum(), \n",
    " categorical_encoded_df[ms_sub_class_encoded_cols].values.sum())"
   ]
  },
  {
   "cell_type": "code",
   "execution_count": 11,
   "metadata": {},
   "outputs": [
    {
     "data": {
      "text/plain": [
       "(1451, 15)"
      ]
     },
     "execution_count": 11,
     "metadata": {},
     "output_type": "execute_result"
    }
   ],
   "source": [
    "categorical_encoded_df[ms_sub_class_encoded_cols].shape"
   ]
  },
  {
   "cell_type": "markdown",
   "metadata": {},
   "source": [
    "It is useful to think about the sparsity of the one-hot encoded data. This filtered dataframe, `categorical_encoded_df[ms_sub_class_encoded_cols]` has a shape of `(1451, 15)`, that is, 21765 datapoints, but only 1451 contain a value of 1, the rest containing a value of 0. In other words, 14 out of 15 or 93% of values in this filtered dataframe are 0."
   ]
  },
  {
   "cell_type": "markdown",
   "metadata": {},
   "source": [
    "Next, let's look at mean and standard deviation of the filtered dataframe."
   ]
  },
  {
   "cell_type": "code",
   "execution_count": 12,
   "metadata": {},
   "outputs": [
    {
     "data": {
      "text/html": [
       "<div>\n",
       "<table border=\"1\" class=\"dataframe\">\n",
       "  <thead>\n",
       "    <tr style=\"text-align: right;\">\n",
       "      <th></th>\n",
       "      <th>mean</th>\n",
       "      <th>std</th>\n",
       "      <th>var</th>\n",
       "    </tr>\n",
       "  </thead>\n",
       "  <tbody>\n",
       "    <tr>\n",
       "      <th>MSSubClass_20</th>\n",
       "      <td>0.366644</td>\n",
       "      <td>0.482054</td>\n",
       "      <td>0.232376</td>\n",
       "    </tr>\n",
       "    <tr>\n",
       "      <th>MSSubClass_60</th>\n",
       "      <td>0.203997</td>\n",
       "      <td>0.403106</td>\n",
       "      <td>0.162494</td>\n",
       "    </tr>\n",
       "    <tr>\n",
       "      <th>MSSubClass_50</th>\n",
       "      <td>0.099242</td>\n",
       "      <td>0.299090</td>\n",
       "      <td>0.089455</td>\n",
       "    </tr>\n",
       "    <tr>\n",
       "      <th>MSSubClass_120</th>\n",
       "      <td>0.059269</td>\n",
       "      <td>0.236210</td>\n",
       "      <td>0.055795</td>\n",
       "    </tr>\n",
       "    <tr>\n",
       "      <th>MSSubClass_30</th>\n",
       "      <td>0.047553</td>\n",
       "      <td>0.212893</td>\n",
       "      <td>0.045323</td>\n",
       "    </tr>\n",
       "    <tr>\n",
       "      <th>MSSubClass_160</th>\n",
       "      <td>0.043418</td>\n",
       "      <td>0.203867</td>\n",
       "      <td>0.041562</td>\n",
       "    </tr>\n",
       "    <tr>\n",
       "      <th>MSSubClass_70</th>\n",
       "      <td>0.041351</td>\n",
       "      <td>0.199169</td>\n",
       "      <td>0.039668</td>\n",
       "    </tr>\n",
       "    <tr>\n",
       "      <th>MSSubClass_80</th>\n",
       "      <td>0.039283</td>\n",
       "      <td>0.194335</td>\n",
       "      <td>0.037766</td>\n",
       "    </tr>\n",
       "    <tr>\n",
       "      <th>MSSubClass_90</th>\n",
       "      <td>0.035837</td>\n",
       "      <td>0.185949</td>\n",
       "      <td>0.034577</td>\n",
       "    </tr>\n",
       "    <tr>\n",
       "      <th>MSSubClass_190</th>\n",
       "      <td>0.020675</td>\n",
       "      <td>0.142344</td>\n",
       "      <td>0.020262</td>\n",
       "    </tr>\n",
       "    <tr>\n",
       "      <th>MSSubClass_85</th>\n",
       "      <td>0.013784</td>\n",
       "      <td>0.116632</td>\n",
       "      <td>0.013603</td>\n",
       "    </tr>\n",
       "    <tr>\n",
       "      <th>MSSubClass_75</th>\n",
       "      <td>0.011027</td>\n",
       "      <td>0.104464</td>\n",
       "      <td>0.010913</td>\n",
       "    </tr>\n",
       "    <tr>\n",
       "      <th>MSSubClass_45</th>\n",
       "      <td>0.008270</td>\n",
       "      <td>0.090595</td>\n",
       "      <td>0.008207</td>\n",
       "    </tr>\n",
       "    <tr>\n",
       "      <th>MSSubClass_180</th>\n",
       "      <td>0.006892</td>\n",
       "      <td>0.082759</td>\n",
       "      <td>0.006849</td>\n",
       "    </tr>\n",
       "    <tr>\n",
       "      <th>MSSubClass_40</th>\n",
       "      <td>0.002757</td>\n",
       "      <td>0.052450</td>\n",
       "      <td>0.002751</td>\n",
       "    </tr>\n",
       "  </tbody>\n",
       "</table>\n",
       "</div>"
      ],
      "text/plain": [
       "                    mean       std       var\n",
       "MSSubClass_20   0.366644  0.482054  0.232376\n",
       "MSSubClass_60   0.203997  0.403106  0.162494\n",
       "MSSubClass_50   0.099242  0.299090  0.089455\n",
       "MSSubClass_120  0.059269  0.236210  0.055795\n",
       "MSSubClass_30   0.047553  0.212893  0.045323\n",
       "MSSubClass_160  0.043418  0.203867  0.041562\n",
       "MSSubClass_70   0.041351  0.199169  0.039668\n",
       "MSSubClass_80   0.039283  0.194335  0.037766\n",
       "MSSubClass_90   0.035837  0.185949  0.034577\n",
       "MSSubClass_190  0.020675  0.142344  0.020262\n",
       "MSSubClass_85   0.013784  0.116632  0.013603\n",
       "MSSubClass_75   0.011027  0.104464  0.010913\n",
       "MSSubClass_45   0.008270  0.090595  0.008207\n",
       "MSSubClass_180  0.006892  0.082759  0.006849\n",
       "MSSubClass_40   0.002757  0.052450  0.002751"
      ]
     },
     "execution_count": 12,
     "metadata": {},
     "output_type": "execute_result"
    }
   ],
   "source": [
    "stats = pd.DataFrame()\n",
    "stats['mean'] = categorical_encoded_df[ms_sub_class_encoded_cols].mean()\n",
    "stats['std'] = categorical_encoded_df[ms_sub_class_encoded_cols].std()\n",
    "stats['var'] = categorical_encoded_df[ms_sub_class_encoded_cols].var()\n",
    "stats.sort_values('std', ascending=False)"
   ]
  },
  {
   "cell_type": "markdown",
   "metadata": {},
   "source": [
    "We note that most of the one-hot encoded columns have very little variance. In a moment, we'll restrict our analysis to one-hot encoded features that have a variance greater than 0.2. Below is a list of these features. Remember that each of these represents a Boolean variable as to whether or not each row has this particular category-attribute. "
   ]
  },
  {
   "cell_type": "code",
   "execution_count": 13,
   "metadata": {},
   "outputs": [
    {
     "data": {
      "text/html": [
       "<div>\n",
       "<table border=\"1\" class=\"dataframe\">\n",
       "  <thead>\n",
       "    <tr style=\"text-align: right;\">\n",
       "      <th></th>\n",
       "      <th>mean</th>\n",
       "      <th>std</th>\n",
       "      <th>var</th>\n",
       "    </tr>\n",
       "  </thead>\n",
       "  <tbody>\n",
       "    <tr>\n",
       "      <th>HouseStyle_1Story</th>\n",
       "      <td>0.496899</td>\n",
       "      <td>0.500163</td>\n",
       "      <td>0.250163</td>\n",
       "    </tr>\n",
       "    <tr>\n",
       "      <th>HeatingQC_Ex</th>\n",
       "      <td>0.505858</td>\n",
       "      <td>0.500138</td>\n",
       "      <td>0.250138</td>\n",
       "    </tr>\n",
       "    <tr>\n",
       "      <th>KitchenQual_TA</th>\n",
       "      <td>0.505858</td>\n",
       "      <td>0.500138</td>\n",
       "      <td>0.250138</td>\n",
       "    </tr>\n",
       "    <tr>\n",
       "      <th>FullBath_2</th>\n",
       "      <td>0.524466</td>\n",
       "      <td>0.499573</td>\n",
       "      <td>0.249573</td>\n",
       "    </tr>\n",
       "    <tr>\n",
       "      <th>Fireplaces_0</th>\n",
       "      <td>0.472088</td>\n",
       "      <td>0.499392</td>\n",
       "      <td>0.249393</td>\n",
       "    </tr>\n",
       "  </tbody>\n",
       "</table>\n",
       "</div>"
      ],
      "text/plain": [
       "                       mean       std       var\n",
       "HouseStyle_1Story  0.496899  0.500163  0.250163\n",
       "HeatingQC_Ex       0.505858  0.500138  0.250138\n",
       "KitchenQual_TA     0.505858  0.500138  0.250138\n",
       "FullBath_2         0.524466  0.499573  0.249573\n",
       "Fireplaces_0       0.472088  0.499392  0.249393"
      ]
     },
     "execution_count": 13,
     "metadata": {},
     "output_type": "execute_result"
    }
   ],
   "source": [
    "stats = pd.DataFrame()\n",
    "stats['mean'] = categorical_encoded_df.mean()\n",
    "stats['std'] = categorical_encoded_df.std()\n",
    "stats['var'] = categorical_encoded_df.var()\n",
    "categorical_encoded_features_significant_variance_stats = stats[stats['var'] > 0.2].sort_values('std', ascending=False)\n",
    "categorical_encoded_features_insignificant_variance_stats = stats[stats['var'] <= 0.2].sort_values('std', ascending=False)\n",
    "categorical_encoded_features_significant_variance_stats.head(5)"
   ]
  },
  {
   "cell_type": "markdown",
   "metadata": {},
   "source": [
    "### Gelman Scaling \n",
    "\n",
    "This data set is a mixed data set. It includes both numerical and categorical features. In his [2007 paper](http://www.stat.columbia.edu/~gelman/research/published/standardizing7.pdf), Gelman outlines a simple adjustment to the standard scaling technique we have been using that can help with mixed datasets. The standard scaling technique performs the following transformation\n",
    "\n",
    "$$Z = \\frac{X-\\mu}{\\sigma}$$\n",
    "\n",
    "Gelman proposes this alternative\n",
    "\n",
    "$$Z_g = \\frac{X-\\mu}{2\\sigma}$$"
   ]
  },
  {
   "cell_type": "markdown",
   "metadata": {},
   "source": [
    "Here, we explore the implications of this."
   ]
  },
  {
   "cell_type": "code",
   "execution_count": 14,
   "metadata": {},
   "outputs": [
    {
     "data": {
      "text/plain": [
       "((1451, 23), (1451, 56))"
      ]
     },
     "execution_count": 14,
     "metadata": {},
     "output_type": "execute_result"
    }
   ],
   "source": [
    "numeric_log_df.shape, categorical_df.shape"
   ]
  },
  {
   "cell_type": "markdown",
   "metadata": {},
   "source": [
    "First, let's look at the statistics for data prepared by each scaling technique. For ease of viewing, we will only look at the first five features."
   ]
  },
  {
   "cell_type": "code",
   "execution_count": 15,
   "metadata": {},
   "outputs": [],
   "source": [
    "numeric_first_five_features = numeric_log_df.columns[:5]"
   ]
  },
  {
   "cell_type": "code",
   "execution_count": 16,
   "metadata": {},
   "outputs": [],
   "source": [
    "numeric_log_std_sc_df = (numeric_log_df - numeric_log_df.mean())/numeric_log_df.std()\n",
    "numeric_log_gel_sc_df = (numeric_log_df - numeric_log_df.mean())/(2*numeric_log_df.std())"
   ]
  },
  {
   "cell_type": "code",
   "execution_count": 17,
   "metadata": {},
   "outputs": [
    {
     "data": {
      "text/html": [
       "<div>\n",
       "<table border=\"1\" class=\"dataframe\">\n",
       "  <thead>\n",
       "    <tr style=\"text-align: right;\">\n",
       "      <th></th>\n",
       "      <th>mean</th>\n",
       "      <th>std</th>\n",
       "      <th>var</th>\n",
       "    </tr>\n",
       "  </thead>\n",
       "  <tbody>\n",
       "    <tr>\n",
       "      <th>LotFrontage</th>\n",
       "      <td>2.199301e-14</td>\n",
       "      <td>1.0</td>\n",
       "      <td>1.0</td>\n",
       "    </tr>\n",
       "    <tr>\n",
       "      <th>LotArea</th>\n",
       "      <td>8.004126e-15</td>\n",
       "      <td>1.0</td>\n",
       "      <td>1.0</td>\n",
       "    </tr>\n",
       "    <tr>\n",
       "      <th>YearBuilt</th>\n",
       "      <td>-8.855706e-14</td>\n",
       "      <td>1.0</td>\n",
       "      <td>1.0</td>\n",
       "    </tr>\n",
       "    <tr>\n",
       "      <th>YearRemodAdd</th>\n",
       "      <td>1.895718e-13</td>\n",
       "      <td>1.0</td>\n",
       "      <td>1.0</td>\n",
       "    </tr>\n",
       "    <tr>\n",
       "      <th>MasVnrArea</th>\n",
       "      <td>-8.185504e-16</td>\n",
       "      <td>1.0</td>\n",
       "      <td>1.0</td>\n",
       "    </tr>\n",
       "  </tbody>\n",
       "</table>\n",
       "</div>"
      ],
      "text/plain": [
       "                      mean  std  var\n",
       "LotFrontage   2.199301e-14  1.0  1.0\n",
       "LotArea       8.004126e-15  1.0  1.0\n",
       "YearBuilt    -8.855706e-14  1.0  1.0\n",
       "YearRemodAdd  1.895718e-13  1.0  1.0\n",
       "MasVnrArea   -8.185504e-16  1.0  1.0"
      ]
     },
     "execution_count": 17,
     "metadata": {},
     "output_type": "execute_result"
    }
   ],
   "source": [
    "stats = pd.DataFrame()\n",
    "stats['mean'] = numeric_log_std_sc_df[numeric_first_five_features].mean()\n",
    "stats['std'] = numeric_log_std_sc_df[numeric_first_five_features].std()\n",
    "stats['var'] = numeric_log_std_sc_df[numeric_first_five_features].var()\n",
    "stats"
   ]
  },
  {
   "cell_type": "code",
   "execution_count": 18,
   "metadata": {},
   "outputs": [
    {
     "data": {
      "text/html": [
       "<div>\n",
       "<table border=\"1\" class=\"dataframe\">\n",
       "  <thead>\n",
       "    <tr style=\"text-align: right;\">\n",
       "      <th></th>\n",
       "      <th>mean</th>\n",
       "      <th>std</th>\n",
       "      <th>var</th>\n",
       "    </tr>\n",
       "  </thead>\n",
       "  <tbody>\n",
       "    <tr>\n",
       "      <th>LotFrontage</th>\n",
       "      <td>1.099651e-14</td>\n",
       "      <td>0.5</td>\n",
       "      <td>0.25</td>\n",
       "    </tr>\n",
       "    <tr>\n",
       "      <th>LotArea</th>\n",
       "      <td>4.002063e-15</td>\n",
       "      <td>0.5</td>\n",
       "      <td>0.25</td>\n",
       "    </tr>\n",
       "    <tr>\n",
       "      <th>YearBuilt</th>\n",
       "      <td>-4.427853e-14</td>\n",
       "      <td>0.5</td>\n",
       "      <td>0.25</td>\n",
       "    </tr>\n",
       "    <tr>\n",
       "      <th>YearRemodAdd</th>\n",
       "      <td>9.478592e-14</td>\n",
       "      <td>0.5</td>\n",
       "      <td>0.25</td>\n",
       "    </tr>\n",
       "    <tr>\n",
       "      <th>MasVnrArea</th>\n",
       "      <td>-4.092752e-16</td>\n",
       "      <td>0.5</td>\n",
       "      <td>0.25</td>\n",
       "    </tr>\n",
       "  </tbody>\n",
       "</table>\n",
       "</div>"
      ],
      "text/plain": [
       "                      mean  std   var\n",
       "LotFrontage   1.099651e-14  0.5  0.25\n",
       "LotArea       4.002063e-15  0.5  0.25\n",
       "YearBuilt    -4.427853e-14  0.5  0.25\n",
       "YearRemodAdd  9.478592e-14  0.5  0.25\n",
       "MasVnrArea   -4.092752e-16  0.5  0.25"
      ]
     },
     "execution_count": 18,
     "metadata": {},
     "output_type": "execute_result"
    }
   ],
   "source": [
    "stats = pd.DataFrame()\n",
    "stats['mean'] = numeric_log_gel_sc_df[numeric_first_five_features].mean()\n",
    "stats['std'] = numeric_log_gel_sc_df[numeric_first_five_features].std()\n",
    "stats['var'] = numeric_log_gel_sc_df[numeric_first_five_features].var()\n",
    "stats"
   ]
  },
  {
   "cell_type": "markdown",
   "metadata": {},
   "source": [
    "Note that the diagonal of each covariance matrix signifies the variance of each feature. With standard scaling, the standard deviation $\\sigma$ of a scaled feature is 1 and the variance $\\sigma^2$ is also 1. With Gelman scaling, the standard deviation $\\sigma$ of a scaled feature is 0.5. The variance $\\sigma^2$ is 0.25. Compare this to the standard deviation and variance of the categorical features:"
   ]
  },
  {
   "cell_type": "code",
   "execution_count": 19,
   "metadata": {},
   "outputs": [
    {
     "data": {
      "text/html": [
       "<div>\n",
       "<table border=\"1\" class=\"dataframe\">\n",
       "  <thead>\n",
       "    <tr style=\"text-align: right;\">\n",
       "      <th></th>\n",
       "      <th>mean</th>\n",
       "      <th>std</th>\n",
       "      <th>var</th>\n",
       "    </tr>\n",
       "  </thead>\n",
       "  <tbody>\n",
       "    <tr>\n",
       "      <th>HouseStyle_1Story</th>\n",
       "      <td>0.496899</td>\n",
       "      <td>0.500163</td>\n",
       "      <td>0.250163</td>\n",
       "    </tr>\n",
       "    <tr>\n",
       "      <th>HeatingQC_Ex</th>\n",
       "      <td>0.505858</td>\n",
       "      <td>0.500138</td>\n",
       "      <td>0.250138</td>\n",
       "    </tr>\n",
       "    <tr>\n",
       "      <th>KitchenQual_TA</th>\n",
       "      <td>0.505858</td>\n",
       "      <td>0.500138</td>\n",
       "      <td>0.250138</td>\n",
       "    </tr>\n",
       "    <tr>\n",
       "      <th>FullBath_2</th>\n",
       "      <td>0.524466</td>\n",
       "      <td>0.499573</td>\n",
       "      <td>0.249573</td>\n",
       "    </tr>\n",
       "    <tr>\n",
       "      <th>Fireplaces_0</th>\n",
       "      <td>0.472088</td>\n",
       "      <td>0.499392</td>\n",
       "      <td>0.249393</td>\n",
       "    </tr>\n",
       "  </tbody>\n",
       "</table>\n",
       "</div>"
      ],
      "text/plain": [
       "                       mean       std       var\n",
       "HouseStyle_1Story  0.496899  0.500163  0.250163\n",
       "HeatingQC_Ex       0.505858  0.500138  0.250138\n",
       "KitchenQual_TA     0.505858  0.500138  0.250138\n",
       "FullBath_2         0.524466  0.499573  0.249573\n",
       "Fireplaces_0       0.472088  0.499392  0.249393"
      ]
     },
     "execution_count": 19,
     "metadata": {},
     "output_type": "execute_result"
    }
   ],
   "source": [
    "categorical_encoded_features_significant_variance_stats.head(5)"
   ]
  },
  {
   "cell_type": "markdown",
   "metadata": {},
   "source": [
    "Note that with Gelman scaling, we are able to directly compare one-hot encoded categorical features with significant variance to our numerical features. \n",
    "\n",
    "Gelman notes:\n",
    "\n",
    "> Our procedure scales inputs to be comparable with binary variables that are roughly symmetric: if the probability falls between 0.3 and 0.7, then 2 standard deviations will be between 0.9 and 1. Highly skewed binary inputs still create difficulty in interpretation, however; for example, two standard deviations for a 90 per cent/10 per cent binary variable come to only 0.6. Thus, leaving this binary variable unscaled is not quite equivalent to dividing by two standard deviations. One might argue, however, that when considering rare subsets of the population, a full comparison from 0 to 1 could overstate the importance of the predictor in the regression, hence it might be reasonable to consider this two-standard-deviation comparison, which is less than the comparison of the extremes. Our main point, however, is that 2 standard deviations is a more reasonable scaling than 1—even if neither automatic approach solves all problems of interpretation.\n",
    "\n",
    "Following these guidelines, we will only compare Gelman scaled numeric features and one-hot encoded categorical features with a variance above 0.2. Note that a variance of 0.2 corresponds approximately to features for whom \"2 standard deviations will be between 0.9 and 1\"."
   ]
  },
  {
   "cell_type": "code",
   "execution_count": 20,
   "metadata": {},
   "outputs": [],
   "source": [
    "categorical_encoded_features_significant_variance = categorical_encoded_df[categorical_encoded_features_significant_variance_stats.index]\n",
    "categorical_encoded_features_insignificant_variance = categorical_encoded_df[categorical_encoded_features_insignificant_variance_stats.index]"
   ]
  },
  {
   "cell_type": "code",
   "execution_count": 21,
   "metadata": {},
   "outputs": [
    {
     "data": {
      "text/plain": [
       "Index(['HouseStyle_1Story', 'HeatingQC_Ex', 'KitchenQual_TA', 'FullBath_2',\n",
       "       'Fireplaces_0', 'FireplaceQu_None', 'BedroomAbvGr_3', 'FullBath_1',\n",
       "       'Fireplaces_1', 'BsmtQual_TA', 'Foundation_PConc', 'OverallCond_5',\n",
       "       'GarageCars_2', 'Foundation_CBlock', 'BsmtQual_Gd', 'GarageFinish_Unf',\n",
       "       'BsmtFullBath_0', 'MasVnrType_None', 'GarageType_Attchd',\n",
       "       'BsmtFullBath_1', 'KitchenQual_Gd', 'ExterQual_TA', 'HalfBath_0',\n",
       "       'LotShape_Reg', 'MSSubClass_20', 'HalfBath_1', 'Exterior1st_VinylSd',\n",
       "       'BsmtExposure_No', 'Exterior2nd_VinylSd', 'LotShape_IR1',\n",
       "       'ExterQual_Gd', 'MasVnrType_BrkFace', 'HouseStyle_2Story',\n",
       "       'BsmtFinType1_Unf', 'HeatingQC_TA', 'GarageFinish_RFn',\n",
       "       'BsmtFinType1_GLQ', 'LotConfig_Inside', 'TotRmsAbvGrd_6'],\n",
       "      dtype='object')"
      ]
     },
     "execution_count": 21,
     "metadata": {},
     "output_type": "execute_result"
    }
   ],
   "source": [
    "categorical_encoded_features_significant_variance.columns"
   ]
  },
  {
   "cell_type": "code",
   "execution_count": 22,
   "metadata": {},
   "outputs": [
    {
     "data": {
      "text/plain": [
       "Index(['OverallQual_5', 'GarageType_Detchd', 'FireplaceQu_Gd', 'OverallQual_6',\n",
       "       'GarageCars_1', 'BedroomAbvGr_2', 'GarageFinish_Fin', 'TotRmsAbvGrd_7',\n",
       "       'RoofStyle_Gable', 'OverallQual_7',\n",
       "       ...\n",
       "       'Exterior1st_AsphShn', 'Condition2_RRAn', 'Exterior1st_ImStucc',\n",
       "       'Condition2_RRAe', 'RoofMatl_Roll', 'RoofMatl_ClyTile', 'Heating_Floor',\n",
       "       'Exterior2nd_CBlock', 'Exterior1st_CBlock', 'MiscFeature_TenC'],\n",
       "      dtype='object', length=320)"
      ]
     },
     "execution_count": 22,
     "metadata": {},
     "output_type": "execute_result"
    }
   ],
   "source": [
    "categorical_encoded_features_insignificant_variance.columns"
   ]
  },
  {
   "cell_type": "markdown",
   "metadata": {},
   "source": [
    "### Centering Categorical Features with Significant Variance"
   ]
  },
  {
   "cell_type": "markdown",
   "metadata": {},
   "source": [
    "We apply one last transformation to the `categorical_encoded_features_significant_variance` dataframe. Namely, we subtract the meaning from each column. In doing this we have an apples to apples comparison between the numeric features and the categorical features with significant variance. Simply subtracting the meaning is known as centering\n",
    "\n",
    "$$Z_c = X - \\mu$$"
   ]
  },
  {
   "cell_type": "code",
   "execution_count": 23,
   "metadata": {},
   "outputs": [],
   "source": [
    "categorical_encoded_features_significant_variance_centered = (categorical_encoded_features_significant_variance - \n",
    "                                                              categorical_encoded_features_significant_variance.mean())"
   ]
  },
  {
   "cell_type": "markdown",
   "metadata": {},
   "source": [
    "This work was added to `src/preprocessing.py` as we continue."
   ]
  }
 ],
 "metadata": {
  "kernelspec": {
   "display_name": "Python 3",
   "language": "python",
   "name": "python3"
  },
  "language_info": {
   "codemirror_mode": {
    "name": "ipython",
    "version": 3
   },
   "file_extension": ".py",
   "mimetype": "text/x-python",
   "name": "python",
   "nbconvert_exporter": "python",
   "pygments_lexer": "ipython3",
   "version": "3.6.5"
  }
 },
 "nbformat": 4,
 "nbformat_minor": 2
}
