{
 "cells": [
  {
   "cell_type": "code",
   "execution_count": null,
   "metadata": {},
   "outputs": [],
   "source": [
    "run src/preprocessing.py"
   ]
  },
  {
   "cell_type": "code",
   "execution_count": null,
   "metadata": {},
   "outputs": [],
   "source": [
    "import matplotlib.pyplot as plt\n",
    "import numpy as np\n",
    "import seaborn as sns"
   ]
  },
  {
   "cell_type": "code",
   "execution_count": null,
   "metadata": {},
   "outputs": [],
   "source": [
    "from sklearn.metrics import r2_score, mean_squared_error, mean_absolute_error"
   ]
  },
  {
   "cell_type": "code",
   "execution_count": null,
   "metadata": {},
   "outputs": [],
   "source": [
    "mean_sale_price = target_1.mean()\n",
    "naive_guess = np.ones(len(target_1))*mean_sale_price"
   ]
  },
  {
   "cell_type": "code",
   "execution_count": null,
   "metadata": {},
   "outputs": [],
   "source": [
    "naive_r2 = r2_score(target_1, naive_guess)\n",
    "naive_rmse = np.sqrt(mean_squared_error(target_1, naive_guess))\n",
    "naive_mae = mean_absolute_error(target_1, naive_guess)"
   ]
  },
  {
   "cell_type": "markdown",
   "metadata": {},
   "source": [
    "#### Fundamental Question: How much does a home in Ames, Iowa sell for?"
   ]
  },
  {
   "cell_type": "code",
   "execution_count": null,
   "metadata": {},
   "outputs": [],
   "source": [
    "from sklearn.linear_model import Ridge, Lasso\n",
    "from sklearn.model_selection import train_test_split\n",
    "from tqdm import tqdm \n",
    "from time import time"
   ]
  },
  {
   "cell_type": "code",
   "execution_count": null,
   "metadata": {},
   "outputs": [],
   "source": [
    "def sample_training_set(X_train, y_train, n_pcnt):\n",
    "    n = X_train.shape[0]*n_pcnt//100\n",
    "    return n, X_train[:n], y_train[:n]\n",
    "\n",
    "def time_function_call(function_call):\n",
    "    start = time()\n",
    "    result = function_call\n",
    "    execution_time = time() - start\n",
    "    return result, execution_time\n",
    "\n",
    "def run_model(model, model_name, n_pcnt, data, labels):\n",
    "\n",
    "    X_train, X_test, y_train, y_test = train_test_split(data, labels, random_state=42)\n",
    "\n",
    "    \n",
    "    n, X_samp, y_samp = sample_training_set(X_train, y_train, n_pcnt)\n",
    "    \n",
    "    _, fit_time = time_function_call(\n",
    "        model.fit(X_samp, y_samp))\n",
    "    \n",
    "    train_pred, train_pred_time = time_function_call(\n",
    "        model.predict(X_samp))\n",
    "    \n",
    "    test_pred, test_pred_time = time_function_call(\n",
    "        model.predict(X_test))    \n",
    "    \n",
    "    return {\n",
    "            'model_name' : model_name,\n",
    "            'n_pcnt' : n_pcnt,\n",
    "            'n' : n, \n",
    "            'rmse_train' : np.sqrt(mean_squared_error(y_samp, train_pred)),\n",
    "            'rmse_test' : np.sqrt(mean_squared_error(y_test, test_pred)),\n",
    "            'mae_train' : mean_absolute_error(y_samp, train_pred),\n",
    "            'mae_test' : mean_absolute_error(y_test, test_pred),\n",
    "            'r2_train_score' : model.score(X_samp, y_samp),\n",
    "            'r2_test_score' : model.score(X_test, y_test),\n",
    "            'fit_time' : fit_time,\n",
    "            'train_pred_time' : train_pred_time,\n",
    "            'test_pred_time' : test_pred_time}"
   ]
  },
  {
   "cell_type": "code",
   "execution_count": null,
   "metadata": {},
   "outputs": [],
   "source": [
    "dataset_2.shape, target_2.shape"
   ]
  },
  {
   "cell_type": "code",
   "execution_count": null,
   "metadata": {},
   "outputs": [],
   "source": [
    "test_results = {}\n",
    "percentages = [1,2,3,4,5,7,10,15,20,25,30,40,50,60,70,80,90,100]\n",
    "for n in tqdm(percentages):\n",
    "    test_results[n] = run_model(Lasso(), 'Lasso', n,\n",
    "                                dataset_2,\n",
    "                                target_2)\n"
   ]
  },
  {
   "cell_type": "code",
   "execution_count": null,
   "metadata": {
    "scrolled": false
   },
   "outputs": [],
   "source": [
    "test_results = pd.DataFrame(test_results).T.sort_values('n')\n",
    "test_results"
   ]
  },
  {
   "cell_type": "code",
   "execution_count": null,
   "metadata": {},
   "outputs": [],
   "source": [
    "plt.plot(test_results.n, test_results.r2_test_score, label='test performance')\n",
    "plt.plot(test_results.n, test_results.r2_train_score, label='train performance')\n",
    "plt.legend()"
   ]
  },
  {
   "cell_type": "code",
   "execution_count": null,
   "metadata": {},
   "outputs": [],
   "source": []
  }
 ],
 "metadata": {
  "kernelspec": {
   "display_name": "Python 3",
   "language": "python",
   "name": "python3"
  },
  "language_info": {
   "codemirror_mode": {
    "name": "ipython",
    "version": 3
   },
   "file_extension": ".py",
   "mimetype": "text/x-python",
   "name": "python",
   "nbconvert_exporter": "python",
   "pygments_lexer": "ipython3",
   "version": "3.6.3"
  }
 },
 "nbformat": 4,
 "nbformat_minor": 2
}
