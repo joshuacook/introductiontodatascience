{
 "cells": [
  {
   "cell_type": "markdown",
   "metadata": {},
   "source": [
    "### Entropy\n"
   ]
  },
  {
   "cell_type": "markdown",
   "metadata": {},
   "source": [
    "Intuitively, we can think of **entropy** as the measure of disorder in a system. "
   ]
  },
  {
   "cell_type": "markdown",
   "metadata": {},
   "source": [
    "This set, $S$, for example, is very disordered:\n",
    "\n",
    "<img src=\"https://www.evernote.com/l/AAEZbuSslJRCwKxfZaSIBJaIZqcQ-mTe9RQB/image.png\" width=400px>\n"
   ]
  },
  {
   "cell_type": "markdown",
   "metadata": {},
   "source": [
    "Let us consider the elements of $S$ that have a black border."
   ]
  },
  {
   "cell_type": "code",
   "execution_count": 1,
   "metadata": {},
   "outputs": [],
   "source": [
    "%run items.py"
   ]
  },
  {
   "cell_type": "code",
   "execution_count": 2,
   "metadata": {},
   "outputs": [
    {
     "data": {
      "text/plain": [
       "[{'form': 'square', 'letter': 'E', 'color': 'blue', 'border': False},\n",
       " {'form': 'circle', 'letter': 'A', 'color': 'red', 'border': True},\n",
       " {'form': 'circle', 'letter': 'B', 'color': 'green', 'border': False},\n",
       " {'form': 'diamond', 'letter': 'E', 'color': 'red', 'border': True},\n",
       " {'form': 'diamond', 'letter': 'E', 'color': 'red', 'border': True},\n",
       " {'form': 'diamond', 'letter': 'C', 'color': 'blue', 'border': False},\n",
       " {'form': 'square', 'letter': 'A', 'color': 'green', 'border': False},\n",
       " {'form': 'diamond', 'letter': 'D', 'color': 'green', 'border': True},\n",
       " {'form': 'star', 'letter': 'C', 'color': 'silver', 'border': True},\n",
       " {'form': 'square', 'letter': 'C', 'color': 'silver', 'border': False},\n",
       " {'form': 'circle', 'letter': 'B', 'color': 'green', 'border': False},\n",
       " {'form': 'circle', 'letter': 'A', 'color': 'red', 'border': True},\n",
       " {'form': 'square', 'letter': 'A', 'color': 'green', 'border': False},\n",
       " {'form': 'circle', 'letter': 'D', 'color': 'green', 'border': True},\n",
       " {'form': 'star', 'letter': 'B', 'color': 'blue', 'border': True},\n",
       " {'form': 'circle', 'letter': 'B', 'color': 'blue', 'border': True},\n",
       " {'form': 'square', 'letter': 'E', 'color': 'blue', 'border': False},\n",
       " {'form': 'diamond', 'letter': 'E', 'color': 'red', 'border': True},\n",
       " {'form': 'star', 'letter': 'B', 'color': 'blue', 'border': True},\n",
       " {'form': 'square', 'letter': 'C', 'color': 'purple', 'border': False},\n",
       " {'form': 'square', 'letter': 'C', 'color': 'silver', 'border': False}]"
      ]
     },
     "execution_count": 2,
     "metadata": {},
     "output_type": "execute_result"
    }
   ],
   "source": [
    "items"
   ]
  },
  {
   "cell_type": "code",
   "execution_count": 3,
   "metadata": {},
   "outputs": [
    {
     "data": {
      "text/html": [
       "<div>\n",
       "<style scoped>\n",
       "    .dataframe tbody tr th:only-of-type {\n",
       "        vertical-align: middle;\n",
       "    }\n",
       "\n",
       "    .dataframe tbody tr th {\n",
       "        vertical-align: top;\n",
       "    }\n",
       "\n",
       "    .dataframe thead th {\n",
       "        text-align: right;\n",
       "    }\n",
       "</style>\n",
       "<table border=\"1\" class=\"dataframe\">\n",
       "  <thead>\n",
       "    <tr style=\"text-align: right;\">\n",
       "      <th></th>\n",
       "      <th>border</th>\n",
       "      <th>color</th>\n",
       "      <th>form</th>\n",
       "      <th>letter</th>\n",
       "    </tr>\n",
       "  </thead>\n",
       "  <tbody>\n",
       "    <tr>\n",
       "      <th>0</th>\n",
       "      <td>False</td>\n",
       "      <td>blue</td>\n",
       "      <td>square</td>\n",
       "      <td>E</td>\n",
       "    </tr>\n",
       "    <tr>\n",
       "      <th>1</th>\n",
       "      <td>True</td>\n",
       "      <td>red</td>\n",
       "      <td>circle</td>\n",
       "      <td>A</td>\n",
       "    </tr>\n",
       "    <tr>\n",
       "      <th>2</th>\n",
       "      <td>False</td>\n",
       "      <td>green</td>\n",
       "      <td>circle</td>\n",
       "      <td>B</td>\n",
       "    </tr>\n",
       "    <tr>\n",
       "      <th>3</th>\n",
       "      <td>True</td>\n",
       "      <td>red</td>\n",
       "      <td>diamond</td>\n",
       "      <td>E</td>\n",
       "    </tr>\n",
       "    <tr>\n",
       "      <th>4</th>\n",
       "      <td>True</td>\n",
       "      <td>red</td>\n",
       "      <td>diamond</td>\n",
       "      <td>E</td>\n",
       "    </tr>\n",
       "    <tr>\n",
       "      <th>5</th>\n",
       "      <td>False</td>\n",
       "      <td>blue</td>\n",
       "      <td>diamond</td>\n",
       "      <td>C</td>\n",
       "    </tr>\n",
       "    <tr>\n",
       "      <th>6</th>\n",
       "      <td>False</td>\n",
       "      <td>green</td>\n",
       "      <td>square</td>\n",
       "      <td>A</td>\n",
       "    </tr>\n",
       "    <tr>\n",
       "      <th>7</th>\n",
       "      <td>True</td>\n",
       "      <td>green</td>\n",
       "      <td>diamond</td>\n",
       "      <td>D</td>\n",
       "    </tr>\n",
       "    <tr>\n",
       "      <th>8</th>\n",
       "      <td>True</td>\n",
       "      <td>silver</td>\n",
       "      <td>star</td>\n",
       "      <td>C</td>\n",
       "    </tr>\n",
       "    <tr>\n",
       "      <th>9</th>\n",
       "      <td>False</td>\n",
       "      <td>silver</td>\n",
       "      <td>square</td>\n",
       "      <td>C</td>\n",
       "    </tr>\n",
       "    <tr>\n",
       "      <th>10</th>\n",
       "      <td>False</td>\n",
       "      <td>green</td>\n",
       "      <td>circle</td>\n",
       "      <td>B</td>\n",
       "    </tr>\n",
       "    <tr>\n",
       "      <th>11</th>\n",
       "      <td>True</td>\n",
       "      <td>red</td>\n",
       "      <td>circle</td>\n",
       "      <td>A</td>\n",
       "    </tr>\n",
       "    <tr>\n",
       "      <th>12</th>\n",
       "      <td>False</td>\n",
       "      <td>green</td>\n",
       "      <td>square</td>\n",
       "      <td>A</td>\n",
       "    </tr>\n",
       "    <tr>\n",
       "      <th>13</th>\n",
       "      <td>True</td>\n",
       "      <td>green</td>\n",
       "      <td>circle</td>\n",
       "      <td>D</td>\n",
       "    </tr>\n",
       "    <tr>\n",
       "      <th>14</th>\n",
       "      <td>True</td>\n",
       "      <td>blue</td>\n",
       "      <td>star</td>\n",
       "      <td>B</td>\n",
       "    </tr>\n",
       "    <tr>\n",
       "      <th>15</th>\n",
       "      <td>True</td>\n",
       "      <td>blue</td>\n",
       "      <td>circle</td>\n",
       "      <td>B</td>\n",
       "    </tr>\n",
       "    <tr>\n",
       "      <th>16</th>\n",
       "      <td>False</td>\n",
       "      <td>blue</td>\n",
       "      <td>square</td>\n",
       "      <td>E</td>\n",
       "    </tr>\n",
       "    <tr>\n",
       "      <th>17</th>\n",
       "      <td>True</td>\n",
       "      <td>red</td>\n",
       "      <td>diamond</td>\n",
       "      <td>E</td>\n",
       "    </tr>\n",
       "    <tr>\n",
       "      <th>18</th>\n",
       "      <td>True</td>\n",
       "      <td>blue</td>\n",
       "      <td>star</td>\n",
       "      <td>B</td>\n",
       "    </tr>\n",
       "    <tr>\n",
       "      <th>19</th>\n",
       "      <td>False</td>\n",
       "      <td>purple</td>\n",
       "      <td>square</td>\n",
       "      <td>C</td>\n",
       "    </tr>\n",
       "    <tr>\n",
       "      <th>20</th>\n",
       "      <td>False</td>\n",
       "      <td>silver</td>\n",
       "      <td>square</td>\n",
       "      <td>C</td>\n",
       "    </tr>\n",
       "  </tbody>\n",
       "</table>\n",
       "</div>"
      ],
      "text/plain": [
       "    border   color     form letter\n",
       "0    False    blue   square      E\n",
       "1     True     red   circle      A\n",
       "2    False   green   circle      B\n",
       "3     True     red  diamond      E\n",
       "4     True     red  diamond      E\n",
       "5    False    blue  diamond      C\n",
       "6    False   green   square      A\n",
       "7     True   green  diamond      D\n",
       "8     True  silver     star      C\n",
       "9    False  silver   square      C\n",
       "10   False   green   circle      B\n",
       "11    True     red   circle      A\n",
       "12   False   green   square      A\n",
       "13    True   green   circle      D\n",
       "14    True    blue     star      B\n",
       "15    True    blue   circle      B\n",
       "16   False    blue   square      E\n",
       "17    True     red  diamond      E\n",
       "18    True    blue     star      B\n",
       "19   False  purple   square      C\n",
       "20   False  silver   square      C"
      ]
     },
     "execution_count": 3,
     "metadata": {},
     "output_type": "execute_result"
    }
   ],
   "source": [
    "import numpy as np\n",
    "import pandas as pd\n",
    "\n",
    "from IPython.display import display\n",
    "\n",
    "items_df = pd.DataFrame(items)\n",
    "items_df"
   ]
  },
  {
   "cell_type": "markdown",
   "metadata": {},
   "source": [
    "## Information Entropy\n",
    "\n",
    "\n",
    "We can measure the disorder in $S$ relative to any attribute of an element using the Shannon Information **Entropy**\n",
    "\n",
    "$$H(S) = -p_1\\log_2p_1 + \\dots + -p_n\\log_2p_n$$\n",
    "\n",
    "\n"
   ]
  },
  {
   "cell_type": "markdown",
   "metadata": {},
   "source": [
    "Here, each $p_i$ is a measure of the proportion of the set represented by each class for a given attribute. If we are looking at the color of our shapes, this would be five classes: "
   ]
  },
  {
   "cell_type": "code",
   "execution_count": 11,
   "metadata": {},
   "outputs": [
    {
     "data": {
      "text/plain": [
       "{'blue', 'green', 'purple', 'red', 'silver'}"
      ]
     },
     "execution_count": 11,
     "metadata": {},
     "output_type": "execute_result"
    }
   ],
   "source": [
    "set(items_df.color)"
   ]
  },
  {
   "cell_type": "code",
   "execution_count": 4,
   "metadata": {},
   "outputs": [
    {
     "data": {
      "text/plain": [
       "array(['blue', 'red', 'green', 'silver', 'purple'], dtype=object)"
      ]
     },
     "execution_count": 4,
     "metadata": {},
     "output_type": "execute_result"
    }
   ],
   "source": [
    "items_df.color.unique()"
   ]
  },
  {
   "cell_type": "markdown",
   "metadata": {},
   "source": [
    "We can use Python to calculate the entropy"
   ]
  },
  {
   "cell_type": "code",
   "execution_count": 5,
   "metadata": {},
   "outputs": [],
   "source": [
    "def class_entropy(proportion):\n",
    "    return -proportion*np.log2(proportion)"
   ]
  },
  {
   "cell_type": "code",
   "execution_count": 6,
   "metadata": {},
   "outputs": [],
   "source": [
    "def entropy(proportions):\n",
    "    class_entropies = [class_entropy(proportion) \n",
    "                       for proportion in proportions]\n",
    "    return sum(class_entropies)"
   ]
  },
  {
   "cell_type": "markdown",
   "metadata": {},
   "source": [
    "### Measure The Entropy of the color of $S$ "
   ]
  },
  {
   "cell_type": "code",
   "execution_count": 7,
   "metadata": {},
   "outputs": [
    {
     "data": {
      "text/plain": [
       "21"
      ]
     },
     "execution_count": 7,
     "metadata": {},
     "output_type": "execute_result"
    }
   ],
   "source": [
    "n = items_df.color.count()\n",
    "n"
   ]
  },
  {
   "cell_type": "code",
   "execution_count": 8,
   "metadata": {},
   "outputs": [
    {
     "data": {
      "text/plain": [
       "[0.23809523809523808,\n",
       " 0.2857142857142857,\n",
       " 0.2857142857142857,\n",
       " 0.14285714285714285,\n",
       " 0.047619047619047616]"
      ]
     },
     "execution_count": 8,
     "metadata": {},
     "output_type": "execute_result"
    }
   ],
   "source": [
    "p_red = (items_df.color == 'red').sum()/n\n",
    "p_blue = (items_df.color == 'blue').sum()/n\n",
    "p_green = (items_df.color == 'green').sum()/n\n",
    "p_silver = (items_df.color == 'silver').sum()/n\n",
    "p_purple = (items_df.color == 'purple').sum()/n\n",
    "\n",
    "S_proportions = [p_red, p_blue, p_green, p_silver, p_purple]\n",
    "S_proportions"
   ]
  },
  {
   "cell_type": "code",
   "execution_count": 9,
   "metadata": {},
   "outputs": [
    {
     "data": {
      "text/plain": [
       "1.0"
      ]
     },
     "execution_count": 9,
     "metadata": {},
     "output_type": "execute_result"
    }
   ],
   "source": [
    "sum(S_proportions)"
   ]
  },
  {
   "cell_type": "code",
   "execution_count": 10,
   "metadata": {},
   "outputs": [
    {
     "data": {
      "text/plain": [
       "2.1359327568142765"
      ]
     },
     "execution_count": 10,
     "metadata": {},
     "output_type": "execute_result"
    }
   ],
   "source": [
    "entropy(S_proportions)"
   ]
  },
  {
   "cell_type": "markdown",
   "metadata": {},
   "source": [
    "## To Do\n",
    "\n",
    "Write a method that calculates the class proportions for a given dataframe and feature.\n"
   ]
  },
  {
   "cell_type": "code",
   "execution_count": 12,
   "metadata": {},
   "outputs": [
    {
     "data": {
      "text/plain": [
       "3"
      ]
     },
     "execution_count": 12,
     "metadata": {},
     "output_type": "execute_result"
    }
   ],
   "source": [
    "3*True"
   ]
  },
  {
   "cell_type": "code",
   "execution_count": 14,
   "metadata": {},
   "outputs": [
    {
     "data": {
      "text/plain": [
       "array([ True,  True], dtype=bool)"
      ]
     },
     "execution_count": 14,
     "metadata": {},
     "output_type": "execute_result"
    }
   ],
   "source": [
    "np.array([True, False]) + np.array([False, True]) "
   ]
  },
  {
   "cell_type": "code",
   "execution_count": 18,
   "metadata": {},
   "outputs": [],
   "source": [
    "def class_proportions(series):\n",
    "    classes = series.unique()\n",
    "    total_count = series.count()\n",
    "    counts = np.array([(series == cls).sum() for cls in classes])\n",
    "    return counts/total_count"
   ]
  },
  {
   "cell_type": "code",
   "execution_count": 19,
   "metadata": {},
   "outputs": [
    {
     "data": {
      "text/plain": [
       "array([ 0.28571429,  0.23809524,  0.28571429,  0.14285714,  0.04761905])"
      ]
     },
     "execution_count": 19,
     "metadata": {},
     "output_type": "execute_result"
    }
   ],
   "source": [
    "class_proportions(items_df.color)"
   ]
  },
  {
   "cell_type": "code",
   "execution_count": 20,
   "metadata": {},
   "outputs": [
    {
     "data": {
      "text/plain": [
       "array([ 0.47619048,  0.52380952])"
      ]
     },
     "execution_count": 20,
     "metadata": {},
     "output_type": "execute_result"
    }
   ],
   "source": [
    "class_proportions(items_df.border)"
   ]
  },
  {
   "cell_type": "code",
   "execution_count": 21,
   "metadata": {},
   "outputs": [],
   "source": [
    "def entropy(series):\n",
    "    proportions = class_proportions(series)\n",
    "    class_entropies = [class_entropy(proportion) \n",
    "                       for proportion in proportions]\n",
    "    return sum(class_entropies)"
   ]
  },
  {
   "cell_type": "markdown",
   "metadata": {},
   "source": [
    "Use this method to calculate the Entropy with respect to each attribute of $S$"
   ]
  },
  {
   "cell_type": "code",
   "execution_count": 22,
   "metadata": {},
   "outputs": [
    {
     "data": {
      "text/plain": [
       "'color:  [ 0.28571429  0.23809524  0.28571429  0.14285714  0.04761905]'"
      ]
     },
     "metadata": {},
     "output_type": "display_data"
    },
    {
     "data": {
      "text/plain": [
       "'form:   [ 0.33333333  0.28571429  0.23809524  0.14285714]'"
      ]
     },
     "metadata": {},
     "output_type": "display_data"
    },
    {
     "data": {
      "text/plain": [
       "'letter: [ 0.23809524  0.19047619  0.23809524  0.23809524  0.0952381 ]'"
      ]
     },
     "metadata": {},
     "output_type": "display_data"
    },
    {
     "data": {
      "text/plain": [
       "'border: [ 0.47619048  0.52380952]'"
      ]
     },
     "metadata": {},
     "output_type": "display_data"
    }
   ],
   "source": [
    "display(\"color:  {}\".format(class_proportions(items_df.color)))\n",
    "display(\"form:   {}\".format(class_proportions(items_df.form)))\n",
    "display(\"letter: {}\".format(class_proportions(items_df.letter)))\n",
    "display(\"border: {}\".format(class_proportions(items_df.border)))"
   ]
  },
  {
   "cell_type": "code",
   "execution_count": 23,
   "metadata": {},
   "outputs": [
    {
     "data": {
      "text/plain": [
       "'color:  2.1359327568142765'"
      ]
     },
     "metadata": {},
     "output_type": "display_data"
    },
    {
     "data": {
      "text/plain": [
       "'form:   1.938708497286834'"
      ]
     },
     "metadata": {},
     "output_type": "display_data"
    },
    {
     "data": {
      "text/plain": [
       "'letter: 2.2576068788115964'"
      ]
     },
     "metadata": {},
     "output_type": "display_data"
    },
    {
     "data": {
      "text/plain": [
       "'border: 0.998363672593813'"
      ]
     },
     "metadata": {},
     "output_type": "display_data"
    }
   ],
   "source": [
    "display(\"color:  {}\".format(entropy(items_df.color)))\n",
    "display(\"form:   {}\".format(entropy(items_df.form)))\n",
    "display(\"letter: {}\".format(entropy(items_df.letter)))\n",
    "display(\"border: {}\".format(entropy(items_df.border)))"
   ]
  },
  {
   "cell_type": "markdown",
   "metadata": {},
   "source": [
    "## The Decision Tree"
   ]
  },
  {
   "cell_type": "markdown",
   "metadata": {},
   "source": [
    "Decision Trees are supervised learning models typically split into classification trees and regression trees. For the rest of this lesson, we will focus on classification trees. \n",
    "\n",
    "We will work through the ID3 algorithm for learning a decision tree from a set of labeled data. "
   ]
  },
  {
   "cell_type": "markdown",
   "metadata": {},
   "source": [
    "#### Labeled Data\n",
    "\n",
    "For our purposes, let us assume that the feature `border` is our label. We will be seeking a decision tree that makes splits in order to develop a model for identifying which items will have a border. "
   ]
  },
  {
   "cell_type": "code",
   "execution_count": 26,
   "metadata": {},
   "outputs": [],
   "source": [
    "features = items_df.drop('border', axis=1)\n",
    "target = items_df.border"
   ]
  },
  {
   "cell_type": "code",
   "execution_count": 27,
   "metadata": {},
   "outputs": [
    {
     "data": {
      "text/plain": [
       "array([ 0.47619048,  0.52380952])"
      ]
     },
     "execution_count": 27,
     "metadata": {},
     "output_type": "execute_result"
    }
   ],
   "source": [
    "class_proportions(target)"
   ]
  },
  {
   "cell_type": "code",
   "execution_count": 28,
   "metadata": {},
   "outputs": [
    {
     "data": {
      "text/plain": [
       "0.99836367259381298"
      ]
     },
     "execution_count": 28,
     "metadata": {},
     "output_type": "execute_result"
    }
   ],
   "source": [
    "entropy(target)"
   ]
  },
  {
   "cell_type": "markdown",
   "metadata": {},
   "source": [
    "### Three Partitioning Schemes\n",
    "\n",
    "We can start by separating the elements based upon their attributes. Here are three different ways to do that:\n"
   ]
  },
  {
   "cell_type": "markdown",
   "metadata": {},
   "source": [
    "![](img/entropy_3.png)"
   ]
  },
  {
   "cell_type": "markdown",
   "metadata": {},
   "source": [
    "### Identify the Best Split\n",
    "\n",
    "In order to proceed, we will need to identify which of these ways of separating is best? We can use the measure of entropy to do this!\n"
   ]
  },
  {
   "cell_type": "markdown",
   "metadata": {},
   "source": [
    "#### Split by Form"
   ]
  },
  {
   "cell_type": "code",
   "execution_count": 29,
   "metadata": {},
   "outputs": [
    {
     "data": {
      "text/html": [
       "<div>\n",
       "<style scoped>\n",
       "    .dataframe tbody tr th:only-of-type {\n",
       "        vertical-align: middle;\n",
       "    }\n",
       "\n",
       "    .dataframe tbody tr th {\n",
       "        vertical-align: top;\n",
       "    }\n",
       "\n",
       "    .dataframe thead th {\n",
       "        text-align: right;\n",
       "    }\n",
       "</style>\n",
       "<table border=\"1\" class=\"dataframe\">\n",
       "  <thead>\n",
       "    <tr style=\"text-align: right;\">\n",
       "      <th></th>\n",
       "      <th>color</th>\n",
       "      <th>form</th>\n",
       "      <th>letter</th>\n",
       "      <th>border</th>\n",
       "    </tr>\n",
       "  </thead>\n",
       "  <tbody>\n",
       "    <tr>\n",
       "      <th>0</th>\n",
       "      <td>blue</td>\n",
       "      <td>square</td>\n",
       "      <td>E</td>\n",
       "      <td>False</td>\n",
       "    </tr>\n",
       "    <tr>\n",
       "      <th>6</th>\n",
       "      <td>green</td>\n",
       "      <td>square</td>\n",
       "      <td>A</td>\n",
       "      <td>False</td>\n",
       "    </tr>\n",
       "    <tr>\n",
       "      <th>9</th>\n",
       "      <td>silver</td>\n",
       "      <td>square</td>\n",
       "      <td>C</td>\n",
       "      <td>False</td>\n",
       "    </tr>\n",
       "    <tr>\n",
       "      <th>12</th>\n",
       "      <td>green</td>\n",
       "      <td>square</td>\n",
       "      <td>A</td>\n",
       "      <td>False</td>\n",
       "    </tr>\n",
       "    <tr>\n",
       "      <th>16</th>\n",
       "      <td>blue</td>\n",
       "      <td>square</td>\n",
       "      <td>E</td>\n",
       "      <td>False</td>\n",
       "    </tr>\n",
       "    <tr>\n",
       "      <th>19</th>\n",
       "      <td>purple</td>\n",
       "      <td>square</td>\n",
       "      <td>C</td>\n",
       "      <td>False</td>\n",
       "    </tr>\n",
       "    <tr>\n",
       "      <th>20</th>\n",
       "      <td>silver</td>\n",
       "      <td>square</td>\n",
       "      <td>C</td>\n",
       "      <td>False</td>\n",
       "    </tr>\n",
       "  </tbody>\n",
       "</table>\n",
       "</div>"
      ],
      "text/plain": [
       "     color    form letter  border\n",
       "0     blue  square      E   False\n",
       "6    green  square      A   False\n",
       "9   silver  square      C   False\n",
       "12   green  square      A   False\n",
       "16    blue  square      E   False\n",
       "19  purple  square      C   False\n",
       "20  silver  square      C   False"
      ]
     },
     "metadata": {},
     "output_type": "display_data"
    },
    {
     "data": {
      "text/html": [
       "<div>\n",
       "<style scoped>\n",
       "    .dataframe tbody tr th:only-of-type {\n",
       "        vertical-align: middle;\n",
       "    }\n",
       "\n",
       "    .dataframe tbody tr th {\n",
       "        vertical-align: top;\n",
       "    }\n",
       "\n",
       "    .dataframe thead th {\n",
       "        text-align: right;\n",
       "    }\n",
       "</style>\n",
       "<table border=\"1\" class=\"dataframe\">\n",
       "  <thead>\n",
       "    <tr style=\"text-align: right;\">\n",
       "      <th></th>\n",
       "      <th>color</th>\n",
       "      <th>form</th>\n",
       "      <th>letter</th>\n",
       "      <th>border</th>\n",
       "    </tr>\n",
       "  </thead>\n",
       "  <tbody>\n",
       "    <tr>\n",
       "      <th>1</th>\n",
       "      <td>red</td>\n",
       "      <td>circle</td>\n",
       "      <td>A</td>\n",
       "      <td>True</td>\n",
       "    </tr>\n",
       "    <tr>\n",
       "      <th>2</th>\n",
       "      <td>green</td>\n",
       "      <td>circle</td>\n",
       "      <td>B</td>\n",
       "      <td>False</td>\n",
       "    </tr>\n",
       "    <tr>\n",
       "      <th>10</th>\n",
       "      <td>green</td>\n",
       "      <td>circle</td>\n",
       "      <td>B</td>\n",
       "      <td>False</td>\n",
       "    </tr>\n",
       "    <tr>\n",
       "      <th>11</th>\n",
       "      <td>red</td>\n",
       "      <td>circle</td>\n",
       "      <td>A</td>\n",
       "      <td>True</td>\n",
       "    </tr>\n",
       "    <tr>\n",
       "      <th>13</th>\n",
       "      <td>green</td>\n",
       "      <td>circle</td>\n",
       "      <td>D</td>\n",
       "      <td>True</td>\n",
       "    </tr>\n",
       "    <tr>\n",
       "      <th>15</th>\n",
       "      <td>blue</td>\n",
       "      <td>circle</td>\n",
       "      <td>B</td>\n",
       "      <td>True</td>\n",
       "    </tr>\n",
       "  </tbody>\n",
       "</table>\n",
       "</div>"
      ],
      "text/plain": [
       "    color    form letter  border\n",
       "1     red  circle      A    True\n",
       "2   green  circle      B   False\n",
       "10  green  circle      B   False\n",
       "11    red  circle      A    True\n",
       "13  green  circle      D    True\n",
       "15   blue  circle      B    True"
      ]
     },
     "metadata": {},
     "output_type": "display_data"
    },
    {
     "data": {
      "text/html": [
       "<div>\n",
       "<style scoped>\n",
       "    .dataframe tbody tr th:only-of-type {\n",
       "        vertical-align: middle;\n",
       "    }\n",
       "\n",
       "    .dataframe tbody tr th {\n",
       "        vertical-align: top;\n",
       "    }\n",
       "\n",
       "    .dataframe thead th {\n",
       "        text-align: right;\n",
       "    }\n",
       "</style>\n",
       "<table border=\"1\" class=\"dataframe\">\n",
       "  <thead>\n",
       "    <tr style=\"text-align: right;\">\n",
       "      <th></th>\n",
       "      <th>color</th>\n",
       "      <th>form</th>\n",
       "      <th>letter</th>\n",
       "      <th>border</th>\n",
       "    </tr>\n",
       "  </thead>\n",
       "  <tbody>\n",
       "    <tr>\n",
       "      <th>3</th>\n",
       "      <td>red</td>\n",
       "      <td>diamond</td>\n",
       "      <td>E</td>\n",
       "      <td>True</td>\n",
       "    </tr>\n",
       "    <tr>\n",
       "      <th>4</th>\n",
       "      <td>red</td>\n",
       "      <td>diamond</td>\n",
       "      <td>E</td>\n",
       "      <td>True</td>\n",
       "    </tr>\n",
       "    <tr>\n",
       "      <th>5</th>\n",
       "      <td>blue</td>\n",
       "      <td>diamond</td>\n",
       "      <td>C</td>\n",
       "      <td>False</td>\n",
       "    </tr>\n",
       "    <tr>\n",
       "      <th>7</th>\n",
       "      <td>green</td>\n",
       "      <td>diamond</td>\n",
       "      <td>D</td>\n",
       "      <td>True</td>\n",
       "    </tr>\n",
       "    <tr>\n",
       "      <th>17</th>\n",
       "      <td>red</td>\n",
       "      <td>diamond</td>\n",
       "      <td>E</td>\n",
       "      <td>True</td>\n",
       "    </tr>\n",
       "  </tbody>\n",
       "</table>\n",
       "</div>"
      ],
      "text/plain": [
       "    color     form letter  border\n",
       "3     red  diamond      E    True\n",
       "4     red  diamond      E    True\n",
       "5    blue  diamond      C   False\n",
       "7   green  diamond      D    True\n",
       "17    red  diamond      E    True"
      ]
     },
     "metadata": {},
     "output_type": "display_data"
    },
    {
     "data": {
      "text/html": [
       "<div>\n",
       "<style scoped>\n",
       "    .dataframe tbody tr th:only-of-type {\n",
       "        vertical-align: middle;\n",
       "    }\n",
       "\n",
       "    .dataframe tbody tr th {\n",
       "        vertical-align: top;\n",
       "    }\n",
       "\n",
       "    .dataframe thead th {\n",
       "        text-align: right;\n",
       "    }\n",
       "</style>\n",
       "<table border=\"1\" class=\"dataframe\">\n",
       "  <thead>\n",
       "    <tr style=\"text-align: right;\">\n",
       "      <th></th>\n",
       "      <th>color</th>\n",
       "      <th>form</th>\n",
       "      <th>letter</th>\n",
       "      <th>border</th>\n",
       "    </tr>\n",
       "  </thead>\n",
       "  <tbody>\n",
       "    <tr>\n",
       "      <th>8</th>\n",
       "      <td>silver</td>\n",
       "      <td>star</td>\n",
       "      <td>C</td>\n",
       "      <td>True</td>\n",
       "    </tr>\n",
       "    <tr>\n",
       "      <th>14</th>\n",
       "      <td>blue</td>\n",
       "      <td>star</td>\n",
       "      <td>B</td>\n",
       "      <td>True</td>\n",
       "    </tr>\n",
       "    <tr>\n",
       "      <th>18</th>\n",
       "      <td>blue</td>\n",
       "      <td>star</td>\n",
       "      <td>B</td>\n",
       "      <td>True</td>\n",
       "    </tr>\n",
       "  </tbody>\n",
       "</table>\n",
       "</div>"
      ],
      "text/plain": [
       "     color  form letter  border\n",
       "8   silver  star      C    True\n",
       "14    blue  star      B    True\n",
       "18    blue  star      B    True"
      ]
     },
     "metadata": {},
     "output_type": "display_data"
    }
   ],
   "source": [
    "features_square_df = features[features.form == 'square']\n",
    "features_circle_df = features[features.form == 'circle']\n",
    "features_diamond_df = features[features.form == 'diamond']\n",
    "features_star_df = features[features.form == 'star']\n",
    "\n",
    "target_square_df = target[features.form == 'square']\n",
    "target_circle_df = target[features.form == 'circle']\n",
    "target_diamond_df = target[features.form == 'diamond']\n",
    "target_star_df = target[features.form == 'star']\n",
    "\n",
    "display(pd.merge(features_square_df, pd.DataFrame(target_square_df), left_index=True, right_index=True))\n",
    "display(pd.merge(features_circle_df, pd.DataFrame(target_circle_df), left_index=True, right_index=True))\n",
    "display(pd.merge(features_diamond_df, pd.DataFrame(target_diamond_df), left_index=True, right_index=True))\n",
    "display(pd.merge(features_star_df, pd.DataFrame(target_star_df), left_index=True, right_index=True))\n"
   ]
  },
  {
   "cell_type": "markdown",
   "metadata": {},
   "source": [
    "To assess this split, we will be seeking the entropy associated with each subset as a proportion of the total set.\n",
    "\n",
    "$$H_T = q_{\\text{square}}H(S_{\\text{square}}) + \n",
    "        q_{\\text{circle}}H(S_{\\text{circle}}) + \n",
    "        q_{\\text{diamond}}H(S_{\\text{diamond}}) + \n",
    "        q_{\\text{star}}H(S_{\\text{star}})\n",
    "$$\n",
    "\n",
    "Here each $q_i$ represents the **weight**, the proportion of the total each subset is\n",
    "\n",
    "$$q_i = \\frac{\\text{count}(S_i)}{\\text{count}(S_T)}$$"
   ]
  },
  {
   "cell_type": "code",
   "execution_count": 30,
   "metadata": {},
   "outputs": [],
   "source": [
    "q_square = features_square_df.form.count()/features.form.count()\n",
    "q_circle = features_circle_df.form.count()/features.form.count()\n",
    "q_diamond = features_diamond_df.form.count()/features.form.count()\n",
    "q_star = features_star_df.form.count()/features.form.count()"
   ]
  },
  {
   "cell_type": "markdown",
   "metadata": {},
   "source": [
    "### Total Entropy When Split by Form"
   ]
  },
  {
   "cell_type": "markdown",
   "metadata": {},
   "source": [
    "##### Calculate the weights of each class of our target"
   ]
  },
  {
   "cell_type": "code",
   "execution_count": 32,
   "metadata": {},
   "outputs": [
    {
     "data": {
      "text/plain": [
       "'squares:  [ 1.]'"
      ]
     },
     "metadata": {},
     "output_type": "display_data"
    },
    {
     "data": {
      "text/plain": [
       "'circles:   [ 0.66666667  0.33333333]'"
      ]
     },
     "metadata": {},
     "output_type": "display_data"
    },
    {
     "data": {
      "text/plain": [
       "'diamond: [ 0.8  0.2]'"
      ]
     },
     "metadata": {},
     "output_type": "display_data"
    },
    {
     "data": {
      "text/plain": [
       "'star: [ 1.]'"
      ]
     },
     "metadata": {},
     "output_type": "display_data"
    }
   ],
   "source": [
    "display(\"squares:  {}\".format(class_proportions(target_square_df)))\n",
    "display(\"circles:   {}\".format(class_proportions(target_circle_df)))\n",
    "display(\"diamond: {}\".format(class_proportions(target_diamond_df)))\n",
    "display(\"star: {}\".format(class_proportions(target_star_df)))"
   ]
  },
  {
   "cell_type": "markdown",
   "metadata": {},
   "source": [
    "##### Find the entropy for these proportions"
   ]
  },
  {
   "cell_type": "code",
   "execution_count": 33,
   "metadata": {},
   "outputs": [
    {
     "data": {
      "text/plain": [
       "'square:  0.0'"
      ]
     },
     "metadata": {},
     "output_type": "display_data"
    },
    {
     "data": {
      "text/plain": [
       "'circle:   0.9182958340544896'"
      ]
     },
     "metadata": {},
     "output_type": "display_data"
    },
    {
     "data": {
      "text/plain": [
       "'diamond: 0.7219280948873623'"
      ]
     },
     "metadata": {},
     "output_type": "display_data"
    },
    {
     "data": {
      "text/plain": [
       "'star: 0.0'"
      ]
     },
     "metadata": {},
     "output_type": "display_data"
    }
   ],
   "source": [
    "display(\"square:  {}\".format(entropy(target_square_df)))\n",
    "display(\"circle:   {}\".format(entropy(target_circle_df)))\n",
    "display(\"diamond: {}\".format(entropy(target_diamond_df)))\n",
    "display(\"star: {}\".format(entropy(target_star_df)))"
   ]
  },
  {
   "cell_type": "code",
   "execution_count": 34,
   "metadata": {},
   "outputs": [],
   "source": [
    "H_square_border = entropy(target_square_df)\n",
    "H_circle_border = entropy(target_circle_df)\n",
    "H_diamond_border = entropy(target_diamond_df)\n",
    "H_star_border = entropy(target_star_df)"
   ]
  },
  {
   "cell_type": "markdown",
   "metadata": {},
   "source": [
    "##### Sum the weighted Entropy"
   ]
  },
  {
   "cell_type": "code",
   "execution_count": 35,
   "metadata": {},
   "outputs": [
    {
     "data": {
      "text/plain": [
       "0.43425787994113085"
      ]
     },
     "execution_count": 35,
     "metadata": {},
     "output_type": "execute_result"
    }
   ],
   "source": [
    "(q_square*H_square_border + \n",
    " q_circle*H_circle_border + \n",
    " q_diamond*H_diamond_border + \n",
    " q_star*H_star_border)"
   ]
  },
  {
   "cell_type": "markdown",
   "metadata": {},
   "source": [
    "### Write a function to do this for a split on any feature"
   ]
  },
  {
   "cell_type": "code",
   "execution_count": 36,
   "metadata": {},
   "outputs": [],
   "source": [
    "def entropy_on_split(dataframe, target, feature, debug=False):\n",
    "    \n",
    "    # split on feature\n",
    "    unique_classes = dataframe[feature].unique()    \n",
    "    target_subsets = [\n",
    "        target[dataframe[feature] == unique_class] \n",
    "        for unique_class in unique_classes\n",
    "    ]\n",
    "        \n",
    "    # calculate subset weights\n",
    "    total = target.count()\n",
    "    weights = [\n",
    "        target_subset.count()/total\n",
    "        for target_subset in target_subsets\n",
    "    ]\n",
    "    \n",
    "    # calculate entropies\n",
    "    entropies = [\n",
    "        entropy(target_subset)\n",
    "        for target_subset in target_subsets\n",
    "    ]\n",
    "        \n",
    "    # return weighted entropy\n",
    "    return sum(weight*entropy for weight, entropy in zip(weights, entropies))"
   ]
  },
  {
   "cell_type": "code",
   "execution_count": 37,
   "metadata": {},
   "outputs": [
    {
     "data": {
      "text/plain": [
       "0.43425787994113085"
      ]
     },
     "execution_count": 37,
     "metadata": {},
     "output_type": "execute_result"
    }
   ],
   "source": [
    "entropy_on_split(features, target, 'form')"
   ]
  },
  {
   "cell_type": "code",
   "execution_count": 38,
   "metadata": {},
   "outputs": [
    {
     "data": {
      "text/plain": [
       "0.67926964316620975"
      ]
     },
     "execution_count": 38,
     "metadata": {},
     "output_type": "execute_result"
    }
   ],
   "source": [
    "entropy_on_split(features, target, 'color')"
   ]
  },
  {
   "cell_type": "code",
   "execution_count": 39,
   "metadata": {},
   "outputs": [
    {
     "data": {
      "text/plain": [
       "0.82472125804683316"
      ]
     },
     "execution_count": 39,
     "metadata": {},
     "output_type": "execute_result"
    }
   ],
   "source": [
    "entropy_on_split(features, target, 'letter')"
   ]
  },
  {
   "cell_type": "markdown",
   "metadata": {},
   "source": [
    "### Write a function to Identify the Best Split"
   ]
  },
  {
   "cell_type": "code",
   "execution_count": 40,
   "metadata": {},
   "outputs": [],
   "source": [
    "def find_best_split(features, target):\n",
    "    feature_labels = features.columns\n",
    "    entropies = [\n",
    "        entropy_on_split(features, target, feature_label)\n",
    "        for feature_label in feature_labels\n",
    "    ]\n",
    "    \n",
    "    best_index = np.argmin(entropies)\n",
    "    return feature_labels[best_index]"
   ]
  },
  {
   "cell_type": "code",
   "execution_count": 41,
   "metadata": {},
   "outputs": [
    {
     "data": {
      "text/plain": [
       "'form'"
      ]
     },
     "execution_count": 41,
     "metadata": {},
     "output_type": "execute_result"
    }
   ],
   "source": [
    "find_best_split(features, target)"
   ]
  },
  {
   "cell_type": "markdown",
   "metadata": {},
   "source": [
    "## Representing the Tree"
   ]
  },
  {
   "cell_type": "markdown",
   "metadata": {},
   "source": [
    "The ability to find a best split will only work at a single node. In order to build a complete machine learning model, we are going to need to use this method to build an entire decision tree.\n",
    "\n",
    "We have this so far:\n",
    "\n",
    "<img src=\"https://www.evernote.com/l/AAFzXwQ0IPVAcYpRMWQuaQCf0NvtOC4mz0sB/image.png\" width=400px>\n",
    "\n",
    "But what about the rest of the tree? We want to split like this:\n",
    "\n",
    "<img src=\"https://www.evernote.com/l/AAHMTpccFvtOjYGojh7sZ97oDC6-bRNAPe4B/image.png\" width=400px>\n",
    "\n",
    "<img src=\"https://www.evernote.com/l/AAGE0WSC6F5AzLCUX-A3cwXrQULf_uFRyFYB/image.png\" width=400px>"
   ]
  },
  {
   "cell_type": "markdown",
   "metadata": {},
   "source": [
    "In order to represent this using Python, we will define a `tree` to be one of these:\n",
    "\n",
    "- `True`\n",
    "- `False`\n",
    "- a tuple `(attribute, subtree)`"
   ]
  },
  {
   "cell_type": "markdown",
   "metadata": {},
   "source": [
    "For example, consider the tree representing green circles containing the letter 'B'.\n",
    "\n",
    "We can represent this trivially as:"
   ]
  },
  {
   "cell_type": "code",
   "execution_count": 42,
   "metadata": {},
   "outputs": [],
   "source": [
    "green_circle_B_tree = False"
   ]
  },
  {
   "cell_type": "markdown",
   "metadata": {},
   "source": [
    "or the tree representing green circles containing the letter 'D':"
   ]
  },
  {
   "cell_type": "code",
   "execution_count": 43,
   "metadata": {},
   "outputs": [],
   "source": [
    "green_circle_D_tree = True"
   ]
  },
  {
   "cell_type": "markdown",
   "metadata": {},
   "source": [
    "From there, consider the tree representing green circles:"
   ]
  },
  {
   "cell_type": "markdown",
   "metadata": {},
   "source": [
    "<img src=\"https://www.evernote.com/l/AAEbErEwS7hETI2gNXzkaetSXntpxeGKjSoB/image.png\" width=200px>"
   ]
  },
  {
   "cell_type": "code",
   "execution_count": 44,
   "metadata": {},
   "outputs": [],
   "source": [
    "green_circle_tree = ('letter', {'B' : False, 'D' : True})"
   ]
  },
  {
   "cell_type": "markdown",
   "metadata": {},
   "source": [
    "We might gradually work our way up from there and represent our entire tree as"
   ]
  },
  {
   "cell_type": "code",
   "execution_count": 45,
   "metadata": {},
   "outputs": [],
   "source": [
    "tree = ('form', {'square': False,\n",
    "                 'circle': \n",
    "                           ('color', {'green': \n",
    "                                               ('letter', {'B' : False, \n",
    "                                                           'D' : True}),\n",
    "                                      'red': True,\n",
    "                                      'blue': True}),\n",
    "                 'diamond': \n",
    "                            ('letter', {'C': False,\n",
    "                                        'D': True,\n",
    "                                        'E': True}),\n",
    "                 'star': True})"
   ]
  },
  {
   "cell_type": "markdown",
   "metadata": {},
   "source": [
    "### Use a tree to classifiy an input"
   ]
  },
  {
   "cell_type": "markdown",
   "metadata": {},
   "source": [
    "Suppose we had a new element and we wish to no whether or not is has a border. For example, we may be given the following element:\n",
    "\n",
    "    {'form': 'circle', 'letter': 'C', 'color': 'red'}"
   ]
  },
  {
   "cell_type": "markdown",
   "metadata": {},
   "source": [
    "We are going to need to build a classification function to use our tree to classify this input."
   ]
  },
  {
   "cell_type": "code",
   "execution_count": 46,
   "metadata": {},
   "outputs": [],
   "source": [
    "def classify(tree, element):\n",
    "    if tree in [True, False]:\n",
    "        return tree\n",
    "    \n",
    "    attribute, subtree_dictionary = tree\n",
    "    \n",
    "    subtree_key = element.get(attribute)\n",
    "    \n",
    "    if subtree_key not in subtree_dictionary:\n",
    "        subtree_key = None\n",
    "    \n",
    "    subtree = subtree_dictionary[subtree_key]\n",
    "    \n",
    "    return classify(subtree, element)"
   ]
  },
  {
   "cell_type": "code",
   "execution_count": 47,
   "metadata": {},
   "outputs": [
    {
     "data": {
      "text/plain": [
       "True"
      ]
     },
     "execution_count": 47,
     "metadata": {},
     "output_type": "execute_result"
    }
   ],
   "source": [
    "classify(tree, {'form': 'circle', 'letter': 'C', 'color': 'red'})"
   ]
  },
  {
   "cell_type": "markdown",
   "metadata": {},
   "source": [
    "But what if we pass an element that is ambiguous, for example\n",
    "\n",
    "    {'form': 'circle', 'letter': 'C', 'color': 'green'}"
   ]
  },
  {
   "cell_type": "code",
   "execution_count": 48,
   "metadata": {},
   "outputs": [
    {
     "ename": "KeyError",
     "evalue": "None",
     "output_type": "error",
     "traceback": [
      "\u001b[0;31m---------------------------------------------------------------------------\u001b[0m",
      "\u001b[0;31mKeyError\u001b[0m                                  Traceback (most recent call last)",
      "\u001b[0;32m<ipython-input-48-fb66fb52e16e>\u001b[0m in \u001b[0;36m<module>\u001b[0;34m()\u001b[0m\n\u001b[0;32m----> 1\u001b[0;31m \u001b[0mclassify\u001b[0m\u001b[0;34m(\u001b[0m\u001b[0mtree\u001b[0m\u001b[0;34m,\u001b[0m \u001b[0;34m{\u001b[0m\u001b[0;34m'form'\u001b[0m\u001b[0;34m:\u001b[0m \u001b[0;34m'circle'\u001b[0m\u001b[0;34m,\u001b[0m \u001b[0;34m'letter'\u001b[0m\u001b[0;34m:\u001b[0m \u001b[0;34m'C'\u001b[0m\u001b[0;34m,\u001b[0m \u001b[0;34m'color'\u001b[0m\u001b[0;34m:\u001b[0m \u001b[0;34m'green'\u001b[0m\u001b[0;34m}\u001b[0m\u001b[0;34m)\u001b[0m\u001b[0;34m\u001b[0m\u001b[0m\n\u001b[0m",
      "\u001b[0;32m<ipython-input-46-60febbeeaf89>\u001b[0m in \u001b[0;36mclassify\u001b[0;34m(tree, element)\u001b[0m\n\u001b[1;32m     12\u001b[0m     \u001b[0msubtree\u001b[0m \u001b[0;34m=\u001b[0m \u001b[0msubtree_dictionary\u001b[0m\u001b[0;34m[\u001b[0m\u001b[0msubtree_key\u001b[0m\u001b[0;34m]\u001b[0m\u001b[0;34m\u001b[0m\u001b[0m\n\u001b[1;32m     13\u001b[0m \u001b[0;34m\u001b[0m\u001b[0m\n\u001b[0;32m---> 14\u001b[0;31m     \u001b[0;32mreturn\u001b[0m \u001b[0mclassify\u001b[0m\u001b[0;34m(\u001b[0m\u001b[0msubtree\u001b[0m\u001b[0;34m,\u001b[0m \u001b[0melement\u001b[0m\u001b[0;34m)\u001b[0m\u001b[0;34m\u001b[0m\u001b[0m\n\u001b[0m",
      "\u001b[0;32m<ipython-input-46-60febbeeaf89>\u001b[0m in \u001b[0;36mclassify\u001b[0;34m(tree, element)\u001b[0m\n\u001b[1;32m     12\u001b[0m     \u001b[0msubtree\u001b[0m \u001b[0;34m=\u001b[0m \u001b[0msubtree_dictionary\u001b[0m\u001b[0;34m[\u001b[0m\u001b[0msubtree_key\u001b[0m\u001b[0;34m]\u001b[0m\u001b[0;34m\u001b[0m\u001b[0m\n\u001b[1;32m     13\u001b[0m \u001b[0;34m\u001b[0m\u001b[0m\n\u001b[0;32m---> 14\u001b[0;31m     \u001b[0;32mreturn\u001b[0m \u001b[0mclassify\u001b[0m\u001b[0;34m(\u001b[0m\u001b[0msubtree\u001b[0m\u001b[0;34m,\u001b[0m \u001b[0melement\u001b[0m\u001b[0;34m)\u001b[0m\u001b[0;34m\u001b[0m\u001b[0m\n\u001b[0m",
      "\u001b[0;32m<ipython-input-46-60febbeeaf89>\u001b[0m in \u001b[0;36mclassify\u001b[0;34m(tree, element)\u001b[0m\n\u001b[1;32m     10\u001b[0m         \u001b[0msubtree_key\u001b[0m \u001b[0;34m=\u001b[0m \u001b[0;32mNone\u001b[0m\u001b[0;34m\u001b[0m\u001b[0m\n\u001b[1;32m     11\u001b[0m \u001b[0;34m\u001b[0m\u001b[0m\n\u001b[0;32m---> 12\u001b[0;31m     \u001b[0msubtree\u001b[0m \u001b[0;34m=\u001b[0m \u001b[0msubtree_dictionary\u001b[0m\u001b[0;34m[\u001b[0m\u001b[0msubtree_key\u001b[0m\u001b[0;34m]\u001b[0m\u001b[0;34m\u001b[0m\u001b[0m\n\u001b[0m\u001b[1;32m     13\u001b[0m \u001b[0;34m\u001b[0m\u001b[0m\n\u001b[1;32m     14\u001b[0m     \u001b[0;32mreturn\u001b[0m \u001b[0mclassify\u001b[0m\u001b[0;34m(\u001b[0m\u001b[0msubtree\u001b[0m\u001b[0;34m,\u001b[0m \u001b[0melement\u001b[0m\u001b[0;34m)\u001b[0m\u001b[0;34m\u001b[0m\u001b[0m\n",
      "\u001b[0;31mKeyError\u001b[0m: None"
     ]
    }
   ],
   "source": [
    "classify(tree, {'form': 'circle', 'letter': 'C', 'color': 'green'})"
   ]
  },
  {
   "cell_type": "markdown",
   "metadata": {},
   "source": [
    "### To Handle this, we will redefine our Tree\n",
    "\n",
    "We will add a `None` key that returns the most common class."
   ]
  },
  {
   "cell_type": "code",
   "execution_count": 49,
   "metadata": {},
   "outputs": [],
   "source": [
    "tree = ('form', {'square': False,\n",
    "                 'circle': \n",
    "                           ('color', {'green': \n",
    "                                               ('letter', {'B' : False, \n",
    "                                                           'D' : True,\n",
    "                                                           None: False}),\n",
    "                                      'red': True,\n",
    "                                      'blue': True,\n",
    "                                      None : True}),\n",
    "                 'diamond': \n",
    "                            ('letter', {'C': False,\n",
    "                                        'D': True,\n",
    "                                        'E': True,\n",
    "                                        None: True}),\n",
    "                 'star': True,\n",
    "                 None: True})"
   ]
  },
  {
   "cell_type": "code",
   "execution_count": 50,
   "metadata": {},
   "outputs": [],
   "source": [
    "def classify(tree, element):\n",
    "    if tree in [True, False]:\n",
    "        return tree\n",
    "    \n",
    "    attribute, subtree_dictionary = tree\n",
    "    \n",
    "    subtree_key = element.get(attribute)\n",
    "    \n",
    "    if subtree_key not in subtree_dictionary:\n",
    "        subtree_key = None\n",
    "    \n",
    "    subtree = subtree_dictionary[subtree_key]\n",
    "    \n",
    "    return classify(subtree, element)"
   ]
  },
  {
   "cell_type": "code",
   "execution_count": 51,
   "metadata": {},
   "outputs": [
    {
     "data": {
      "text/plain": [
       "False"
      ]
     },
     "execution_count": 51,
     "metadata": {},
     "output_type": "execute_result"
    }
   ],
   "source": [
    "classify(tree, {'form': 'circle', 'letter': 'C', 'color': 'green'})"
   ]
  },
  {
   "cell_type": "code",
   "execution_count": 52,
   "metadata": {},
   "outputs": [
    {
     "data": {
      "text/plain": [
       "True"
      ]
     },
     "execution_count": 52,
     "metadata": {},
     "output_type": "execute_result"
    }
   ],
   "source": [
    "classify(tree, {'form': 'octagon', 'letter': 'Z', 'color': 'chartreuse'})"
   ]
  },
  {
   "cell_type": "markdown",
   "metadata": {},
   "source": [
    "## Build The Tree"
   ]
  },
  {
   "cell_type": "code",
   "execution_count": 56,
   "metadata": {},
   "outputs": [],
   "source": [
    "def find_best_split(features, target, split_candidates):\n",
    "        \n",
    "    entropies = [\n",
    "        entropy_on_split(features, target, feature_label)\n",
    "        for feature_label in split_candidates\n",
    "    ]\n",
    "    \n",
    "    best_index = np.argmin(entropies)\n",
    "    return split_candidates[best_index]"
   ]
  },
  {
   "cell_type": "code",
   "execution_count": 57,
   "metadata": {},
   "outputs": [],
   "source": [
    "def build_tree(features, target, split_candidates=None):\n",
    "    if split_candidates is None:\n",
    "        split_candidates = list(features.columns)\n",
    "    \n",
    "    total_count = target.count()\n",
    "    true_count = target.sum()\n",
    "    false_count = total_count - true_count\n",
    "    \n",
    "    if false_count == 0: return True\n",
    "    if true_count == 0: return False\n",
    "    \n",
    "    if split_candidates == []:\n",
    "        return true_count > false_count\n",
    "    \n",
    "    best_attribute = find_best_split(features, target, split_candidates)\n",
    "\n",
    "    split_candidates = [split_candidate \n",
    "                        for split_candidate in split_candidates \n",
    "                        if split_candidate is not best_attribute]\n",
    "    \n",
    "    best_attribute_uniques = features[best_attribute].unique()\n",
    "    subtree = dict()\n",
    "    for best_attr_unique in best_attribute_uniques:\n",
    "        feat_subset = features[features[best_attribute] == best_attr_unique]\n",
    "        target_subset = target[features[best_attribute] == best_attr_unique]\n",
    "        subtree[best_attr_unique] = build_tree(feat_subset, target_subset, split_candidates)\n",
    "    subtree[None] = true_count > false_count\n",
    "\n",
    "    return (best_attribute, subtree)"
   ]
  },
  {
   "cell_type": "code",
   "execution_count": 60,
   "metadata": {},
   "outputs": [
    {
     "data": {
      "text/plain": [
       "('form',\n",
       " {'square': False,\n",
       "  'circle': ('color',\n",
       "   {'red': True,\n",
       "    'green': ('letter', {'B': False, 'D': True, None: False}),\n",
       "    'blue': True,\n",
       "    None: True}),\n",
       "  'diamond': ('color',\n",
       "   {'red': True, 'blue': False, 'green': True, None: True}),\n",
       "  'star': True,\n",
       "  None: True})"
      ]
     },
     "execution_count": 60,
     "metadata": {},
     "output_type": "execute_result"
    }
   ],
   "source": [
    "build_tree(features, target)"
   ]
  },
  {
   "cell_type": "code",
   "execution_count": 71,
   "metadata": {},
   "outputs": [],
   "source": [
    "features = items_df.drop('letter', axis=1)\n",
    "target = items_df.letter == 'A'"
   ]
  },
  {
   "cell_type": "code",
   "execution_count": null,
   "metadata": {},
   "outputs": [],
   "source": []
  },
  {
   "cell_type": "code",
   "execution_count": 72,
   "metadata": {
    "scrolled": true
   },
   "outputs": [],
   "source": [
    "my_tree = build_tree(features, target)"
   ]
  },
  {
   "cell_type": "code",
   "execution_count": 73,
   "metadata": {},
   "outputs": [
    {
     "data": {
      "text/plain": [
       "('color',\n",
       " {'blue': False,\n",
       "  'red': ('form', {'circle': True, 'diamond': False, None: False}),\n",
       "  'green': ('form',\n",
       "   {'circle': False, 'square': True, 'diamond': False, None: False}),\n",
       "  'silver': False,\n",
       "  'purple': False,\n",
       "  None: False})"
      ]
     },
     "execution_count": 73,
     "metadata": {},
     "output_type": "execute_result"
    }
   ],
   "source": [
    "my_tree"
   ]
  },
  {
   "cell_type": "code",
   "execution_count": 62,
   "metadata": {
    "scrolled": false
   },
   "outputs": [
    {
     "data": {
      "text/plain": [
       "True"
      ]
     },
     "metadata": {},
     "output_type": "display_data"
    },
    {
     "data": {
      "text/plain": [
       "False"
      ]
     },
     "metadata": {},
     "output_type": "display_data"
    },
    {
     "data": {
      "text/plain": [
       "True"
      ]
     },
     "metadata": {},
     "output_type": "display_data"
    }
   ],
   "source": [
    "display(classify(my_tree, {'form': 'circle', 'letter': 'C', 'color': 'red'}))\n",
    "display(classify(my_tree, {'form': 'circle', 'letter': 'C', 'color': 'green'}))\n",
    "display(classify(my_tree, {'form': 'octagon', 'letter': 'Z', 'color': 'chartreuse'}))"
   ]
  },
  {
   "cell_type": "code",
   "execution_count": null,
   "metadata": {},
   "outputs": [],
   "source": []
  }
 ],
 "metadata": {
  "kernelspec": {
   "display_name": "Python 3",
   "language": "python",
   "name": "python3"
  },
  "language_info": {
   "codemirror_mode": {
    "name": "ipython",
    "version": 3
   },
   "file_extension": ".py",
   "mimetype": "text/x-python",
   "name": "python",
   "nbconvert_exporter": "python",
   "pygments_lexer": "ipython3",
   "version": "3.6.3"
  }
 },
 "nbformat": 4,
 "nbformat_minor": 2
}
