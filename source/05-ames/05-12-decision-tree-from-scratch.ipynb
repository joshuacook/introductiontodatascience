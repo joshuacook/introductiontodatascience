{
 "cells": [
  {
   "cell_type": "markdown",
   "metadata": {},
   "source": [
    "### Entropy\n"
   ]
  },
  {
   "cell_type": "markdown",
   "metadata": {},
   "source": [
    "Intuitively, we can think of **entropy** as the measure of disorder in a system. "
   ]
  },
  {
   "cell_type": "markdown",
   "metadata": {},
   "source": [
    "This set, $S$, for example, is very disordered:\n",
    "\n",
    "<img src=\"https://www.evernote.com/l/AAEZbuSslJRCwKxfZaSIBJaIZqcQ-mTe9RQB/image.png\" width=400px>\n"
   ]
  },
  {
   "cell_type": "markdown",
   "metadata": {},
   "source": [
    "Let us consider the elements of $S$ that have a black border."
   ]
  },
  {
   "cell_type": "code",
   "execution_count": null,
   "metadata": {},
   "outputs": [],
   "source": [
    "%run items.py"
   ]
  },
  {
   "cell_type": "code",
   "execution_count": null,
   "metadata": {},
   "outputs": [],
   "source": [
    "import numpy as np\n",
    "import pandas as pd\n",
    "\n",
    "from IPython.display import display\n",
    "\n",
    "items_df = pd.DataFrame(items)\n",
    "items_df"
   ]
  },
  {
   "cell_type": "markdown",
   "metadata": {},
   "source": [
    "## Information Entropy\n",
    "\n",
    "\n",
    "We can measure the disorder in $S$ relative to any attribute of an element using the Shannon Information **Entropy**\n",
    "\n",
    "$$H(S) = -p_1\\log_2p_1 + \\dots + -p_n\\log_2p_n$$\n",
    "\n",
    "\n"
   ]
  },
  {
   "cell_type": "markdown",
   "metadata": {},
   "source": [
    "Here, each $p_i$ is a measure of the proportion of the set represented by each class for a given attribute. If we are looking at the color of our shapes, this would be five classes: "
   ]
  },
  {
   "cell_type": "code",
   "execution_count": null,
   "metadata": {},
   "outputs": [],
   "source": [
    "items_df.color.unique()"
   ]
  },
  {
   "cell_type": "markdown",
   "metadata": {},
   "source": [
    "We can use Python to calculate the entropy"
   ]
  },
  {
   "cell_type": "code",
   "execution_count": null,
   "metadata": {},
   "outputs": [],
   "source": [
    "def class_entropy(proportion):\n",
    "    return -proportion*np.log2(proportion)"
   ]
  },
  {
   "cell_type": "code",
   "execution_count": null,
   "metadata": {},
   "outputs": [],
   "source": [
    "def entropy(proportions):\n",
    "    class_entropies = [class_entropy(proportion) \n",
    "                       for proportion in proportions]\n",
    "    return sum(class_entropies)"
   ]
  },
  {
   "cell_type": "markdown",
   "metadata": {},
   "source": [
    "### Measure The Entropy of the color of $S$ "
   ]
  },
  {
   "cell_type": "code",
   "execution_count": null,
   "metadata": {},
   "outputs": [],
   "source": [
    "n = items_df.color.count()\n",
    "n"
   ]
  },
  {
   "cell_type": "code",
   "execution_count": null,
   "metadata": {},
   "outputs": [],
   "source": [
    "p_red = (items_df.color == 'red').sum()/n\n",
    "p_blue = (items_df.color == 'blue').sum()/n\n",
    "p_green = (items_df.color == 'green').sum()/n\n",
    "p_silver = (items_df.color == 'silver').sum()/n\n",
    "p_purple = (items_df.color == 'purple').sum()/n\n",
    "\n",
    "S_proportions = [p_red, p_blue, p_green, p_silver, p_purple]\n",
    "S_proportions"
   ]
  },
  {
   "cell_type": "code",
   "execution_count": null,
   "metadata": {},
   "outputs": [],
   "source": [
    "sum(S_proportions)"
   ]
  },
  {
   "cell_type": "code",
   "execution_count": null,
   "metadata": {},
   "outputs": [],
   "source": [
    "entropy(S_proportions)"
   ]
  },
  {
   "cell_type": "markdown",
   "metadata": {},
   "source": [
    "## To Do\n",
    "\n",
    "Write a method that calculates the class proportions for a given dataframe and feature.\n"
   ]
  },
  {
   "cell_type": "code",
   "execution_count": null,
   "metadata": {},
   "outputs": [],
   "source": [
    "def class_proportions(series):\n",
    "    classes = series.unique()\n",
    "    total_count = series.count()\n",
    "    counts = [(series == cls).sum() for cls in classes]\n",
    "    return counts/total_count"
   ]
  },
  {
   "cell_type": "code",
   "execution_count": null,
   "metadata": {},
   "outputs": [],
   "source": [
    "class_proportions(items_df.color)"
   ]
  },
  {
   "cell_type": "code",
   "execution_count": null,
   "metadata": {},
   "outputs": [],
   "source": [
    "def entropy(series):\n",
    "    proportions = class_proportions(series)\n",
    "    class_entropies = [class_entropy(proportion) \n",
    "                       for proportion in proportions]\n",
    "    return sum(class_entropies)"
   ]
  },
  {
   "cell_type": "markdown",
   "metadata": {},
   "source": [
    "Use this method to calculate the Entropy with respect to each attribute of $S$"
   ]
  },
  {
   "cell_type": "code",
   "execution_count": null,
   "metadata": {},
   "outputs": [],
   "source": [
    "display(\"color:  {}\".format(class_proportions(items_df.color)))\n",
    "display(\"form:   {}\".format(class_proportions(items_df.form)))\n",
    "display(\"letter: {}\".format(class_proportions(items_df.letter)))\n",
    "display(\"border: {}\".format(class_proportions(items_df.border)))"
   ]
  },
  {
   "cell_type": "code",
   "execution_count": null,
   "metadata": {},
   "outputs": [],
   "source": [
    "display(\"color:  {}\".format(entropy(items_df.color)))\n",
    "display(\"form:   {}\".format(entropy(items_df.form)))\n",
    "display(\"letter: {}\".format(entropy(items_df.letter)))\n",
    "display(\"border: {}\".format(entropy(items_df.border)))"
   ]
  },
  {
   "cell_type": "markdown",
   "metadata": {},
   "source": [
    "## The Decision Tree"
   ]
  },
  {
   "cell_type": "markdown",
   "metadata": {},
   "source": [
    "Decision Trees are supervised learning models typically split into classification trees and regression trees. For the rest of this lesson, we will focus on classification trees. \n",
    "\n",
    "We will work through the ID3 algorithm for learning a decision tree from a set of labeled data. "
   ]
  },
  {
   "cell_type": "markdown",
   "metadata": {},
   "source": [
    "#### Labeled Data\n",
    "\n",
    "For our purposes, let us assume that the feature `border` is our label. We will be seeking a decision tree that makes splits in order to develop a model for identifying which items will have a border. "
   ]
  },
  {
   "cell_type": "code",
   "execution_count": null,
   "metadata": {},
   "outputs": [],
   "source": [
    "features = items_df.drop('border', axis=1)\n",
    "target = items_df.border"
   ]
  },
  {
   "cell_type": "code",
   "execution_count": null,
   "metadata": {},
   "outputs": [],
   "source": [
    "class_proportions(target)"
   ]
  },
  {
   "cell_type": "code",
   "execution_count": null,
   "metadata": {},
   "outputs": [],
   "source": [
    "entropy(target)"
   ]
  },
  {
   "cell_type": "markdown",
   "metadata": {},
   "source": [
    "### Three Partitioning Schemes\n",
    "\n",
    "We can start by separating the elements based upon their attributes. Here are three different ways to do that:\n"
   ]
  },
  {
   "cell_type": "markdown",
   "metadata": {},
   "source": [
    "![](img/entropy_3.png)"
   ]
  },
  {
   "cell_type": "markdown",
   "metadata": {},
   "source": [
    "### Identify the Best Split\n",
    "\n",
    "In order to proceed, we will need to identify which of these ways of separating is best? We can use the measure of entropy to do this!\n"
   ]
  },
  {
   "cell_type": "markdown",
   "metadata": {},
   "source": [
    "#### Split by Form"
   ]
  },
  {
   "cell_type": "code",
   "execution_count": null,
   "metadata": {},
   "outputs": [],
   "source": [
    "features_square_df = features[features.form == 'square']\n",
    "features_circle_df = features[features.form == 'circle']\n",
    "features_diamond_df = features[features.form == 'diamond']\n",
    "features_star_df = features[features.form == 'star']\n",
    "\n",
    "target_square_df = target[features.form == 'square']\n",
    "target_circle_df = target[features.form == 'circle']\n",
    "target_diamond_df = target[features.form == 'diamond']\n",
    "target_star_df = target[features.form == 'star']\n",
    "\n",
    "display(pd.merge(features_square_df, pd.DataFrame(target_square_df), left_index=True, right_index=True))\n",
    "display(pd.merge(features_circle_df, pd.DataFrame(target_circle_df), left_index=True, right_index=True))\n",
    "display(pd.merge(features_diamond_df, pd.DataFrame(target_diamond_df), left_index=True, right_index=True))\n",
    "display(pd.merge(features_star_df, pd.DataFrame(target_star_df), left_index=True, right_index=True))\n"
   ]
  },
  {
   "cell_type": "markdown",
   "metadata": {},
   "source": [
    "To assess this split, we will be seeking the entropy associated with each subset as a proportion of the total set.\n",
    "\n",
    "$$H_T = q_{\\text{square}}H(S_{\\text{square}}) + \n",
    "        q_{\\text{circle}}H(S_{\\text{circle}}) + \n",
    "        q_{\\text{diamond}}H(S_{\\text{diamond}}) + \n",
    "        q_{\\text{star}}H(S_{\\text{star}})\n",
    "$$\n",
    "\n",
    "Here each $q_i$ represents the **weight**, the proportion of the total each subset is\n",
    "\n",
    "$$q_i = \\frac{\\text{count}(S_i)}{\\text{count}(S_T)}$$"
   ]
  },
  {
   "cell_type": "code",
   "execution_count": null,
   "metadata": {},
   "outputs": [],
   "source": [
    "q_square = features_square_df.form.count()/features.form.count()\n",
    "q_circle = features_circle_df.form.count()/features.form.count()\n",
    "q_diamond = features_diamond_df.form.count()/features.form.count()\n",
    "q_star = features_star_df.form.count()/features.form.count()"
   ]
  },
  {
   "cell_type": "markdown",
   "metadata": {},
   "source": [
    "### Total Entropy When Split by Form"
   ]
  },
  {
   "cell_type": "markdown",
   "metadata": {},
   "source": [
    "##### Calculate the weights of each class of our target"
   ]
  },
  {
   "cell_type": "code",
   "execution_count": null,
   "metadata": {},
   "outputs": [],
   "source": [
    "display(\"color:  {}\".format(class_proportions(target_square_df)))\n",
    "display(\"form:   {}\".format(class_proportions(target_circle_df)))\n",
    "display(\"letter: {}\".format(class_proportions(target_diamond_df)))\n",
    "display(\"border: {}\".format(class_proportions(target_star_df)))"
   ]
  },
  {
   "cell_type": "markdown",
   "metadata": {},
   "source": [
    "##### Find the entropy for these proportions"
   ]
  },
  {
   "cell_type": "code",
   "execution_count": null,
   "metadata": {},
   "outputs": [],
   "source": [
    "display(\"square:  {}\".format(entropy(target_square_df)))\n",
    "display(\"circle:   {}\".format(entropy(target_circle_df)))\n",
    "display(\"diamond: {}\".format(entropy(target_diamond_df)))\n",
    "display(\"star: {}\".format(entropy(target_star_df)))"
   ]
  },
  {
   "cell_type": "code",
   "execution_count": null,
   "metadata": {},
   "outputs": [],
   "source": [
    "H_square_border = entropy(target_square_df)\n",
    "H_circle_border = entropy(target_circle_df)\n",
    "H_diamond_border = entropy(target_diamond_df)\n",
    "H_star_border = entropy(target_star_df)"
   ]
  },
  {
   "cell_type": "markdown",
   "metadata": {},
   "source": [
    "##### Sum the weighted Entropy"
   ]
  },
  {
   "cell_type": "code",
   "execution_count": null,
   "metadata": {},
   "outputs": [],
   "source": [
    "q_square*H_square_border + q_circle*H_circle_border + q_diamond*H_diamond_border + q_star*H_star_border"
   ]
  },
  {
   "cell_type": "markdown",
   "metadata": {},
   "source": [
    "### Write a function to do this for a split on any feature"
   ]
  },
  {
   "cell_type": "code",
   "execution_count": null,
   "metadata": {},
   "outputs": [],
   "source": [
    "def entropy_on_split(dataframe, target, feature, debug=False):\n",
    "    \n",
    "    # split on feature\n",
    "    unique_classes = dataframe[feature].unique()    \n",
    "    target_subsets = [\n",
    "        target[dataframe[feature] == unique_class] \n",
    "        for unique_class in unique_classes\n",
    "    ]\n",
    "        \n",
    "    # calculate subset weights\n",
    "    total = target.count()\n",
    "    weights = [\n",
    "        target_subset.count()/total\n",
    "        for target_subset in target_subsets\n",
    "    ]\n",
    "    \n",
    "    # calculate entropies\n",
    "    entropies = [\n",
    "        entropy(target_subset)\n",
    "        for target_subset in target_subsets\n",
    "    ]\n",
    "        \n",
    "    # return weighted entropy\n",
    "    return sum(weight*entropy for weight, entropy in zip(weights, entropies))"
   ]
  },
  {
   "cell_type": "code",
   "execution_count": null,
   "metadata": {},
   "outputs": [],
   "source": [
    "entropy_on_split(features, target, 'form')"
   ]
  },
  {
   "cell_type": "code",
   "execution_count": null,
   "metadata": {},
   "outputs": [],
   "source": [
    "entropy_on_split(features, target, 'color')"
   ]
  },
  {
   "cell_type": "code",
   "execution_count": null,
   "metadata": {},
   "outputs": [],
   "source": [
    "entropy_on_split(features, target, 'letter')"
   ]
  },
  {
   "cell_type": "markdown",
   "metadata": {},
   "source": [
    "### Write a function to Identify the Best Split"
   ]
  },
  {
   "cell_type": "code",
   "execution_count": null,
   "metadata": {},
   "outputs": [],
   "source": [
    "def find_best_split(features, target):\n",
    "    feature_labels = features.columns\n",
    "    entropies = [\n",
    "        entropy_on_split(features, target, feature_label)\n",
    "        for feature_label in feature_labels\n",
    "    ]\n",
    "    \n",
    "    best_index = np.argmin(entropies)\n",
    "    return feature_labels[best_index]"
   ]
  },
  {
   "cell_type": "code",
   "execution_count": null,
   "metadata": {},
   "outputs": [],
   "source": [
    "find_best_split(features, target)"
   ]
  },
  {
   "cell_type": "markdown",
   "metadata": {},
   "source": [
    "## Representing the Tree"
   ]
  },
  {
   "cell_type": "markdown",
   "metadata": {},
   "source": [
    "The ability to find a best split will only work at a single node. In order to build a complete machine learning model, we are going to need to use this method to build an entire decision tree.\n",
    "\n",
    "We have this so far:\n",
    "\n",
    "<img src=\"https://www.evernote.com/l/AAFzXwQ0IPVAcYpRMWQuaQCf0NvtOC4mz0sB/image.png\" width=400px>\n",
    "\n",
    "But what about the rest of the tree? We want to split like this:\n",
    "\n",
    "<img src=\"https://www.evernote.com/l/AAHMTpccFvtOjYGojh7sZ97oDC6-bRNAPe4B/image.png\" width=400px>\n",
    "\n",
    "<img src=\"https://www.evernote.com/l/AAGE0WSC6F5AzLCUX-A3cwXrQULf_uFRyFYB/image.png\" width=400px>"
   ]
  },
  {
   "cell_type": "markdown",
   "metadata": {},
   "source": [
    "In order to represent this using Python, we will define a `tree` to be one of these:\n",
    "\n",
    "- `True`\n",
    "- `False`\n",
    "- a tuple `(attribute, subtree)`"
   ]
  },
  {
   "cell_type": "markdown",
   "metadata": {},
   "source": [
    "For example, consider the tree representing green circles containing the letter 'B'.\n",
    "\n",
    "We can represent this trivially as:"
   ]
  },
  {
   "cell_type": "code",
   "execution_count": null,
   "metadata": {},
   "outputs": [],
   "source": [
    "green_circle_B_tree = False"
   ]
  },
  {
   "cell_type": "markdown",
   "metadata": {},
   "source": [
    "or the tree representing green circles containing the letter 'D':"
   ]
  },
  {
   "cell_type": "code",
   "execution_count": null,
   "metadata": {},
   "outputs": [],
   "source": [
    "green_circle_D_tree = True"
   ]
  },
  {
   "cell_type": "markdown",
   "metadata": {},
   "source": [
    "From there, consider the tree representing green circles:"
   ]
  },
  {
   "cell_type": "markdown",
   "metadata": {},
   "source": [
    "<img src=\"https://www.evernote.com/l/AAEbErEwS7hETI2gNXzkaetSXntpxeGKjSoB/image.png\" width=200px>"
   ]
  },
  {
   "cell_type": "code",
   "execution_count": null,
   "metadata": {},
   "outputs": [],
   "source": [
    "green_circle_tree = ('letter', {'B' : False, 'D' : True})"
   ]
  },
  {
   "cell_type": "markdown",
   "metadata": {},
   "source": [
    "We might gradually work our way up from there and represent our entire tree as"
   ]
  },
  {
   "cell_type": "code",
   "execution_count": null,
   "metadata": {},
   "outputs": [],
   "source": [
    "tree = ('form', {'square': False,\n",
    "                 'circle': \n",
    "                           ('color', {'green': \n",
    "                                               ('letter', {'B' : False, \n",
    "                                                           'D' : True}),\n",
    "                                      'red': True,\n",
    "                                      'blue': True}),\n",
    "                 'diamond': \n",
    "                            ('letter', {'C': False,\n",
    "                                        'D': True,\n",
    "                                        'E': True}),\n",
    "                 'star': True})"
   ]
  },
  {
   "cell_type": "markdown",
   "metadata": {},
   "source": [
    "### Use a tree to classifiy an input"
   ]
  },
  {
   "cell_type": "markdown",
   "metadata": {},
   "source": [
    "Suppose we had a new element and we wish to no whether or not is has a border. For example, we may be given the following element:\n",
    "\n",
    "    {'form': 'circle', 'letter': 'C', 'color': 'red'}"
   ]
  },
  {
   "cell_type": "markdown",
   "metadata": {},
   "source": [
    "We are going to need to build a classification function to use our tree to classify this input."
   ]
  },
  {
   "cell_type": "code",
   "execution_count": null,
   "metadata": {},
   "outputs": [],
   "source": [
    "def classify(tree, element):\n",
    "    if tree in [True, False]:\n",
    "        return tree\n",
    "    \n",
    "    attribute, subtree_dictionary = tree\n",
    "    \n",
    "    subtree_key = element.get(attribute)\n",
    "    \n",
    "    if subtree_key not in subtree_dictionary:\n",
    "        subtree_key = None\n",
    "    \n",
    "    subtree = subtree_dictionary[subtree_key]\n",
    "    \n",
    "    return classify(subtree, element)"
   ]
  },
  {
   "cell_type": "code",
   "execution_count": null,
   "metadata": {},
   "outputs": [],
   "source": [
    "classify(tree, {'form': 'circle', 'letter': 'C', 'color': 'red'})"
   ]
  },
  {
   "cell_type": "markdown",
   "metadata": {},
   "source": [
    "But what if we pass an element that is ambiguous, for example\n",
    "\n",
    "    {'form': 'circle', 'letter': 'C', 'color': 'green'}"
   ]
  },
  {
   "cell_type": "code",
   "execution_count": null,
   "metadata": {},
   "outputs": [],
   "source": [
    "classify(tree, {'form': 'circle', 'letter': 'C', 'color': 'green'})"
   ]
  },
  {
   "cell_type": "markdown",
   "metadata": {},
   "source": [
    "### To Handle this, we will redefine our Tree\n",
    "\n",
    "We will add a `None` key that returns the most common class."
   ]
  },
  {
   "cell_type": "code",
   "execution_count": null,
   "metadata": {},
   "outputs": [],
   "source": [
    "tree = ('form', {'square': False,\n",
    "                 'circle': \n",
    "                           ('color', {'green': \n",
    "                                               ('letter', {'B' : False, \n",
    "                                                           'D' : True,\n",
    "                                                           None: False}),\n",
    "                                      'red': True,\n",
    "                                      'blue': True,\n",
    "                                      None : True}),\n",
    "                 'diamond': \n",
    "                            ('letter', {'C': False,\n",
    "                                        'D': True,\n",
    "                                        'E': True,\n",
    "                                        None: True}),\n",
    "                 'star': True,\n",
    "                 None: True})"
   ]
  },
  {
   "cell_type": "code",
   "execution_count": null,
   "metadata": {},
   "outputs": [],
   "source": [
    "def classify(tree, element):\n",
    "    if tree in [True, False]:\n",
    "        return tree\n",
    "    \n",
    "    attribute, subtree_dictionary = tree\n",
    "    \n",
    "    subtree_key = element.get(attribute)\n",
    "    \n",
    "    if subtree_key not in subtree_dictionary:\n",
    "        subtree_key = None\n",
    "    \n",
    "    subtree = subtree_dictionary[subtree_key]\n",
    "    \n",
    "    return classify(subtree, element)"
   ]
  },
  {
   "cell_type": "code",
   "execution_count": null,
   "metadata": {},
   "outputs": [],
   "source": [
    "classify(tree, {'form': 'circle', 'letter': 'C', 'color': 'green'})"
   ]
  },
  {
   "cell_type": "code",
   "execution_count": null,
   "metadata": {},
   "outputs": [],
   "source": [
    "classify(tree, {'form': 'octagon', 'letter': 'Z', 'color': 'chartreuse'})"
   ]
  },
  {
   "cell_type": "markdown",
   "metadata": {},
   "source": [
    "## Build The Tree"
   ]
  },
  {
   "cell_type": "code",
   "execution_count": null,
   "metadata": {},
   "outputs": [],
   "source": [
    "def find_best_split(features, target, split_candidates):\n",
    "        \n",
    "    entropies = [\n",
    "        entropy_on_split(features, target, feature_label)\n",
    "        for feature_label in split_candidates\n",
    "    ]\n",
    "    \n",
    "    best_index = np.argmin(entropies)\n",
    "    return split_candidates[best_index]"
   ]
  },
  {
   "cell_type": "code",
   "execution_count": null,
   "metadata": {},
   "outputs": [],
   "source": [
    "def build_tree(features, target, split_candidates=None):\n",
    "    if split_candidates is None:\n",
    "        split_candidates = list(features.columns)\n",
    "    \n",
    "    total_count = target.count()\n",
    "    true_count = target.sum()\n",
    "    false_count = total_count - true_count\n",
    "    \n",
    "    if false_count == 0: return True\n",
    "    if true_count == 0: return False\n",
    "    \n",
    "    if split_candidates == []:\n",
    "        return true_count > false_count\n",
    "    \n",
    "    best_attribute = find_best_split(features, target, split_candidates)\n",
    "\n",
    "    split_candidates = [split_candidate \n",
    "                        for split_candidate in split_candidates \n",
    "                        if split_candidate is not best_attribute]\n",
    "    \n",
    "    best_attribute_uniques = features[best_attribute].unique()\n",
    "    subtree = dict()\n",
    "    for best_attr_unique in best_attribute_uniques:\n",
    "        feat_subset = features[features[best_attribute] == best_attr_unique]\n",
    "        target_subset = target[features[best_attribute] == best_attr_unique]\n",
    "        subtree[best_attr_unique] = build_tree(feat_subset, target_subset, split_candidates)\n",
    "    subtree[None] = true_count > false_count\n",
    "\n",
    "    return (best_attribute, subtree)"
   ]
  },
  {
   "cell_type": "code",
   "execution_count": null,
   "metadata": {},
   "outputs": [],
   "source": [
    "build_tree(features, target)"
   ]
  },
  {
   "cell_type": "code",
   "execution_count": null,
   "metadata": {},
   "outputs": [],
   "source": [
    "my_tree = build_tree(features, target)"
   ]
  },
  {
   "cell_type": "code",
   "execution_count": null,
   "metadata": {
    "scrolled": false
   },
   "outputs": [],
   "source": [
    "display(classify(my_tree, {'form': 'circle', 'letter': 'C', 'color': 'red'}))\n",
    "display(classify(my_tree, {'form': 'circle', 'letter': 'C', 'color': 'green'}))\n",
    "display(classify(my_tree, {'form': 'octagon', 'letter': 'Z', 'color': 'chartreuse'}))"
   ]
  },
  {
   "cell_type": "code",
   "execution_count": null,
   "metadata": {},
   "outputs": [],
   "source": []
  }
 ],
 "metadata": {
  "kernelspec": {
   "display_name": "Python 3",
   "language": "python",
   "name": "python3"
  },
  "language_info": {
   "codemirror_mode": {
    "name": "ipython",
    "version": 3
   },
   "file_extension": ".py",
   "mimetype": "text/x-python",
   "name": "python",
   "nbconvert_exporter": "python",
   "pygments_lexer": "ipython3",
   "version": "3.6.5"
  }
 },
 "nbformat": 4,
 "nbformat_minor": 2
}
