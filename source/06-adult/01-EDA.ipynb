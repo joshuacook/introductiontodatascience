{
 "cells": [
  {
   "cell_type": "code",
   "execution_count": null,
   "metadata": {},
   "outputs": [],
   "source": [
    "cd .."
   ]
  },
  {
   "cell_type": "code",
   "execution_count": null,
   "metadata": {},
   "outputs": [],
   "source": [
    "run __init__.py"
   ]
  },
  {
   "cell_type": "code",
   "execution_count": null,
   "metadata": {},
   "outputs": [],
   "source": [
    "adult_feature_names = ['age', 'workclass', 'fnlwgt', 'education', 'education-num', \n",
    "                       'marital-status', 'occupation', 'relationship', \n",
    "                       'race', 'sex', 'capital-gain', 'capital-loss', \n",
    "                       'hours-per-week', 'native-country', 'target_class']"
   ]
  },
  {
   "cell_type": "code",
   "execution_count": null,
   "metadata": {},
   "outputs": [],
   "source": [
    "adult_df = pd.read_csv('data/adult.data.csv', header=None)\n",
    "adult_df.columns = adult_feature_names\n",
    "adult_data_df = adult_df.drop('target_class', axis=1)\n",
    "adult_labels_srs = adult_df['target_class']\n"
   ]
  },
  {
   "cell_type": "code",
   "execution_count": null,
   "metadata": {},
   "outputs": [],
   "source": [
    "adult_labels_srs.unique()"
   ]
  },
  {
   "cell_type": "code",
   "execution_count": null,
   "metadata": {},
   "outputs": [],
   "source": [
    "from sklearn.preprocessing import LabelEncoder\n",
    "adult_labels_srs = pd.Series(LabelEncoder().fit_transform(adult_labels_srs))\n",
    "adult_labels_srs.unique()"
   ]
  },
  {
   "cell_type": "code",
   "execution_count": null,
   "metadata": {},
   "outputs": [],
   "source": [
    "plt.hist(adult_labels_srs);"
   ]
  },
  {
   "cell_type": "code",
   "execution_count": null,
   "metadata": {},
   "outputs": [],
   "source": [
    "from sklearn.model_selection import train_test_split"
   ]
  },
  {
   "cell_type": "code",
   "execution_count": null,
   "metadata": {},
   "outputs": [],
   "source": [
    "adult_train_data, \\\n",
    "    adult_test_data, \\\n",
    "    adult_train_labels, \\\n",
    "    adult_test_labels = train_test_split(adult_data_df, adult_labels_srs, test_size=0.23, \n",
    "                                         random_state=42, stratify=adult_labels_srs)\n",
    "adult_train_data = adult_train_data.copy()\n",
    "adult_test_data = adult_test_data.copy()\n",
    "adult_train_labels = adult_train_labels.copy()\n",
    "adult_test_labels = adult_test_labels.copy()\n"
   ]
  },
  {
   "cell_type": "code",
   "execution_count": null,
   "metadata": {},
   "outputs": [],
   "source": [
    "fig = plt.figure(figsize=(12,4))\n",
    "fig.add_subplot(1,2,1)\n",
    "plt.hist(adult_train_labels, label='train')\n",
    "plt.hist(adult_test_labels, label='test')\n",
    "plt.legend()\n",
    "fig.add_subplot(1,2,2)\n",
    "sns.distplot(adult_train_labels, label='train')\n",
    "sns.distplot(adult_test_labels, label='test')\n",
    "plt.legend()"
   ]
  },
  {
   "cell_type": "code",
   "execution_count": null,
   "metadata": {},
   "outputs": [],
   "source": [
    "(adult_train_data.shape,\n",
    " adult_test_data.shape,\n",
    " adult_train_labels.shape,\n",
    " adult_test_labels.shape)"
   ]
  },
  {
   "cell_type": "code",
   "execution_count": null,
   "metadata": {},
   "outputs": [],
   "source": [
    "display(adult_train_data.sample(4))\n",
    "display(adult_test_data.sample(4))"
   ]
  },
  {
   "cell_type": "code",
   "execution_count": null,
   "metadata": {},
   "outputs": [],
   "source": [
    "for col in adult_train_data.columns:\n",
    "    if adult_train_data[col].dtype == object:\n",
    "        print(col, adult_train_data[col].str.contains(' \\?').sum())\n"
   ]
  },
  {
   "cell_type": "code",
   "execution_count": null,
   "metadata": {},
   "outputs": [],
   "source": [
    "for col in adult_test_data.columns:\n",
    "    if adult_test_data[col].dtype == object:\n",
    "        print(col, adult_test_data[col].str.contains(' \\?').sum())\n"
   ]
  },
  {
   "cell_type": "code",
   "execution_count": null,
   "metadata": {},
   "outputs": [],
   "source": [
    "columns_with_na_vals = ['workclass', 'occupation', 'native-country']"
   ]
  },
  {
   "cell_type": "code",
   "execution_count": null,
   "metadata": {},
   "outputs": [],
   "source": [
    "for col in columns_with_na_vals:\n",
    "    adult_train_data[col] = (adult_train_data[col]\n",
    "                             .replace(to_replace=' ?', value=np.nan))\n",
    "    adult_test_data[col] = (adult_test_data[col]\n",
    "                            .replace(to_replace=' ?', value=np.nan))"
   ]
  },
  {
   "cell_type": "code",
   "execution_count": null,
   "metadata": {},
   "outputs": [],
   "source": [
    "for col in adult_train_data.columns:\n",
    "    if adult_train_data[col].dtype == object:\n",
    "        print(col, adult_train_data[col].str.contains(' \\?').sum())\n"
   ]
  },
  {
   "cell_type": "code",
   "execution_count": null,
   "metadata": {},
   "outputs": [],
   "source": [
    "for col in adult_test_data.columns:\n",
    "    if adult_test_data[col].dtype == object:\n",
    "        print(col, adult_test_data[col].str.contains(' \\?').sum())\n"
   ]
  },
  {
   "cell_type": "code",
   "execution_count": null,
   "metadata": {},
   "outputs": [],
   "source": [
    "for col in adult_train_data.columns:\n",
    "    if adult_train_data[col].dtype == object:\n",
    "        print(col, sum(adult_train_data[col].isnull()))\n"
   ]
  },
  {
   "cell_type": "code",
   "execution_count": null,
   "metadata": {},
   "outputs": [],
   "source": [
    "for col in adult_test_data.columns:\n",
    "    if adult_test_data[col].dtype == object:\n",
    "        print(col, sum(adult_test_data[col].isnull()))\n"
   ]
  },
  {
   "cell_type": "code",
   "execution_count": null,
   "metadata": {},
   "outputs": [],
   "source": [
    "workclass_null_indices = set(adult_train_data[adult_train_data['workclass'].isnull()].index)\n",
    "occupation_null_indices = set(adult_train_data[adult_train_data['occupation'].isnull()].index)\n",
    "native_country_null_indices = set(adult_train_data[adult_train_data['native-country'].isnull()].index)"
   ]
  },
  {
   "cell_type": "code",
   "execution_count": null,
   "metadata": {},
   "outputs": [],
   "source": [
    "len(workclass_null_indices | occupation_null_indices | native_country_null_indices)/len(adult_train_data)"
   ]
  },
  {
   "cell_type": "code",
   "execution_count": null,
   "metadata": {},
   "outputs": [],
   "source": [
    "actual_types = ['continuous','categorical','continuous','categorical','continuous','categorical','categorical','categorical','categorical','categorical','continuous','continuous','continuous','categorical']"
   ]
  },
  {
   "cell_type": "code",
   "execution_count": null,
   "metadata": {},
   "outputs": [],
   "source": [
    "actual_types = pd.Series(actual_types, index=adult_train_data.dtypes.index)\n"
   ]
  },
  {
   "cell_type": "code",
   "execution_count": null,
   "metadata": {},
   "outputs": [],
   "source": [
    "pd.DataFrame([adult_train_data.dtypes, adult_test_data.dtypes, actual_types], \n",
    "             index=['train_set','test_set', 'actual_types']).T\n"
   ]
  },
  {
   "cell_type": "code",
   "execution_count": null,
   "metadata": {},
   "outputs": [],
   "source": [
    "adult_dtypes = adult_train_data.dtypes\n",
    "adult_numeric_features = list(adult_dtypes[adult_dtypes==int].index)\n",
    "adult_categorical_features = list(adult_dtypes[adult_dtypes == 'object'].index)\n",
    "adult_numeric_features, adult_categorical_features"
   ]
  },
  {
   "cell_type": "code",
   "execution_count": null,
   "metadata": {},
   "outputs": [],
   "source": [
    "skew_values = list()\n",
    "adult_train_stats = adult_train_data.describe().T\n",
    "for num_col in adult_train_stats.index:\n",
    "    num_col_skew = stats.skew(adult_train_data[num_col])\n",
    "    skew_values.append(num_col_skew)\n",
    "adult_train_stats['skew'] = skew_values\n",
    "adult_train_stats.drop(['count','25%','50%','75%'],axis=1)"
   ]
  },
  {
   "cell_type": "code",
   "execution_count": null,
   "metadata": {},
   "outputs": [],
   "source": [
    "def distplot_by_label(feature, target):\n",
    "    labels = target.unique()\n",
    "    for label in labels:\n",
    "        sns.distplot(feature[target==label])\n",
    "        \n",
    "        \n",
    "def ANOVA_by_feature(feature, target):  \n",
    "    labels = target.unique()\n",
    "    feature_by_label = [\n",
    "        feature[target==label] for label in labels\n",
    "    ]\n",
    "    return stats.f_oneway(*feature_by_label)"
   ]
  },
  {
   "cell_type": "code",
   "execution_count": null,
   "metadata": {},
   "outputs": [],
   "source": [
    "fig = plt.figure(figsize=(20,6))\n",
    "n = len(adult_numeric_features)\n",
    "for i, feature in enumerate(adult_numeric_features):\n",
    "    fig.add_subplot(1, n, i+1)\n",
    "    distplot_by_label(adult_train_data[feature], adult_train_labels)\n",
    "    print(\"{:20} ANOVA p-value: {}\".format(feature, ANOVA_by_feature(adult_train_data[feature], adult_train_labels).pvalue))"
   ]
  },
  {
   "cell_type": "code",
   "execution_count": null,
   "metadata": {},
   "outputs": [],
   "source": [
    "adult_train_with_label = adult_train_data.copy()\n",
    "adult_train_with_label['label'] = adult_train_labels\n",
    "ct = pd.crosstab(index = adult_train_with_label['workclass'], columns=adult_train_with_label['label'])\n",
    "ct.columns = ['<=$50k','>$50K']\n",
    "ct"
   ]
  },
  {
   "cell_type": "code",
   "execution_count": null,
   "metadata": {},
   "outputs": [],
   "source": [
    "fig = plt.figure(figsize=(20,6))\n",
    "sns.countplot('workclass', hue='label', data=adult_train_with_label)"
   ]
  },
  {
   "cell_type": "code",
   "execution_count": null,
   "metadata": {},
   "outputs": [],
   "source": [
    "fig = plt.figure(figsize=(20,6))\n",
    "sns.countplot('education', hue='label', data=adult_train_with_label)"
   ]
  },
  {
   "cell_type": "code",
   "execution_count": null,
   "metadata": {},
   "outputs": [],
   "source": [
    "adult_train_data.to_pickle('data/adult_train_data.p')\n",
    "adult_test_data.to_pickle('data/adult_test_data.p')\n",
    "adult_train_labels.to_pickle('data/adult_train_labels.p')\n",
    "adult_test_labels.to_pickle('data/adult_test_labels.p')"
   ]
  }
 ],
 "metadata": {
  "kernelspec": {
   "display_name": "Python 3",
   "language": "python",
   "name": "python3"
  },
  "language_info": {
   "codemirror_mode": {
    "name": "ipython",
    "version": 3
   },
   "file_extension": ".py",
   "mimetype": "text/x-python",
   "name": "python",
   "nbconvert_exporter": "python",
   "pygments_lexer": "ipython3",
   "version": "3.6.4"
  }
 },
 "nbformat": 4,
 "nbformat_minor": 2
}
