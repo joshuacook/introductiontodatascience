{
 "cells": [
  {
   "cell_type": "markdown",
   "metadata": {},
   "source": [
    "# The Seeds Dataset"
   ]
  },
  {
   "cell_type": "markdown",
   "metadata": {},
   "source": [
    "Welcome to data science! This text is designed to teach you at the practice of data science by working on Data sets. This text is being written as a series of interactive Jupyter notebooks. If you have the notebooks you can read them at the same time as you read the text and run the code interactively. Furthermore, an emphasis will be placed upon practicing data science using the Jupyter notebook server. \n",
    "\n",
    "The fastest way to install Jupyter is by following the instructions here: http://jupyter.readthedocs.io/en/latest/install.html. That said, I recommend taking the time to install Jupyter using Docker. Installing Jupyter using "
   ]
  },
  {
   "cell_type": "markdown",
   "metadata": {},
   "source": [
    "## Interactive Programming\n",
    "\n",
    "> Interactive computing is a dialog between people and machines.\n",
    "          — [Beki Grinter](https://beki70.wordpress.com/2011/01/27/what-is-interactive-computing/)\n"
   ]
  },
  {
   "cell_type": "markdown",
   "metadata": {},
   "source": [
    "### IPython"
   ]
  },
  {
   "cell_type": "markdown",
   "metadata": {},
   "source": [
    "IPython is short for interactive Python and is an highly-evolved Python\n",
    "REPL (read-eval-print loop) with a set of tools for interacting with any\n",
    "and all Python libraries.\n",
    "\n",
    "**Note** Be careful not to confuse IPython, the command\n",
    "line REPL, and IPython Notebook, the legacy notebook server that has\n",
    "evolved into Jupyter.\n",
    "\n",
    "When an IPython session is terminated all interactions are lost."
   ]
  },
  {
   "cell_type": "markdown",
   "metadata": {},
   "source": [
    "### Jupyter"
   ]
  },
  {
   "cell_type": "markdown",
   "metadata": {},
   "source": [
    "Jupyter is:\n",
    "\n",
    "- a web-based interactive application\n",
    "- an interactive code interpreter\n",
    "- a presentation environment\n",
    "- a new paradigm in programming\n",
    "- a way to save complex terminal sessions.\n",
    "\n",
    "Jupyter is fundamentally changing the way we write code.\n",
    "\n",
    "Jupyter replaces if [`__name__ == \"__main__\"`](http://ibiblio.org/g2swap/byteofpython/read/module-name.html):."
   ]
  },
  {
   "cell_type": "markdown",
   "metadata": {},
   "source": [
    "### Jupyter as Persistent Interactive Computing"
   ]
  },
  {
   "cell_type": "markdown",
   "metadata": {},
   "source": [
    "- Jupyter Notebooks are the evolution of IPython.\n",
    "- Jupyter allows users to combine live code, markdown and latex-rich text, images, plots, and more in a single document.\n",
    "- Jupyter is the successor to the IPython notebook, Jupyter was renamed as the platform began to support other software kernels, in particular **Ju**lia, **Pyt**hon,  and **R**.\n",
    "\n",
    "Jupyter notebooks are saved as JSON files and at their most basic level are IPython sessions that can be repeatedly run."
   ]
  },
  {
   "cell_type": "markdown",
   "metadata": {},
   "source": [
    "The output of the last line in a Jupyter cell will be implicitly displayed by the Jupyter Notebook. Try the following (Type the strings as you see them, one per line) in a Jupyter Notebook cell:"
   ]
  },
  {
   "cell_type": "code",
   "execution_count": 1,
   "metadata": {
    "caption": "Hello, World!"
   },
   "outputs": [
    {
     "data": {
      "text/plain": [
       "'Hello, World!'"
      ]
     },
     "execution_count": 1,
     "metadata": {},
     "output_type": "execute_result"
    }
   ],
   "source": [
    "\"Hello, World!\""
   ]
  },
  {
   "cell_type": "markdown",
   "metadata": {},
   "source": [
    "Hit `SHIFT+Enter` to execute the cell.\n",
    "\n",
    "The Jupyter notebook has implicitly rendered the string that appeared on the last line of the cell. To look at this a bit more, we import the `display` function that is being used by the notebook."
   ]
  },
  {
   "cell_type": "code",
   "execution_count": 2,
   "metadata": {
    "caption": "import the explicit display function"
   },
   "outputs": [],
   "source": [
    "from IPython.display import display"
   ]
  },
  {
   "cell_type": "markdown",
   "metadata": {},
   "source": [
    "Next, we type three strings, each on a different line. Note that only the last string is displayed. Again, the Jupyter notebook has implicitly rendered the string that appeared on the last line of the cell."
   ]
  },
  {
   "cell_type": "code",
   "execution_count": 3,
   "metadata": {
    "caption": "implicit call to display"
   },
   "outputs": [
    {
     "data": {
      "text/plain": [
       "'Hello, my ragtime gal!'"
      ]
     },
     "execution_count": 3,
     "metadata": {},
     "output_type": "execute_result"
    }
   ],
   "source": [
    "\"Hello, my baby!\"\n",
    "\"Hello, my honey!\"\n",
    "\"Hello, my ragtime gal!\""
   ]
  },
  {
   "cell_type": "markdown",
   "metadata": {},
   "source": [
    "Finally, we explicitly display all of the strings by calling the `display` function ourselves."
   ]
  },
  {
   "cell_type": "code",
   "execution_count": 4,
   "metadata": {
    "caption": "explicit call to display"
   },
   "outputs": [
    {
     "data": {
      "text/plain": [
       "'Hello, my baby!'"
      ]
     },
     "metadata": {},
     "output_type": "display_data"
    },
    {
     "data": {
      "text/plain": [
       "'Hello, my honey!'"
      ]
     },
     "metadata": {},
     "output_type": "display_data"
    },
    {
     "data": {
      "text/plain": [
       "'Hello, my ragtime gal!'"
      ]
     },
     "metadata": {},
     "output_type": "display_data"
    }
   ],
   "source": [
    "display(\"Hello, my baby!\")\n",
    "display(\"Hello, my honey!\")\n",
    "display(\"Hello, my ragtime gal!\")"
   ]
  },
  {
   "cell_type": "markdown",
   "metadata": {},
   "source": [
    "### How to Program Interactively"
   ]
  },
  {
   "cell_type": "markdown",
   "metadata": {},
   "source": [
    "Define a variable `my_integer` that is equal to 5."
   ]
  },
  {
   "cell_type": "code",
   "execution_count": 5,
   "metadata": {
    "nbgrader": {
     "grade": false,
     "grade_id": "cell-e0ebbeea81134135",
     "locked": false,
     "schema_version": 1,
     "solution": true
    }
   },
   "outputs": [],
   "source": [
    "my_integer = 5"
   ]
  },
  {
   "cell_type": "markdown",
   "metadata": {},
   "source": [
    "Note that in defining the variable, the value was not actually displayed. To reiterate, the only thing that will be implicictly displayed is the last value in a cell."
   ]
  },
  {
   "cell_type": "code",
   "execution_count": 6,
   "metadata": {},
   "outputs": [
    {
     "data": {
      "text/plain": [
       "5"
      ]
     },
     "execution_count": 6,
     "metadata": {},
     "output_type": "execute_result"
    }
   ],
   "source": [
    "my_integer"
   ]
  },
  {
   "cell_type": "markdown",
   "metadata": {},
   "source": [
    "Redefine `my_integer` to be equal to 23."
   ]
  },
  {
   "cell_type": "code",
   "execution_count": 7,
   "metadata": {
    "nbgrader": {
     "grade": false,
     "grade_id": "cell-6a26e69c2aaa66b0",
     "locked": false,
     "schema_version": 1,
     "solution": true
    }
   },
   "outputs": [],
   "source": [
    "my_integer = 23"
   ]
  },
  {
   "cell_type": "markdown",
   "metadata": {},
   "source": [
    "Once more display the result. "
   ]
  },
  {
   "cell_type": "code",
   "execution_count": 9,
   "metadata": {},
   "outputs": [
    {
     "data": {
      "text/plain": [
       "23"
      ]
     },
     "execution_count": 9,
     "metadata": {},
     "output_type": "execute_result"
    }
   ],
   "source": [
    "my_integer"
   ]
  },
  {
   "cell_type": "markdown",
   "metadata": {},
   "source": [
    "### Plotting a Strange Attractor\n",
    "\n",
    "This is not a very interesting use of interactive programming. \n",
    "\n",
    "https://en.wikipedia.org/wiki/Attractor#Strange_attractor"
   ]
  },
  {
   "cell_type": "code",
   "execution_count": null,
   "metadata": {},
   "outputs": [],
   "source": [
    "from scipy.integrate import odeint as odeint\n",
    "import matplotlib.pyplot as plt\n",
    "import numpy as np\n",
    "from mpl_toolkits.mplot3d import Axes3D"
   ]
  },
  {
   "cell_type": "code",
   "execution_count": null,
   "metadata": {},
   "outputs": [],
   "source": [
    "def create_attractor(sigma, beta, rho):\n",
    "    r0 = [0.,1.,0.]\n",
    "    t = np.linspace(0,50,50000)\n",
    "    \n",
    "    def lorenz_oscillator(r0, sigma=sigma, beta=beta, rho=rho):\n",
    "        x, y, z = r0\n",
    "        return [sigma*(y - x), rho*x - x*z - y, x*y - beta*z]\n",
    "\n",
    "    return odeint(lorenz_oscillator, r0, t)"
   ]
  },
  {
   "cell_type": "code",
   "execution_count": null,
   "metadata": {},
   "outputs": [],
   "source": [
    "fig = plt.figure(figsize=(20,6))\n",
    "fig.gca(projection='3d')\n",
    "\n",
    "X = create_attractor(10.0, 8./3., 5.0)\n",
    "plt.plot(X[:,0],X[:,1], X[:,2], label='lorenz oscillator')\n",
    "plt.legend()"
   ]
  },
  {
   "cell_type": "code",
   "execution_count": null,
   "metadata": {},
   "outputs": [],
   "source": [
    "fig = plt.figure(figsize=(20,6))\n",
    "fig.gca(projection='3d')\n",
    "\n",
    "X = create_attractor(10.0, 8./3., 10.0)\n",
    "plt.plot(X[:,0],X[:,1], X[:,2], label='lorenz oscillator')\n",
    "plt.legend()"
   ]
  },
  {
   "cell_type": "code",
   "execution_count": null,
   "metadata": {},
   "outputs": [],
   "source": [
    "fig = plt.figure(figsize=(20,6))\n",
    "fig.gca(projection='3d')\n",
    "\n",
    "X = create_attractor(10.0, 8./3., 15.0)\n",
    "plt.plot(X[:,0],X[:,1], X[:,2], label='lorenz oscillator')\n",
    "plt.legend()"
   ]
  },
  {
   "cell_type": "code",
   "execution_count": null,
   "metadata": {},
   "outputs": [],
   "source": [
    "fig = plt.figure(figsize=(20,6))\n",
    "fig.gca(projection='3d')\n",
    "\n",
    "X = create_attractor(10.0, 8./3., 32.0)\n",
    "plt.plot(X[:,0],X[:,1], X[:,2], label='lorenz oscillator')\n",
    "plt.legend()"
   ]
  },
  {
   "cell_type": "markdown",
   "metadata": {},
   "source": [
    "#### What do you think the `rho` parameter does?"
   ]
  },
  {
   "cell_type": "markdown",
   "metadata": {
    "nbgrader": {
     "grade": true,
     "grade_id": "cell-e921345ab95130d9",
     "locked": false,
     "points": 5,
     "schema_version": 1,
     "solution": true
    }
   },
   "source": []
  },
  {
   "cell_type": "markdown",
   "metadata": {},
   "source": [
    "## Python\n",
    "\n",
    "IPython magic are special commands that can be used to interact with your System.\n",
    "\n",
    "Enter the following into an IPython session:"
   ]
  },
  {
   "cell_type": "code",
   "execution_count": null,
   "metadata": {},
   "outputs": [],
   "source": [
    "(an_integer, \n",
    " a_list,\n",
    " a_dictionary,\n",
    " a_set,\n",
    " a_tuple) = 1, [1,2,3], {'k': 1}, {1,2,2,3}, (1,2)"
   ]
  },
  {
   "cell_type": "markdown",
   "metadata": {},
   "source": [
    "### Writing a Function\n",
    "\n",
    "Functions in python are written using the keyword `def`.\n",
    "\n",
    "    def function_name(arg1, arg2):\n",
    "        output_1 = do_something_with(arg1)\n",
    "        output_2 = do_something_with(arg2)\n",
    "        return "
   ]
  },
  {
   "cell_type": "code",
   "execution_count": null,
   "metadata": {},
   "outputs": [],
   "source": [
    "from sys import getsizeof\n",
    "\n",
    "def sizeof_and_value(variable):\n",
    "    return (getsizeof(variable), variable)"
   ]
  },
  {
   "cell_type": "code",
   "execution_count": null,
   "metadata": {},
   "outputs": [],
   "source": [
    "sizeof_and_value(an_integer)"
   ]
  },
  {
   "cell_type": "code",
   "execution_count": null,
   "metadata": {},
   "outputs": [],
   "source": [
    "sizeof_and_value(a_tuple)"
   ]
  },
  {
   "cell_type": "markdown",
   "metadata": {},
   "source": [
    "#### Write a Function\n",
    "\n",
    "Write a function named `type_and_value` that returns the value and the type of a variable that is passed to it.\n",
    "\n",
    "Use the block below to define the function. "
   ]
  },
  {
   "cell_type": "code",
   "execution_count": null,
   "metadata": {
    "nbgrader": {
     "grade": false,
     "grade_id": "cell-c48f82b1aae3c2f5",
     "locked": false,
     "schema_version": 1,
     "solution": true
    }
   },
   "outputs": [],
   "source": [
    "def type_and_value(var):\n",
    "    \"\"\"return the type and value of a variable.\n",
    "    \"\"\"\n",
    "    ### BEGIN SOLUTION\n",
    "    return type(var), var\n",
    "    ### END SOLUTION"
   ]
  },
  {
   "cell_type": "markdown",
   "metadata": {},
   "source": [
    "Make sure that your function can pass this test:"
   ]
  },
  {
   "cell_type": "code",
   "execution_count": null,
   "metadata": {
    "nbgrader": {
     "grade": true,
     "grade_id": "cell-80a7fd4b5e0528b5",
     "locked": true,
     "points": 2,
     "schema_version": 1,
     "solution": false
    }
   },
   "outputs": [],
   "source": [
    "assert type_and_value(an_integer) == (int, 1)\n",
    "\n",
    "### BEGIN HIDDEN TESTS\n",
    "assert type_and_value(an_integer) == (int, 1)\n",
    "assert type_and_value(a_list) == (list,[1,2,3])\n",
    "assert type_and_value(a_dictionary) == (dict,{'k': 1})\n",
    "assert type_and_value(a_set) == (set,{1,2,2,3})\n",
    "assert type_and_value(a_tuple) == (tuple,(1,2))\n",
    "### END HIDDEN TESTS"
   ]
  },
  {
   "cell_type": "markdown",
   "metadata": {},
   "source": [
    "### IPython Magic"
   ]
  },
  {
   "cell_type": "markdown",
   "metadata": {},
   "source": [
    "### `%whos`\n",
    "\n",
    "Prints a table with some basic details about each identifier you have defined interactively.\n"
   ]
  },
  {
   "cell_type": "code",
   "execution_count": null,
   "metadata": {},
   "outputs": [],
   "source": [
    "%whos "
   ]
  },
  {
   "cell_type": "markdown",
   "metadata": {},
   "source": [
    "### Bash in IPython\n",
    "\n",
    "Bash is a command line language used to interactive with an operating system.\n",
    "\n",
    "Some simple Bash commands can be run in IPython/Jupyter, including\n",
    "\n",
    "- `pwd`\n",
    "- `cd`\n",
    "- `ls`\n",
    "\n",
    "#### `pwd` - print working directory"
   ]
  },
  {
   "cell_type": "code",
   "execution_count": null,
   "metadata": {},
   "outputs": [],
   "source": [
    "%pwd"
   ]
  },
  {
   "cell_type": "markdown",
   "metadata": {},
   "source": [
    "#### `cd` - change directory"
   ]
  },
  {
   "cell_type": "code",
   "execution_count": null,
   "metadata": {},
   "outputs": [],
   "source": [
    "%cd src/"
   ]
  },
  {
   "cell_type": "code",
   "execution_count": null,
   "metadata": {},
   "outputs": [],
   "source": [
    "%pwd"
   ]
  },
  {
   "cell_type": "markdown",
   "metadata": {},
   "source": [
    "#### `ls` - list files"
   ]
  },
  {
   "cell_type": "code",
   "execution_count": null,
   "metadata": {},
   "outputs": [],
   "source": [
    "%ls"
   ]
  },
  {
   "cell_type": "code",
   "execution_count": null,
   "metadata": {
    "nbgrader": {
     "grade": true,
     "grade_id": "cell-6a5baeb91a451736",
     "locked": true,
     "points": 2,
     "schema_version": 1,
     "solution": false
    }
   },
   "outputs": [],
   "source": [
    "# HIDDEN TEST\n",
    "\n",
    "### BEGIN HIDDEN TESTS\n",
    "import os\n",
    "assert os.getcwd().split('/')[-1] == 'src'\n",
    "### END HIDDEN TESTS"
   ]
  },
  {
   "cell_type": "markdown",
   "metadata": {},
   "source": [
    "### IPython Magic commands\n",
    "\n",
    "There are many IPython magic commands, but some of the more useful are\n",
    "\n",
    "- `run`\n",
    "- `matplotlib inline`\n",
    "- `whos`\n"
   ]
  },
  {
   "cell_type": "code",
   "execution_count": null,
   "metadata": {},
   "outputs": [],
   "source": [
    "%run a_simple_script.py"
   ]
  },
  {
   "cell_type": "code",
   "execution_count": null,
   "metadata": {},
   "outputs": [],
   "source": [
    "%matplotlib inline"
   ]
  },
  {
   "cell_type": "code",
   "execution_count": null,
   "metadata": {
    "scrolled": true
   },
   "outputs": [],
   "source": [
    "%run a_simple_script.py"
   ]
  },
  {
   "cell_type": "markdown",
   "metadata": {},
   "source": [
    "#### Why didn't the image show up the first time?"
   ]
  },
  {
   "cell_type": "markdown",
   "metadata": {
    "nbgrader": {
     "grade": true,
     "grade_id": "cell-e3c4593b0ce6604d",
     "locked": false,
     "points": 3,
     "schema_version": 1,
     "solution": true
    }
   },
   "source": []
  },
  {
   "cell_type": "markdown",
   "metadata": {},
   "source": [
    "## The Python Numerical Stack"
   ]
  },
  {
   "cell_type": "markdown",
   "metadata": {},
   "source": [
    "Consists of:\n",
    "\n",
    "- numpy/scipy (vectors and computational mathematics)\n",
    "- pandas (dataframes)\n",
    "- matplotlib (plotting)\n",
    "- seaborn (statistical plotting)\n",
    "- scikit-learn (machine learning)"
   ]
  },
  {
   "cell_type": "code",
   "execution_count": null,
   "metadata": {},
   "outputs": [],
   "source": [
    "import matplotlib.pyplot as plt\n",
    "import numpy as np\n",
    "import pandas as pd\n",
    "import seaborn as sns\n",
    "\n",
    "%matplotlib inline"
   ]
  },
  {
   "cell_type": "markdown",
   "metadata": {},
   "source": [
    "**Note** We typically only import what we need from scikit-learn e.g."
   ]
  },
  {
   "cell_type": "code",
   "execution_count": null,
   "metadata": {},
   "outputs": [],
   "source": [
    "from sklearn.linear_model import LinearRegression"
   ]
  },
  {
   "cell_type": "markdown",
   "metadata": {},
   "source": [
    "#### Data Set Information:\n",
    "\n",
    "Features are computed from a digitized image of a fine needle aspirate (FNA) of a breast mass. They describe characteristics of the cell nuclei present in the image. A few of the images can be found at [Web Link] \n",
    "\n",
    "Separating plane described above was obtained using Multisurface Method-Tree (MSM-T) [K. P. Bennett, \"Decision Tree Construction Via Linear Programming.\" Proceedings of the 4th Midwest Artificial Intelligence and Cognitive Science Society, pp. 97-101, 1992], a classification method which uses linear programming to construct a decision tree. Relevant features were selected using an exhaustive search in the space of 1-4 features and 1-3 separating planes. \n",
    "\n",
    "The actual linear program used to obtain the separating plane in the 3-dimensional space is that described in: [K. P. Bennett and O. L. Mangasarian: \"Robust Linear Programming Discrimination of Two Linearly Inseparable Sets\", Optimization Methods and Software 1, 1992, 23-34]. \n",
    "\n",
    "This database is also available through the UW CS ftp server: \n",
    "ftp ftp.cs.wisc.edu \n",
    "cd math-prog/cpo-dataset/machine-learn/WDBC/\n",
    "\n"
   ]
  },
  {
   "cell_type": "markdown",
   "metadata": {},
   "source": [
    "> The Iris flower data set or Fisher's Iris data set is a multivariate data set introduced by the British statistician and biologist Ronald Fisher in his 1936 paper The use of multiple measurements in taxonomic problems as an example of linear discriminant analysis.\n",
    "          — [Wikipedia](https://en.wikipedia.org/wiki/Iris_flower_data_set)\n",
    "\n"
   ]
  },
  {
   "cell_type": "code",
   "execution_count": null,
   "metadata": {},
   "outputs": [],
   "source": [
    "seeds_data = pd.read_csv(\"https://archive.ics.uci.edu/ml/machine-learning-databases/00236/seeds_dataset.txt\",\n",
    "                      header=None, sep=\"\\s+\")\n",
    "seeds_data.columns = [\n",
    "\"area\",\n",
    "\"perimeter\",\n",
    "\"compactness\",\n",
    "\"length of kernel\",\n",
    "\"width of kernel \",\n",
    "\"asymmetry coefficient \",\n",
    "\"length of kernel groove\",\n",
    "\"Class\"\n",
    "]"
   ]
  },
  {
   "cell_type": "code",
   "execution_count": null,
   "metadata": {},
   "outputs": [],
   "source": [
    "seeds_data.shape"
   ]
  },
  {
   "cell_type": "markdown",
   "metadata": {},
   "source": [
    "#### What does `.shape` do?"
   ]
  },
  {
   "cell_type": "code",
   "execution_count": null,
   "metadata": {
    "nbgrader": {
     "grade": true,
     "grade_id": "cell-12f5b8407c965d99",
     "locked": false,
     "points": 5,
     "schema_version": 1,
     "solution": true
    }
   },
   "outputs": [],
   "source": []
  },
  {
   "cell_type": "markdown",
   "metadata": {},
   "source": [
    "### Dataframes\n",
    "\n",
    "We will have loaded the breast cancer data into a dataframe for ease of manipulation."
   ]
  },
  {
   "cell_type": "code",
   "execution_count": null,
   "metadata": {},
   "outputs": [],
   "source": [
    "seeds_data.head()"
   ]
  },
  {
   "cell_type": "markdown",
   "metadata": {},
   "source": [
    "\n",
    "### Pair Plot\n",
    "\n",
    "We will use Searborn to prepare a **Pair Plot** of the Iris dataset. A Pair Plot is an array of scatter plots, one for each pair of features in the data. Rather than plotting a feature against itself, the diagonal is rendered as a **probability distribution** of the given feature.\n"
   ]
  },
  {
   "cell_type": "code",
   "execution_count": null,
   "metadata": {
    "scrolled": false
   },
   "outputs": [],
   "source": [
    "sns.pairplot(seeds_data)"
   ]
  },
  {
   "cell_type": "markdown",
   "metadata": {},
   "source": [
    "\n",
    "### List Comprehension\n",
    "\n",
    "We will use a **list comprehension** to remove the units and white space from the feature names to make them more \"computer-friendly\".\n"
   ]
  },
  {
   "cell_type": "markdown",
   "metadata": {},
   "source": [
    "In general, list comprehensions have this form:\n",
    "\n",
    "```python\n",
    "lc = [do_something_to(var) for var in some_other_list]\n",
    "```\n"
   ]
  },
  {
   "cell_type": "code",
   "execution_count": null,
   "metadata": {},
   "outputs": [],
   "source": [
    "def square_number(x):\n",
    "    return x**2"
   ]
  },
  {
   "cell_type": "code",
   "execution_count": null,
   "metadata": {},
   "outputs": [],
   "source": [
    "[square_number(i) for i in (1,2,3,4,5)]"
   ]
  },
  {
   "cell_type": "markdown",
   "metadata": {},
   "source": [
    "#### Write your own list comprehension\n",
    "\n",
    "Write a function that uses a list comprehension to change this list\n",
    "\n",
    "    [1,2,3,4,5]\n",
    "    \n",
    "into this list\n",
    "\n",
    "    [2,3,4,5,6]"
   ]
  },
  {
   "cell_type": "code",
   "execution_count": null,
   "metadata": {
    "nbgrader": {
     "grade": false,
     "grade_id": "cell-2cdac04ef27891ff",
     "locked": false,
     "schema_version": 1,
     "solution": true
    }
   },
   "outputs": [],
   "source": [
    "def incr_list_by_1(lst):\n",
    "    \"\"\"returns a list where each value in the list has been incremented by one\"\"\"\n",
    "    \n",
    "    ### BEGIN SOLUTION\n",
    "    return [i+1 for i in lst]\n",
    "    ### END SOLUTUON"
   ]
  },
  {
   "cell_type": "code",
   "execution_count": null,
   "metadata": {
    "nbgrader": {
     "grade": true,
     "grade_id": "cell-efeded0deb1bb892",
     "locked": true,
     "points": 3,
     "schema_version": 1,
     "solution": false
    }
   },
   "outputs": [],
   "source": [
    "assert incr_list_by_1([1,2,3,4,5]) == [2,3,4,5,6]\n",
    "\n",
    "### BEGIN HIDDEN TESTS\n",
    "assert incr_list_by_1([1,2,3,4,5,1,2,3,4,5]) == [2,3,4,5,6,2,3,4,5,6]\n",
    "### END HIDDEN TESTS"
   ]
  },
  {
   "cell_type": "markdown",
   "metadata": {},
   "source": [
    "### Remove Unit and White Space from Feature Name"
   ]
  },
  {
   "cell_type": "markdown",
   "metadata": {},
   "source": [
    "Here we use a list comprehension to change the feature names:"
   ]
  },
  {
   "cell_type": "code",
   "execution_count": null,
   "metadata": {},
   "outputs": [],
   "source": [
    "seeds_data.columns"
   ]
  },
  {
   "cell_type": "code",
   "execution_count": null,
   "metadata": {},
   "outputs": [],
   "source": [
    "def remove_unit_and_white_space(feature_name):\n",
    "    feature_name = feature_name.replace(' (cm)','')\n",
    "    feature_name = feature_name.replace(' ', '_')\n",
    "    return feature_name"
   ]
  },
  {
   "cell_type": "code",
   "execution_count": null,
   "metadata": {},
   "outputs": [],
   "source": [
    "seeds_data_features_names = [remove_unit_and_white_space(name) for name in seeds_data.columns]"
   ]
  },
  {
   "cell_type": "code",
   "execution_count": null,
   "metadata": {},
   "outputs": [],
   "source": [
    "seeds_data_features_names"
   ]
  },
  {
   "cell_type": "code",
   "execution_count": null,
   "metadata": {},
   "outputs": [],
   "source": [
    "seeds_data.columns = seeds_data_features_names\n",
    "seeds_data.head()"
   ]
  },
  {
   "cell_type": "markdown",
   "metadata": {},
   "source": [
    "### Export to CSV\n",
    "\n",
    "Ultimately, we will export a CSV of the dataframe to disk. This will make it easy to access the same data from both Python and R.\n"
   ]
  },
  {
   "cell_type": "code",
   "execution_count": null,
   "metadata": {},
   "outputs": [],
   "source": [
    "%ls"
   ]
  },
  {
   "cell_type": "code",
   "execution_count": null,
   "metadata": {},
   "outputs": [],
   "source": [
    "%mkdir -p data"
   ]
  },
  {
   "cell_type": "code",
   "execution_count": null,
   "metadata": {},
   "outputs": [],
   "source": [
    "%ls"
   ]
  },
  {
   "cell_type": "code",
   "execution_count": null,
   "metadata": {},
   "outputs": [],
   "source": [
    "bc_data.to_csv('data/seeds_data.csv')"
   ]
  },
  {
   "cell_type": "markdown",
   "metadata": {},
   "source": [
    "## Prediction\n",
    "\n",
    "### Why estimate $f$?"
   ]
  },
  {
   "cell_type": "markdown",
   "metadata": {},
   "source": [
    "We can think of a given dataset upon which we are working as a representation of some actual phenomenon. We can imagine there to be some sort of \"universal\" function, $f$, that was used to generate the data, one that we can never truly know.\n",
    "\n",
    "As data scientists, we will seek to estimate this function. We will call our estimate $\\hat{f}$ (\"eff hat\")."
   ]
  },
  {
   "cell_type": "markdown",
   "metadata": {},
   "source": [
    "There are two main reasons we might want to estimate $f$ with $\\hat{f}$:\n",
    "\n",
    "- prediction\n",
    "   - given some set of known inputs and known outputs, we may wish to create some function that can take a new set of inputs and predict what the output would be for these inputs\n",
    "- inference\n",
    "   - given some set of known inputs and (optionally) known outputs, we may wish to understand how the inputs (and outputs) interact with each other"
   ]
  },
  {
   "cell_type": "code",
   "execution_count": null,
   "metadata": {
    "scrolled": true
   },
   "outputs": [],
   "source": [
    "%pwd"
   ]
  },
  {
   "cell_type": "markdown",
   "metadata": {},
   "source": [
    "#### What does `pwd` tell us? What does this mean in the context of a Jupyter Notebook? Why would it be important to think about this before we load a csv file?"
   ]
  },
  {
   "cell_type": "markdown",
   "metadata": {
    "nbgrader": {
     "grade": true,
     "grade_id": "cell-d65bbbb437ef9f9c",
     "locked": false,
     "points": 5,
     "schema_version": 1,
     "solution": true
    }
   },
   "source": []
  },
  {
   "cell_type": "code",
   "execution_count": null,
   "metadata": {},
   "outputs": [],
   "source": [
    "%ls"
   ]
  },
  {
   "cell_type": "code",
   "execution_count": null,
   "metadata": {},
   "outputs": [],
   "source": [
    "seeds_data.describe()"
   ]
  },
  {
   "cell_type": "code",
   "execution_count": null,
   "metadata": {},
   "outputs": [],
   "source": [
    "plt.figure(1, (20,10))\n",
    "\n",
    "sns.pairplot(seeds_data)"
   ]
  },
  {
   "cell_type": "markdown",
   "metadata": {},
   "source": [
    "Having a look at the pair plot, we might say that we are able to the uniformity of cell shape using the uniformity of cell size."
   ]
  },
  {
   "cell_type": "code",
   "execution_count": null,
   "metadata": {},
   "outputs": [],
   "source": [
    "plt.figure(1, (20,5))\n",
    "\n",
    "sns.regplot('area','perimeter', data=seeds_data)"
   ]
  },
  {
   "cell_type": "markdown",
   "metadata": {},
   "source": [
    "### Linear Regression\n",
    "\n",
    "We might build a **simple regression model** to do this for us using scikit-learn. Here, the **input variable** would be `petal length` and the **output variable** would be `petal width`.\n",
    "\n",
    "We will usually refer to our input variable(s) as **feature(s)** and our output variable as the **target**."
   ]
  },
  {
   "cell_type": "markdown",
   "metadata": {},
   "source": [
    "### Build a Simple Regression Model"
   ]
  },
  {
   "cell_type": "code",
   "execution_count": null,
   "metadata": {},
   "outputs": [],
   "source": [
    "from patsy import dmatrices\n",
    "\n",
    "target, features = dmatrices(\"perimeter ~ area\", seeds_data)"
   ]
  },
  {
   "cell_type": "code",
   "execution_count": null,
   "metadata": {},
   "outputs": [],
   "source": [
    "from sklearn.linear_model import LinearRegression"
   ]
  },
  {
   "cell_type": "code",
   "execution_count": null,
   "metadata": {},
   "outputs": [],
   "source": [
    "linear_regression_model = LinearRegression()\n",
    "linear_regression_model.fit(features, target)"
   ]
  },
  {
   "cell_type": "markdown",
   "metadata": {},
   "source": [
    "### Plot the Results\n",
    "\n",
    "Having prepared the regression model, we use it to make predictions.\n",
    "\n",
    "We then plot the predictions versus the actual values.\n"
   ]
  },
  {
   "cell_type": "code",
   "execution_count": null,
   "metadata": {},
   "outputs": [],
   "source": [
    "plt.figure(1, (20,5))\n",
    "\n",
    "sns.regplot('area','perimeter', data=seeds_data)\n",
    "\n",
    "predictions = linear_regression_model.predict(features)\n",
    "plt.scatter(seeds_data.area, predictions, marker='x', color='red')"
   ]
  },
  {
   "cell_type": "markdown",
   "metadata": {},
   "source": [
    "#### What does this plot show us? "
   ]
  },
  {
   "cell_type": "markdown",
   "metadata": {
    "nbgrader": {
     "grade": true,
     "grade_id": "cell-d30ffa4bbb1341c3",
     "locked": false,
     "points": 4,
     "schema_version": 1,
     "solution": true
    }
   },
   "source": []
  },
  {
   "cell_type": "markdown",
   "metadata": {},
   "source": [
    "## The Train-Test Split"
   ]
  },
  {
   "cell_type": "markdown",
   "metadata": {},
   "source": [
    "What if we wish to know how well petal width can be predicted for unseen data?\n",
    "\n",
    "![](doc/img/ttspl.png)"
   ]
  },
  {
   "cell_type": "markdown",
   "metadata": {},
   "source": [
    "### Overfitting and Underfitting\n",
    "\n",
    "When fitting a model for making predictions, a model is only as good as its ability to work on unseen data. A model that does not learn the underlying patterns in the data is said to be **underfit**. A model that learns that underlying patterns in the data too well is said to be **overfit**."
   ]
  },
  {
   "cell_type": "markdown",
   "metadata": {},
   "source": [
    "### Learning Too Well is a Problem!?\n",
    "\n",
    "It may seem odd to think of a model that has learned to well as being bad in some way, but recall that we are looking to make predictions with new input data. A model that is overfit will have learned the patterns in its **training** data, but will also have learned the noise inherent to this data. New input data will have completely different noise *by definition*. A model that is overfit will be poor at generalization and will not perform well on data it has never seen."
   ]
  },
  {
   "cell_type": "markdown",
   "metadata": {},
   "source": [
    "### The Train-Test Split\n",
    "\n",
    "Of course, we will not have access to the new data we will use at the time of fitting the model. We will have to simulate new data in some way. We do this, by creating **test** data using some fraction of the original data we started with.\n"
   ]
  },
  {
   "cell_type": "code",
   "execution_count": null,
   "metadata": {},
   "outputs": [],
   "source": [
    "from sklearn.model_selection import train_test_split"
   ]
  },
  {
   "cell_type": "code",
   "execution_count": null,
   "metadata": {},
   "outputs": [],
   "source": [
    "target, features = dmatrices(\"perimeter ~ area\", seeds_data)"
   ]
  },
  {
   "cell_type": "markdown",
   "metadata": {},
   "source": [
    "Of course, we will not have access to the new data we will use at the time of fitting the model. We will have to simulate new data in some way. We do this, by creating **test** data using some fraction of the original data we started with."
   ]
  },
  {
   "cell_type": "code",
   "execution_count": null,
   "metadata": {},
   "outputs": [],
   "source": [
    "(features_train,\n",
    " features_test,\n",
    " target_train,\n",
    " target_test) = train_test_split(features, target, random_state=42) "
   ]
  },
  {
   "cell_type": "code",
   "execution_count": null,
   "metadata": {},
   "outputs": [],
   "source": [
    "(features_train.shape,\n",
    " target_train.shape,\n",
    " features_test.shape,\n",
    " target_test.shape)"
   ]
  },
  {
   "cell_type": "code",
   "execution_count": null,
   "metadata": {},
   "outputs": [],
   "source": [
    "features_test[:5]"
   ]
  },
  {
   "cell_type": "code",
   "execution_count": null,
   "metadata": {},
   "outputs": [],
   "source": [
    "linear_regression_model = LinearRegression(fit_intercept=False)\n",
    "\n",
    "linear_regression_model.fit(features_train, target_train)\n",
    "\n",
    "petal_width_prediction_1_var = (linear_regression_model\n",
    "                                .predict(features_test))"
   ]
  },
  {
   "cell_type": "markdown",
   "metadata": {},
   "source": [
    "## Inference\n",
    "\n",
    "### Why estimate $f$? \n",
    "\n",
    "Note that the next few cells are executed using R.\n",
    "\n",
    "There are two mean reasons we might want to estimate $f$ with $\\hat{f}$:\n",
    "\n",
    "- prediction\n",
    "   - given some set of known inputs and known outputs, we may wish to create some function that can take a new set of inputs and predict what the output would be for these inputs\n",
    "- inference\n",
    "   - given some set of known inputs and (optionally) known outputs, we may wish to understand how the inputs (and outputs) interact with each other\n"
   ]
  },
  {
   "cell_type": "code",
   "execution_count": null,
   "metadata": {
    "scrolled": true
   },
   "outputs": [],
   "source": [
    "plt.figure(1, (20,5))\n",
    "\n",
    "plt.scatter(features_test[:, 1], target_test, \n",
    "            marker='o', color='blue', alpha=0.5, \n",
    "            label='actual test values')\n",
    "plt.scatter(features_test[:, 1], petal_width_prediction_1_var,\n",
    "            marker='x', color='red', alpha=0.5, \n",
    "            label='predicted test values - 1 variable')\n",
    "plt.legend()"
   ]
  },
  {
   "cell_type": "markdown",
   "metadata": {},
   "source": [
    "#### Explain why we use the train-test split in the context of overfitting and underfitting."
   ]
  },
  {
   "cell_type": "markdown",
   "metadata": {
    "nbgrader": {
     "grade": true,
     "grade_id": "cell-e2359df9b2ad80fa",
     "locked": false,
     "points": 10,
     "schema_version": 1,
     "solution": true
    }
   },
   "source": []
  },
  {
   "cell_type": "code",
   "execution_count": null,
   "metadata": {},
   "outputs": [],
   "source": [
    "seeds.data = read.csv('data/seeds_data.csv', row.names=1)"
   ]
  },
  {
   "cell_type": "markdown",
   "metadata": {},
   "source": [
    "#### Sanity Check"
   ]
  },
  {
   "cell_type": "code",
   "execution_count": null,
   "metadata": {},
   "outputs": [],
   "source": [
    "head(seeds.data)"
   ]
  },
  {
   "cell_type": "code",
   "execution_count": null,
   "metadata": {
    "scrolled": true
   },
   "outputs": [],
   "source": [
    "summary(seeds.data)"
   ]
  },
  {
   "cell_type": "code",
   "execution_count": null,
   "metadata": {},
   "outputs": [],
   "source": [
    "library(repr)"
   ]
  },
  {
   "cell_type": "code",
   "execution_count": null,
   "metadata": {},
   "outputs": [],
   "source": [
    "options(repr.plot.width=20, repr.plot.height=10)"
   ]
  },
  {
   "cell_type": "code",
   "execution_count": null,
   "metadata": {},
   "outputs": [],
   "source": [
    "pairs(seeds.data)"
   ]
  },
  {
   "cell_type": "code",
   "execution_count": null,
   "metadata": {},
   "outputs": [],
   "source": [
    "library(ggplot2)"
   ]
  },
  {
   "cell_type": "code",
   "execution_count": null,
   "metadata": {},
   "outputs": [],
   "source": [
    "options(repr.plot.width=20, repr.plot.height=5)\n",
    "\n",
    "ggplot(seeds.data, aes(length.of.kernel, length.of.kernel.groove)) +\n",
    "  geom_point() + \n",
    "  geom_smooth(method='lm')"
   ]
  },
  {
   "cell_type": "markdown",
   "metadata": {},
   "source": [
    "### Build a Simple Regression Model"
   ]
  },
  {
   "cell_type": "markdown",
   "metadata": {},
   "source": [
    "Armed with this information we might say that we are able to predict petal width if we know petal length. We might build a **simple regression model** to do this for us using scikit-learn. Here, the **input variable** would be `petal length` and the **output variable** would be `petal width`.\n",
    "\n",
    "We will usually refer to our input variable(s) as **feature(s)** and our output variable as the **target**."
   ]
  },
  {
   "cell_type": "code",
   "execution_count": null,
   "metadata": {},
   "outputs": [],
   "source": [
    "lm_1_var = lm('length.of.kernel.groove ~ length.of.kernel', seeds.data)\n",
    "lm_1_var"
   ]
  },
  {
   "cell_type": "code",
   "execution_count": null,
   "metadata": {},
   "outputs": [],
   "source": [
    "lm('length.of.kernel.groove ~ .', seeds.data)"
   ]
  },
  {
   "cell_type": "markdown",
   "metadata": {},
   "source": [
    "#### What can be inferred from the coefficients?\n",
    "\n",
    "- Which predictors are associated with the response?\n",
    "- What is the relationship between the response and each predictor?\n",
    "- Can the relationship between Y and each predictor be adequately summarized using a linear equation, or is the relationship more complicated?"
   ]
  },
  {
   "cell_type": "markdown",
   "metadata": {
    "nbgrader": {
     "grade": true,
     "grade_id": "cell-c2d2dc32aceb38dd",
     "locked": false,
     "points": 10,
     "schema_version": 1,
     "solution": true
    }
   },
   "source": []
  }
 ],
 "metadata": {
  "celltoolbar": "Edit Metadata",
  "kernelspec": {
   "display_name": "Python 3",
   "language": "python",
   "name": "python3"
  },
  "language_info": {
   "codemirror_mode": {
    "name": "ipython",
    "version": 3
   },
   "file_extension": ".py",
   "mimetype": "text/x-python",
   "name": "python",
   "nbconvert_exporter": "python",
   "pygments_lexer": "ipython3",
   "version": "3.6.5"
  },
  "latex_metadata": {
   "title": "Introduction to Data Science"
  }
 },
 "nbformat": 4,
 "nbformat_minor": 2
}
