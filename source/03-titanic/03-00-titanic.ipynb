{
 "cells": [
  {
   "cell_type": "markdown",
   "metadata": {},
   "source": [
    "# The Titanic Data Set\n",
    "\n",
    "Next, we will use one of the most famous data sets to begin to learn about exploratory data analysis and visualization. First, we define the task in terms of a well-defined problem statement."
   ]
  },
  {
   "cell_type": "markdown",
   "metadata": {},
   "source": [
    "**Domain** This is an introductory data set considered the \"hello world\" of data science. It is an ongoing competition on [Kaggle](https://www.kaggle.com/c/titanic) allowing students of data science to prepare a model and make a submission to a competition while they are still learning the subject. \n",
    "\n",
    "**Problem** This is a binary classification problem in which the challenge is to predict whether a passenger survived the sinking of the Titanic given the demographic data of the passengers. Here, the task $T$ is a binary classification and the experience $E$ is the list of passengers and their survival outcome. The machine learning challenge is to learn to perform this task using this experience.\n",
    "\n",
    "**Solution** To solve this problem, we will programmatically generate a vector of integers using filtering and masking. This could be thought of as a kind of proto-decision tree.\n",
    "\n",
    "**Data** A preliminary analysis of the data shows the following:\n",
    "\n",
    "- there are 891 rows and 10 useful variable columns in the dataset. One of these columns is the target `Survived`. An 11th and 12th column are a unique id for each passenger and the name of each passenger, respectively, and have no predictive power.\n",
    "- there are four integer value columns:\n",
    "   - `Survived`\n",
    "   - `Pclass`\n",
    "   - `SibSp`\n",
    "   - `Parch`\n",
    "- there are two numerical value columns:\n",
    "   - `Age`\n",
    "   - `Fare`\n",
    "- there are five factor columns:\n",
    "   - `Sex`\n",
    "   - `Ticket`\n",
    "   - `Cabin`\n",
    "   - `Embarked`\n",
    "- The following are the summary statistics of the data:\n",
    "\n",
    "   ```\n",
    "      Survived   |   Pclass    |   Sex      |    Age      |     SibSp   |    Parch     |       Fare         \n",
    "    Min. :0.0000 | Min. :1.000 | female:314 | Min. : 0.42 | Min. :0.000 | Min. :0.0000 | Min. :  0.00 \n",
    "    Mean :0.3838 | Mean :2.309 | male  :577 | Mean :29.70 | Mean :0.523 | Mean :0.3816 | Mean : 32.20 \n",
    "    Max. :1.0000 | Max. :3.000 |            | Max. :80.00 | Max. :8.000 | Max. :6.0000 | Max. :512.33 \n",
    "                 |             |            | NA's   :177 |  \n",
    "   ```                     \n",
    "\n",
    "**Benchmark** We will use a naive guess based on the most common class as a benchmark. 61.6% of passengers did not survive. We will guess for our benchmark that there were no survivors.\n",
    "\n",
    "**Metrics** As this is an beginning exercise, we will use the accuracy."
   ]
  }
 ],
 "metadata": {
  "celltoolbar": "Create Assignment",
  "kernelspec": {
   "display_name": "R",
   "language": "R",
   "name": "ir"
  },
  "language_info": {
   "codemirror_mode": "r",
   "file_extension": ".r",
   "mimetype": "text/x-r-source",
   "name": "R",
   "pygments_lexer": "r",
   "version": "3.4.1"
  }
 },
 "nbformat": 4,
 "nbformat_minor": 2
}
