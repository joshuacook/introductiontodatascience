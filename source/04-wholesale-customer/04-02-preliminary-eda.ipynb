{
 "cells": [
  {
   "cell_type": "markdown",
   "metadata": {},
   "source": [
    "## Preliminary EDA"
   ]
  },
  {
   "cell_type": "code",
   "execution_count": 1,
   "metadata": {},
   "outputs": [],
   "source": [
    "customers <- read.table('Wholesale_customers_data.csv', sep=\",\", header = T)"
   ]
  },
  {
   "cell_type": "code",
   "execution_count": 2,
   "metadata": {},
   "outputs": [
    {
     "data": {
      "text/html": [
       "<table>\n",
       "<thead><tr><th scope=col>Channel</th><th scope=col>Region</th><th scope=col>Fresh</th><th scope=col>Milk</th><th scope=col>Grocery</th><th scope=col>Frozen</th><th scope=col>Detergents_Paper</th><th scope=col>Delicatessen</th></tr></thead>\n",
       "<tbody>\n",
       "\t<tr><td>2    </td><td>3    </td><td>12669</td><td>9656 </td><td>7561 </td><td> 214 </td><td>2674 </td><td>1338 </td></tr>\n",
       "\t<tr><td>2    </td><td>3    </td><td> 7057</td><td>9810 </td><td>9568 </td><td>1762 </td><td>3293 </td><td>1776 </td></tr>\n",
       "\t<tr><td>2    </td><td>3    </td><td> 6353</td><td>8808 </td><td>7684 </td><td>2405 </td><td>3516 </td><td>7844 </td></tr>\n",
       "\t<tr><td>1    </td><td>3    </td><td>13265</td><td>1196 </td><td>4221 </td><td>6404 </td><td> 507 </td><td>1788 </td></tr>\n",
       "\t<tr><td>2    </td><td>3    </td><td>22615</td><td>5410 </td><td>7198 </td><td>3915 </td><td>1777 </td><td>5185 </td></tr>\n",
       "\t<tr><td>2    </td><td>3    </td><td> 9413</td><td>8259 </td><td>5126 </td><td> 666 </td><td>1795 </td><td>1451 </td></tr>\n",
       "</tbody>\n",
       "</table>\n"
      ],
      "text/latex": [
       "\\begin{tabular}{r|llllllll}\n",
       " Channel & Region & Fresh & Milk & Grocery & Frozen & Detergents\\_Paper & Delicatessen\\\\\n",
       "\\hline\n",
       "\t 2     & 3     & 12669 & 9656  & 7561  &  214  & 2674  & 1338 \\\\\n",
       "\t 2     & 3     &  7057 & 9810  & 9568  & 1762  & 3293  & 1776 \\\\\n",
       "\t 2     & 3     &  6353 & 8808  & 7684  & 2405  & 3516  & 7844 \\\\\n",
       "\t 1     & 3     & 13265 & 1196  & 4221  & 6404  &  507  & 1788 \\\\\n",
       "\t 2     & 3     & 22615 & 5410  & 7198  & 3915  & 1777  & 5185 \\\\\n",
       "\t 2     & 3     &  9413 & 8259  & 5126  &  666  & 1795  & 1451 \\\\\n",
       "\\end{tabular}\n"
      ],
      "text/markdown": [
       "\n",
       "Channel | Region | Fresh | Milk | Grocery | Frozen | Detergents_Paper | Delicatessen | \n",
       "|---|---|---|---|---|---|\n",
       "| 2     | 3     | 12669 | 9656  | 7561  |  214  | 2674  | 1338  | \n",
       "| 2     | 3     |  7057 | 9810  | 9568  | 1762  | 3293  | 1776  | \n",
       "| 2     | 3     |  6353 | 8808  | 7684  | 2405  | 3516  | 7844  | \n",
       "| 1     | 3     | 13265 | 1196  | 4221  | 6404  |  507  | 1788  | \n",
       "| 2     | 3     | 22615 | 5410  | 7198  | 3915  | 1777  | 5185  | \n",
       "| 2     | 3     |  9413 | 8259  | 5126  |  666  | 1795  | 1451  | \n",
       "\n",
       "\n"
      ],
      "text/plain": [
       "  Channel Region Fresh Milk Grocery Frozen Detergents_Paper Delicatessen\n",
       "1 2       3      12669 9656 7561     214   2674             1338        \n",
       "2 2       3       7057 9810 9568    1762   3293             1776        \n",
       "3 2       3       6353 8808 7684    2405   3516             7844        \n",
       "4 1       3      13265 1196 4221    6404    507             1788        \n",
       "5 2       3      22615 5410 7198    3915   1777             5185        \n",
       "6 2       3       9413 8259 5126     666   1795             1451        "
      ]
     },
     "metadata": {},
     "output_type": "display_data"
    }
   ],
   "source": [
    "head(customers)"
   ]
  },
  {
   "cell_type": "code",
   "execution_count": 3,
   "metadata": {},
   "outputs": [
    {
     "data": {
      "text/html": [
       "<ol class=list-inline>\n",
       "\t<li>440</li>\n",
       "\t<li>8</li>\n",
       "</ol>\n"
      ],
      "text/latex": [
       "\\begin{enumerate*}\n",
       "\\item 440\n",
       "\\item 8\n",
       "\\end{enumerate*}\n"
      ],
      "text/markdown": [
       "1. 440\n",
       "2. 8\n",
       "\n",
       "\n"
      ],
      "text/plain": [
       "[1] 440   8"
      ]
     },
     "metadata": {},
     "output_type": "display_data"
    },
    {
     "name": "stdout",
     "output_type": "stream",
     "text": [
      "'data.frame':\t440 obs. of  8 variables:\n",
      " $ Channel         : int  2 2 2 1 2 2 2 2 1 2 ...\n",
      " $ Region          : int  3 3 3 3 3 3 3 3 3 3 ...\n",
      " $ Fresh           : int  12669 7057 6353 13265 22615 9413 12126 7579 5963 6006 ...\n",
      " $ Milk            : int  9656 9810 8808 1196 5410 8259 3199 4956 3648 11093 ...\n",
      " $ Grocery         : int  7561 9568 7684 4221 7198 5126 6975 9426 6192 18881 ...\n",
      " $ Frozen          : int  214 1762 2405 6404 3915 666 480 1669 425 1159 ...\n",
      " $ Detergents_Paper: int  2674 3293 3516 507 1777 1795 3140 3321 1716 7425 ...\n",
      " $ Delicatessen    : int  1338 1776 7844 1788 5185 1451 545 2566 750 2098 ...\n"
     ]
    }
   ],
   "source": [
    "dim(customers); str(customers)"
   ]
  },
  {
   "cell_type": "code",
   "execution_count": 4,
   "metadata": {},
   "outputs": [],
   "source": [
    "customers$Channel = factor(customers$Channel)\n",
    "customers$Region = factor(customers$Region)"
   ]
  },
  {
   "cell_type": "code",
   "execution_count": 5,
   "metadata": {},
   "outputs": [
    {
     "name": "stdout",
     "output_type": "stream",
     "text": [
      "'data.frame':\t440 obs. of  8 variables:\n",
      " $ Channel         : Factor w/ 2 levels \"1\",\"2\": 2 2 2 1 2 2 2 2 1 2 ...\n",
      " $ Region          : Factor w/ 3 levels \"1\",\"2\",\"3\": 3 3 3 3 3 3 3 3 3 3 ...\n",
      " $ Fresh           : int  12669 7057 6353 13265 22615 9413 12126 7579 5963 6006 ...\n",
      " $ Milk            : int  9656 9810 8808 1196 5410 8259 3199 4956 3648 11093 ...\n",
      " $ Grocery         : int  7561 9568 7684 4221 7198 5126 6975 9426 6192 18881 ...\n",
      " $ Frozen          : int  214 1762 2405 6404 3915 666 480 1669 425 1159 ...\n",
      " $ Detergents_Paper: int  2674 3293 3516 507 1777 1795 3140 3321 1716 7425 ...\n",
      " $ Delicatessen    : int  1338 1776 7844 1788 5185 1451 545 2566 750 2098 ...\n"
     ]
    }
   ],
   "source": [
    "str(customers)"
   ]
  },
  {
   "cell_type": "code",
   "execution_count": 6,
   "metadata": {},
   "outputs": [
    {
     "data": {
      "text/plain": [
       " Channel Region      Fresh             Milk          Grocery     \n",
       " 1:298   1: 77   Min.   :     3   Min.   :   55   Min.   :    3  \n",
       " 2:142   2: 47   1st Qu.:  3128   1st Qu.: 1533   1st Qu.: 2153  \n",
       "         3:316   Median :  8504   Median : 3627   Median : 4756  \n",
       "                 Mean   : 12000   Mean   : 5796   Mean   : 7951  \n",
       "                 3rd Qu.: 16934   3rd Qu.: 7190   3rd Qu.:10656  \n",
       "                 Max.   :112151   Max.   :73498   Max.   :92780  \n",
       "     Frozen        Detergents_Paper   Delicatessen    \n",
       " Min.   :   25.0   Min.   :    3.0   Min.   :    3.0  \n",
       " 1st Qu.:  742.2   1st Qu.:  256.8   1st Qu.:  408.2  \n",
       " Median : 1526.0   Median :  816.5   Median :  965.5  \n",
       " Mean   : 3071.9   Mean   : 2881.5   Mean   : 1524.9  \n",
       " 3rd Qu.: 3554.2   3rd Qu.: 3922.0   3rd Qu.: 1820.2  \n",
       " Max.   :60869.0   Max.   :40827.0   Max.   :47943.0  "
      ]
     },
     "metadata": {},
     "output_type": "display_data"
    }
   ],
   "source": [
    "cust_sum = summary(customers)\n",
    "cust_sum"
   ]
  },
  {
   "cell_type": "code",
   "execution_count": 7,
   "metadata": {},
   "outputs": [
    {
     "data": {
      "text/plain": [
       "   \n",
       "      1   2   3\n",
       "  1  59  28 211\n",
       "  2  18  19 105"
      ]
     },
     "metadata": {},
     "output_type": "display_data"
    }
   ],
   "source": [
    "table(customers$Channel, customers$Region)"
   ]
  },
  {
   "cell_type": "code",
   "execution_count": 8,
   "metadata": {},
   "outputs": [],
   "source": [
    "customer_features = Filter(is.numeric, customers)"
   ]
  },
  {
   "cell_type": "code",
   "execution_count": 9,
   "metadata": {},
   "outputs": [],
   "source": [
    "library(repr)\n",
    "options(repr.plot.width=20, repr.plot.height=6)"
   ]
  },
  {
   "cell_type": "code",
   "execution_count": 10,
   "metadata": {},
   "outputs": [
    {
     "data": {
      "text/html": [
       "<table>\n",
       "<thead><tr><th scope=col>feature</th><th scope=col>mean_</th><th scope=col>median_</th><th scope=col>sd_</th></tr></thead>\n",
       "<tbody>\n",
       "\t<tr><td>Fresh           </td><td>12000.298       </td><td>8504.0          </td><td>12647.329       </td></tr>\n",
       "\t<tr><td>Milk            </td><td> 5796.266       </td><td>3627.0          </td><td> 7380.377       </td></tr>\n",
       "\t<tr><td>Grocery         </td><td> 7951.277       </td><td>4755.5          </td><td> 9503.163       </td></tr>\n",
       "\t<tr><td>Frozen          </td><td> 3071.932       </td><td>1526.0          </td><td> 4854.673       </td></tr>\n",
       "\t<tr><td>Detergents_Paper</td><td> 2881.493       </td><td> 816.5          </td><td> 4767.854       </td></tr>\n",
       "\t<tr><td>Delicatessen    </td><td> 1524.870       </td><td> 965.5          </td><td> 2820.106       </td></tr>\n",
       "</tbody>\n",
       "</table>\n"
      ],
      "text/latex": [
       "\\begin{tabular}{r|llll}\n",
       " feature & mean\\_ & median\\_ & sd\\_\\\\\n",
       "\\hline\n",
       "\t Fresh            & 12000.298        & 8504.0           & 12647.329       \\\\\n",
       "\t Milk             &  5796.266        & 3627.0           &  7380.377       \\\\\n",
       "\t Grocery          &  7951.277        & 4755.5           &  9503.163       \\\\\n",
       "\t Frozen           &  3071.932        & 1526.0           &  4854.673       \\\\\n",
       "\t Detergents\\_Paper &  2881.493          &  816.5             &  4767.854         \\\\\n",
       "\t Delicatessen     &  1524.870        &  965.5           &  2820.106       \\\\\n",
       "\\end{tabular}\n"
      ],
      "text/markdown": [
       "\n",
       "feature | mean_ | median_ | sd_ | \n",
       "|---|---|---|---|---|---|\n",
       "| Fresh            | 12000.298        | 8504.0           | 12647.329        | \n",
       "| Milk             |  5796.266        | 3627.0           |  7380.377        | \n",
       "| Grocery          |  7951.277        | 4755.5           |  9503.163        | \n",
       "| Frozen           |  3071.932        | 1526.0           |  4854.673        | \n",
       "| Detergents_Paper |  2881.493        |  816.5           |  4767.854        | \n",
       "| Delicatessen     |  1524.870        |  965.5           |  2820.106        | \n",
       "\n",
       "\n"
      ],
      "text/plain": [
       "  feature          mean_     median_ sd_      \n",
       "1 Fresh            12000.298 8504.0  12647.329\n",
       "2 Milk              5796.266 3627.0   7380.377\n",
       "3 Grocery           7951.277 4755.5   9503.163\n",
       "4 Frozen            3071.932 1526.0   4854.673\n",
       "5 Detergents_Paper  2881.493  816.5   4767.854\n",
       "6 Delicatessen      1524.870  965.5   2820.106"
      ]
     },
     "metadata": {},
     "output_type": "display_data"
    }
   ],
   "source": [
    "sum_vals = data.frame(feature=colnames(customer_features))\n",
    "sum_vals['mean_'] = sapply(customer_features, mean)\n",
    "sum_vals['median_'] = sapply(customer_features, median)\n",
    "sum_vals['sd_'] = sapply(customer_features, sd)\n",
    "sum_vals"
   ]
  },
  {
   "cell_type": "code",
   "execution_count": 11,
   "metadata": {},
   "outputs": [],
   "source": [
    "library(reshape2)"
   ]
  },
  {
   "cell_type": "code",
   "execution_count": 12,
   "metadata": {},
   "outputs": [
    {
     "name": "stderr",
     "output_type": "stream",
     "text": [
      "Using feature as id variables\n"
     ]
    },
    {
     "data": {
      "text/html": [
       "<table>\n",
       "<thead><tr><th scope=col>feature</th><th scope=col>variable</th><th scope=col>value</th></tr></thead>\n",
       "<tbody>\n",
       "\t<tr><td>Fresh           </td><td>mean_           </td><td>12000.298       </td></tr>\n",
       "\t<tr><td>Milk            </td><td>mean_           </td><td> 5796.266       </td></tr>\n",
       "\t<tr><td>Grocery         </td><td>mean_           </td><td> 7951.277       </td></tr>\n",
       "\t<tr><td>Frozen          </td><td>mean_           </td><td> 3071.932       </td></tr>\n",
       "\t<tr><td>Detergents_Paper</td><td>mean_           </td><td> 2881.493       </td></tr>\n",
       "\t<tr><td>Delicatessen    </td><td>mean_           </td><td> 1524.870       </td></tr>\n",
       "\t<tr><td>Fresh           </td><td>median_         </td><td> 8504.000       </td></tr>\n",
       "\t<tr><td>Milk            </td><td>median_         </td><td> 3627.000       </td></tr>\n",
       "\t<tr><td>Grocery         </td><td>median_         </td><td> 4755.500       </td></tr>\n",
       "\t<tr><td>Frozen          </td><td>median_         </td><td> 1526.000       </td></tr>\n",
       "\t<tr><td>Detergents_Paper</td><td>median_         </td><td>  816.500       </td></tr>\n",
       "\t<tr><td>Delicatessen    </td><td>median_         </td><td>  965.500       </td></tr>\n",
       "\t<tr><td>Fresh           </td><td>sd_             </td><td>12647.329       </td></tr>\n",
       "\t<tr><td>Milk            </td><td>sd_             </td><td> 7380.377       </td></tr>\n",
       "\t<tr><td>Grocery         </td><td>sd_             </td><td> 9503.163       </td></tr>\n",
       "\t<tr><td>Frozen          </td><td>sd_             </td><td> 4854.673       </td></tr>\n",
       "\t<tr><td>Detergents_Paper</td><td>sd_             </td><td> 4767.854       </td></tr>\n",
       "\t<tr><td>Delicatessen    </td><td>sd_             </td><td> 2820.106       </td></tr>\n",
       "</tbody>\n",
       "</table>\n"
      ],
      "text/latex": [
       "\\begin{tabular}{r|lll}\n",
       " feature & variable & value\\\\\n",
       "\\hline\n",
       "\t Fresh            & mean\\_          & 12000.298       \\\\\n",
       "\t Milk             & mean\\_          &  5796.266       \\\\\n",
       "\t Grocery          & mean\\_          &  7951.277       \\\\\n",
       "\t Frozen           & mean\\_          &  3071.932       \\\\\n",
       "\t Detergents\\_Paper & mean\\_            &  2881.493         \\\\\n",
       "\t Delicatessen     & mean\\_          &  1524.870       \\\\\n",
       "\t Fresh            & median\\_        &  8504.000       \\\\\n",
       "\t Milk             & median\\_        &  3627.000       \\\\\n",
       "\t Grocery          & median\\_        &  4755.500       \\\\\n",
       "\t Frozen           & median\\_        &  1526.000       \\\\\n",
       "\t Detergents\\_Paper & median\\_          &   816.500         \\\\\n",
       "\t Delicatessen     & median\\_        &   965.500       \\\\\n",
       "\t Fresh            & sd\\_            & 12647.329       \\\\\n",
       "\t Milk             & sd\\_            &  7380.377       \\\\\n",
       "\t Grocery          & sd\\_            &  9503.163       \\\\\n",
       "\t Frozen           & sd\\_            &  4854.673       \\\\\n",
       "\t Detergents\\_Paper & sd\\_              &  4767.854         \\\\\n",
       "\t Delicatessen     & sd\\_            &  2820.106       \\\\\n",
       "\\end{tabular}\n"
      ],
      "text/markdown": [
       "\n",
       "feature | variable | value | \n",
       "|---|---|---|---|---|---|---|---|---|---|---|---|---|---|---|---|---|---|\n",
       "| Fresh            | mean_            | 12000.298        | \n",
       "| Milk             | mean_            |  5796.266        | \n",
       "| Grocery          | mean_            |  7951.277        | \n",
       "| Frozen           | mean_            |  3071.932        | \n",
       "| Detergents_Paper | mean_            |  2881.493        | \n",
       "| Delicatessen     | mean_            |  1524.870        | \n",
       "| Fresh            | median_          |  8504.000        | \n",
       "| Milk             | median_          |  3627.000        | \n",
       "| Grocery          | median_          |  4755.500        | \n",
       "| Frozen           | median_          |  1526.000        | \n",
       "| Detergents_Paper | median_          |   816.500        | \n",
       "| Delicatessen     | median_          |   965.500        | \n",
       "| Fresh            | sd_              | 12647.329        | \n",
       "| Milk             | sd_              |  7380.377        | \n",
       "| Grocery          | sd_              |  9503.163        | \n",
       "| Frozen           | sd_              |  4854.673        | \n",
       "| Detergents_Paper | sd_              |  4767.854        | \n",
       "| Delicatessen     | sd_              |  2820.106        | \n",
       "\n",
       "\n"
      ],
      "text/plain": [
       "   feature          variable value    \n",
       "1  Fresh            mean_    12000.298\n",
       "2  Milk             mean_     5796.266\n",
       "3  Grocery          mean_     7951.277\n",
       "4  Frozen           mean_     3071.932\n",
       "5  Detergents_Paper mean_     2881.493\n",
       "6  Delicatessen     mean_     1524.870\n",
       "7  Fresh            median_   8504.000\n",
       "8  Milk             median_   3627.000\n",
       "9  Grocery          median_   4755.500\n",
       "10 Frozen           median_   1526.000\n",
       "11 Detergents_Paper median_    816.500\n",
       "12 Delicatessen     median_    965.500\n",
       "13 Fresh            sd_      12647.329\n",
       "14 Milk             sd_       7380.377\n",
       "15 Grocery          sd_       9503.163\n",
       "16 Frozen           sd_       4854.673\n",
       "17 Detergents_Paper sd_       4767.854\n",
       "18 Delicatessen     sd_       2820.106"
      ]
     },
     "metadata": {},
     "output_type": "display_data"
    }
   ],
   "source": [
    "melt(sum_vals)"
   ]
  },
  {
   "cell_type": "code",
   "execution_count": 13,
   "metadata": {},
   "outputs": [
    {
     "name": "stderr",
     "output_type": "stream",
     "text": [
      "Using feature as id variables\n"
     ]
    },
    {
     "data": {},
     "metadata": {},
     "output_type": "display_data"
    },
    {
     "data": {
      "image/png": "[encoded data removed]",
      "text/plain": [
       "plot without title"
      ]
     },
     "metadata": {},
     "output_type": "display_data",
     "source": "R display func"
    }
   ],
   "source": [
    "library(ggplot2)\n",
    "\n",
    "ggplot(melt(sum_vals), aes(x = feature, y = value, fill = variable)) + \n",
    "    geom_bar(stat = \"identity\", width=0.5, position = \"dodge\")"
   ]
  }
 ],
 "metadata": {
  "kernelspec": {
   "display_name": "R",
   "language": "R",
   "name": "ir"
  },
  "language_info": {
   "codemirror_mode": "r",
   "file_extension": ".r",
   "mimetype": "text/x-r-source",
   "name": "R",
   "pygments_lexer": "r",
   "version": "3.4.1"
  }
 },
 "nbformat": 4,
 "nbformat_minor": 2
}
